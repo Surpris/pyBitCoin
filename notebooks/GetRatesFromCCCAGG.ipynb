{
 "cells": [
  {
   "cell_type": "markdown",
   "metadata": {},
   "source": [
    "# 目的\n",
    "CCCAGGよりデータをダウンロードし、データを保存する。   \n",
    "あと、bitFlyerの方もBTC/JPYだけ落としておく。"
   ]
  },
  {
   "cell_type": "code",
   "execution_count": null,
   "metadata": {},
   "outputs": [],
   "source": [
    "import sys\n",
    "import pyBitCoin.pybitcoin as pybct\n",
    "import pickle\n",
    "import time\n",
    "\n",
    "# import matplotlib.pyplot as plt\n",
    "# from matplotlib.finance import candlestick_ohlc # v2.1.0以降では動かない\n",
    "# import mpl_finance\n",
    "# %matplotlib inline"
   ]
  },
  {
   "cell_type": "markdown",
   "metadata": {},
   "source": [
    "# 分足"
   ]
  },
  {
   "cell_type": "markdown",
   "metadata": {},
   "source": [
    "## CCCAGG"
   ]
  },
  {
   "cell_type": "code",
   "execution_count": null,
   "metadata": {
    "scrolled": true
   },
   "outputs": [],
   "source": [
    "brands_interest = [\"BTC\", \"ETH\", \"ETC\", \"LTC\", \"BCH\", \"MONA\", \"LSK\"]\n",
    "brands_into = [\"JPY\"] * len(brands_interest)\n",
    "\n",
    "# brands_interest = [\"BTC\", \"ETH\", \"BCH\"] # BTCFX, ETC, LTC, MONA, LSK はない \n",
    "# brands_into = [\"JPY\", \"BTC\", \"BTC\"]\n",
    "\n",
    "dfs = [None] * len(brands_interest)\n",
    "\n",
    "is_datetimestr = False\n",
    "datetimeFmt = \"%Y-%m-%dT%H:%M:%S.%f\"\n",
    "\n",
    "toTs_end = datetime.datetime(2018, 5, 28, 0, 1, 0).timestamp()\n",
    "toTs_last = datetime.datetime(2018, 6, 3, 0, 0, 0).timestamp() # 日本の場合は + 9:00しなくてはならない気がする\n",
    "histoticks = \"minute\"\n",
    "hours = 4 # ６回に分けてデータを取得する\n",
    "limit = int(hours*60 - 1)\n",
    "\n",
    "for ii in range(36): # とりあえず３年分に設定\n",
    "    toTs = toTs_last - ii * hours * 3600\n",
    "    datetime1 = datetime.datetime.fromtimestamp(toTs)\n",
    "    print(ii, datetime1.strftime(datetimeFmt))\n",
    "    if toTs <= toTs_end:\n",
    "        break\n",
    "    for jj in range(len(brands_interest)):\n",
    "        print(\"{} -> {}\".format(brands_interest[jj], brands_into[jj]))\n",
    "        params = {\n",
    "            \"fsym\": brands_interest[jj],\n",
    "            \"tsym\": brands_into[jj],\n",
    "            \"limit\": str(limit),\n",
    "#             \"e\": \"bitFlyer\",\n",
    "            \"toTs\":str(toTs)\n",
    "        }\n",
    "        result = pybct.core.rategetter.getRateViaCrypto(histoticks, params)\n",
    "        if ii == 0:\n",
    "            dfs[jj] = pybct.core.rategetter.toDataFrame(result, is_datetimestr)\n",
    "        else:\n",
    "            dfs[jj] = pd.concat([pybct.core.rategetter.toDataFrame(result, is_datetimestr), dfs[jj]], ignore_index=True)\n",
    "        time.sleep(10)\n",
    "#     break\n",
    "#     if ii == 2:\n",
    "#         break"
   ]
  },
  {
   "cell_type": "markdown",
   "metadata": {},
   "source": [
    "とりあえずpickleで落としておく"
   ]
  },
  {
   "cell_type": "code",
   "execution_count": null,
   "metadata": {},
   "outputs": [],
   "source": [
    "with open(\"../data/minute/test_cccagg_minute.pickle\", \"wb\") as ff:\n",
    "    pickle.dump(dfs, ff)"
   ]
  },
  {
   "cell_type": "markdown",
   "metadata": {},
   "source": [
    "### CSV保存"
   ]
  },
  {
   "cell_type": "code",
   "execution_count": null,
   "metadata": {},
   "outputs": [],
   "source": [
    "with open(\"../data/minute/test_cccagg_minute.pickle\", \"rb\") as ff:\n",
    "    dfs_cccagg = pickle.load(ff)"
   ]
  },
  {
   "cell_type": "code",
   "execution_count": null,
   "metadata": {},
   "outputs": [],
   "source": [
    "for jj in range(len(brands_interest)):\n",
    "    fpath = \"../data/minute/cccagg_{0}_{1}_{2}_{3}.csv\".\\\n",
    "            format(brands_interest[jj], brands_into[jj],\n",
    "                   datetime.datetime.fromtimestamp(toTs_end).strftime(\"%Y%m%d%H%M\"), \n",
    "                   datetime.datetime.fromtimestamp(toTs_last).strftime(\"%Y%m%d%H%M\"))\n",
    "    dfs[jj].to_csv(fpath)"
   ]
  },
  {
   "cell_type": "markdown",
   "metadata": {},
   "source": [
    "## bitFlyer"
   ]
  },
  {
   "cell_type": "code",
   "execution_count": null,
   "metadata": {},
   "outputs": [],
   "source": [
    "# brands_interest = [\"BTC\", \"ETH\", \"ETC\", \"LTC\", \"BCH\", \"MONA\", \"LSK\"]\n",
    "# brands_into = [\"JPY\", \"BTC\", \"BTC\", \"BTC\", \"BTC\", \"BTC\", \"BTC\"]\n",
    "\n",
    "brands_interest = [\"BTC\", \"ETH\", \"BCH\"] # BTCFX, ETC, LTC, MONA, LSK はない \n",
    "brands_into = [\"JPY\", \"BTC\", \"BTC\"]\n",
    "\n",
    "dfs = [None] * len(brands_interest)\n",
    "\n",
    "is_datetimestr = False\n",
    "datetimeFmt = \"%Y-%m-%dT%H:%M:%S.%f\"\n",
    "\n",
    "toTs_end = datetime.datetime(2018, 5, 28, 0, 1, 0).timestamp()\n",
    "toTs_last = datetime.datetime(2018, 6, 3, 0, 0, 0).timestamp()\n",
    "histoticks = \"minute\"\n",
    "hours = 4 # ６回に分けてデータを取得する\n",
    "limit = int(hours*60 - 1)\n",
    "\n",
    "for ii in range(36): # とりあえず３年分に設定\n",
    "    toTs = toTs_last - ii * hours * 3600\n",
    "    datetime1 = datetime.datetime.fromtimestamp(toTs)\n",
    "    print(ii, datetime1.strftime(datetimeFmt))\n",
    "    if toTs <= toTs_end:\n",
    "        break\n",
    "    for jj in range(len(brands_interest)):\n",
    "        print(\"{} -> {}\".format(brands_interest[jj], brands_into[jj]))\n",
    "        params = {\n",
    "            \"fsym\": brands_interest[jj],\n",
    "            \"tsym\": brands_into[jj],\n",
    "            \"limit\": str(limit),\n",
    "            \"e\": \"bitFlyer\",\n",
    "            \"toTs\":str(toTs)\n",
    "        }\n",
    "        result = pybct.core.rategetter.getRateViaCrypto(histoticks, params)\n",
    "        if ii == 0:\n",
    "            dfs[jj] = pybct.core.rategetter.toDataFrame(result, is_datetimestr)\n",
    "        else:\n",
    "            dfs[jj] = pd.concat([pybct.core.rategetter.toDataFrame(result, is_datetimestr), dfs[jj]], ignore_index=True)\n",
    "        time.sleep(10)\n",
    "#     break\n",
    "#     if ii == 2:\n",
    "#         break"
   ]
  },
  {
   "cell_type": "markdown",
   "metadata": {},
   "source": [
    "とりあえずpickleで落としておく"
   ]
  },
  {
   "cell_type": "code",
   "execution_count": null,
   "metadata": {},
   "outputs": [],
   "source": [
    "with open(\"../data/test_bitflyer_minute.pickle\", \"wb\") as ff:\n",
    "    pickle.dump(dfs, ff)"
   ]
  },
  {
   "cell_type": "markdown",
   "metadata": {},
   "source": [
    "### CSV保存"
   ]
  },
  {
   "cell_type": "code",
   "execution_count": null,
   "metadata": {},
   "outputs": [],
   "source": [
    "with open(\"../data/minute/test_bitflyer_minute.pickle\", \"rb\") as ff:\n",
    "    dfs_bitflyer = pickle.load(ff)"
   ]
  },
  {
   "cell_type": "code",
   "execution_count": null,
   "metadata": {},
   "outputs": [],
   "source": [
    "for jj in range(len(brands_interest)):\n",
    "    fpath = \"../data/minute/bitflyer_{0}_{1}_{2}_{3}.csv\".\\\n",
    "            format(brands_interest[jj], brands_into[jj],\n",
    "                   datetime.datetime.fromtimestamp(toTs_last).strftime(\"%Y%m%d%H%M\"), \n",
    "                   datetime.datetime.fromtimestamp(toTs_end).strftime(\"%Y%m%d%H%M\"))\n",
    "    dfs[jj].to_csv(fpath)"
   ]
  },
  {
   "cell_type": "markdown",
   "metadata": {},
   "source": [
    "# 時間足"
   ]
  },
  {
   "cell_type": "markdown",
   "metadata": {},
   "source": [
    "## CCCAGG"
   ]
  },
  {
   "cell_type": "code",
   "execution_count": null,
   "metadata": {},
   "outputs": [],
   "source": [
    "brands_interest = [\"BTC\", \"ETH\", \"ETC\", \"LTC\", \"BCH\", \"MONA\", \"LSK\"]\n",
    "brands_into = [\"JPY\"] * len(brands_interest)\n",
    "\n",
    "# brands_interest = [\"BTC\", \"ETH\", \"BCH\"] # BTCFX, ETC, LTC, MONA, LSK はない \n",
    "# brands_into = [\"JPY\", \"BTC\", \"BTC\"]\n",
    "\n",
    "dfs = [None] * len(brands_interest)\n",
    "\n",
    "is_datetimestr = False\n",
    "datetimeFmt = \"%Y-%m-%dT%H:%M:%S.%f\"\n",
    "\n",
    "toTs_end = datetime.datetime(2016, 1, 1, 1, 0, 0).timestamp()\n",
    "toTs_last = datetime.datetime(2018, 6, 1, 0, 0, 0).timestamp()\n",
    "histoticks = \"hour\"\n",
    "days = 30\n",
    "limit = int(24*days-1)\n",
    "\n",
    "for ii in range(36): # とりあえず３年分に設定\n",
    "    toTs = toTs_last - ii*days*24*3600\n",
    "    datetime1 = datetime.datetime.fromtimestamp(toTs)\n",
    "    print(ii, datetime1.strftime(datetimeFmt))\n",
    "    if toTs <= toTs_end:\n",
    "        break\n",
    "    for jj in range(len(brands_interest)):\n",
    "        print(\"{} -> {}\".format(brands_interest[jj], brands_into[jj]))\n",
    "        params = {\n",
    "            \"fsym\": brands_interest[jj],\n",
    "            \"tsym\": brands_into[jj],\n",
    "            \"limit\": str(limit),\n",
    "#             \"e\": \"bitFlyer\",\n",
    "            \"toTs\":str(toTs)\n",
    "        }\n",
    "        result = pybct.core.rategetter.getRateViaCrypto(histoticks, params)\n",
    "        if ii == 0:\n",
    "            dfs[jj] = pybct.core.rategetter.toDataFrame(result, is_datetimestr)\n",
    "        else:\n",
    "            dfs[jj] = pd.concat([pybct.core.rategetter.toDataFrame(result, is_datetimestr), dfs[jj]], ignore_index=True)\n",
    "        time.sleep(10)\n",
    "#     break\n",
    "#     if ii == 2:\n",
    "#         break"
   ]
  },
  {
   "cell_type": "markdown",
   "metadata": {},
   "source": [
    "とりあえずpickleで落としておく"
   ]
  },
  {
   "cell_type": "code",
   "execution_count": null,
   "metadata": {},
   "outputs": [],
   "source": [
    "with open(\"../data/test_cccagg_hour.pickle\", \"wb\") as ff:\n",
    "    pickle.dump(dfs, ff)"
   ]
  },
  {
   "cell_type": "markdown",
   "metadata": {},
   "source": [
    "### CSV保存"
   ]
  },
  {
   "cell_type": "code",
   "execution_count": null,
   "metadata": {},
   "outputs": [],
   "source": [
    "with open(\"../data/test_cccagg_hour.pickle\", \"rb\") as ff:\n",
    "    dfs_cccagg = pickle.load(ff)"
   ]
  },
  {
   "cell_type": "code",
   "execution_count": null,
   "metadata": {},
   "outputs": [],
   "source": [
    "for jj in range(len(brands_interest)):\n",
    "    fpath = \"../data/hour/cccagg_{0}_{1}_{2}_{3}.csv\".\\\n",
    "            format(brands_interest[jj], brands_into[jj],\n",
    "                   datetime.datetime.fromtimestamp(toTs_end).strftime(\"%Y%m%d%H\"), \n",
    "                   datetime.datetime.fromtimestamp(toTs_last).strftime(\"%Y%m%d%H\"))\n",
    "    dfs[jj].to_csv(fpath)"
   ]
  },
  {
   "cell_type": "markdown",
   "metadata": {},
   "source": [
    "## bitFlyer"
   ]
  },
  {
   "cell_type": "code",
   "execution_count": null,
   "metadata": {},
   "outputs": [],
   "source": [
    "brands_interest = [\"BTC\", \"ETH\", \"BCH\"] # BTCFX, ETC, LTC, MONA, LSK はない \n",
    "brands_into = [\"JPY\", \"BTC\", \"BTC\"]\n",
    "\n",
    "# brands_interest = [\"BTC\", \"ETH\", \"BCH\"] # BTCFX, ETC, LTC, MONA, LSK はない \n",
    "# brands_into = [\"JPY\", \"BTC\", \"BTC\"]\n",
    "\n",
    "dfs = [None] * len(brands_interest)\n",
    "\n",
    "is_datetimestr = False\n",
    "datetimeFmt = \"%Y-%m-%dT%H:%M:%S.%f\"\n",
    "\n",
    "toTs_end = datetime.datetime(2016, 1, 1, 1, 0, 0).timestamp()\n",
    "toTs_last = datetime.datetime(2018, 6, 1, 0, 0, 0).timestamp()\n",
    "histoticks = \"hour\"\n",
    "days = 30\n",
    "limit = int(24*days-1)\n",
    "\n",
    "for ii in range(36): # とりあえず３年分に設定\n",
    "    toTs = toTs_last - ii*days*24*3600\n",
    "    datetime1 = datetime.datetime.fromtimestamp(toTs)\n",
    "    print(ii, datetime1.strftime(datetimeFmt))\n",
    "    if toTs <= toTs_end:\n",
    "        break\n",
    "    for jj in range(len(brands_interest)):\n",
    "        print(\"{} -> {}\".format(brands_interest[jj], brands_into[jj]))\n",
    "        params = {\n",
    "            \"fsym\": brands_interest[jj],\n",
    "            \"tsym\": brands_into[jj],\n",
    "            \"limit\": str(limit),\n",
    "#             \"e\": \"bitFlyer\",\n",
    "            \"toTs\":str(toTs)\n",
    "        }\n",
    "        result = pybct.core.rategetter.getRateViaCrypto(histoticks, params)\n",
    "        if ii == 0:\n",
    "            dfs[jj] = pybct.core.rategetter.toDataFrame(result, is_datetimestr)\n",
    "        else:\n",
    "            dfs[jj] = pd.concat([pybct.core.rategetter.toDataFrame(result, is_datetimestr), dfs[jj]], ignore_index=True)\n",
    "        time.sleep(10)\n",
    "#     break\n",
    "#     if ii == 2:\n",
    "#         break"
   ]
  },
  {
   "cell_type": "markdown",
   "metadata": {},
   "source": [
    "とりあえずpickleで落としておく"
   ]
  },
  {
   "cell_type": "code",
   "execution_count": null,
   "metadata": {},
   "outputs": [],
   "source": [
    "with open(\"../data/hour/test_bitflyer_hour.pickle\", \"wb\") as ff:\n",
    "    pickle.dump(dfs, ff)"
   ]
  },
  {
   "cell_type": "markdown",
   "metadata": {},
   "source": [
    "### CSV保存"
   ]
  },
  {
   "cell_type": "code",
   "execution_count": null,
   "metadata": {},
   "outputs": [],
   "source": [
    "with open(\"../data/hour/test_bitflyer_hour.pickle\", \"rb\") as ff:\n",
    "    dfs_cccagg = pickle.load(ff)"
   ]
  },
  {
   "cell_type": "code",
   "execution_count": null,
   "metadata": {},
   "outputs": [],
   "source": [
    "for jj in range(len(brands_interest)):\n",
    "    fpath = \"../data/hour/bitflyer_{0}_{1}_{2}_{3}.csv\".\\\n",
    "            format(brands_interest[jj], brands_into[jj],\n",
    "                   datetime.datetime.fromtimestamp(toTs_end).strftime(\"%Y%m%d%H\"), \n",
    "                   datetime.datetime.fromtimestamp(toTs_last).strftime(\"%Y%m%d%H\"))\n",
    "    dfs[jj].to_csv(fpath)"
   ]
  },
  {
   "cell_type": "code",
   "execution_count": null,
   "metadata": {},
   "outputs": [],
   "source": []
  }
 ],
 "metadata": {
  "kernelspec": {
   "display_name": "Python 3",
   "language": "python",
   "name": "python3"
  },
  "language_info": {
   "codemirror_mode": {
    "name": "ipython",
    "version": 3
   },
   "file_extension": ".py",
   "mimetype": "text/x-python",
   "name": "python",
   "nbconvert_exporter": "python",
   "pygments_lexer": "ipython3",
   "version": "3.6.5"
  },
  "toc": {
   "base_numbering": 1,
   "nav_menu": {},
   "number_sections": true,
   "sideBar": true,
   "skip_h1_title": false,
   "title_cell": "Table of Contents",
   "title_sidebar": "Contents",
   "toc_cell": false,
   "toc_position": {},
   "toc_section_display": true,
   "toc_window_display": false
  }
 },
 "nbformat": 4,
 "nbformat_minor": 2
}
