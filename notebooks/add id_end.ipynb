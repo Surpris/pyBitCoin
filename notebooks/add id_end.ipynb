{
 "cells": [
  {
   "cell_type": "markdown",
   "metadata": {},
   "source": [
    "# 目的\n",
    "いくつかのファイルで`id_end`を入れ忘れているので、それらを追加する。"
   ]
  },
  {
   "cell_type": "code",
   "execution_count": 6,
   "metadata": {},
   "outputs": [],
   "source": [
    "import numpy as np\n",
    "import pandas as pd\n",
    "import glob"
   ]
  },
  {
   "cell_type": "code",
   "execution_count": 5,
   "metadata": {},
   "outputs": [
    {
     "data": {
      "text/plain": [
       "['../data/ohlcv\\\\OHLCV_201901010000_to_201901070000.csv',\n",
       " '../data/ohlcv\\\\OHLCV_201901070001_to_201901080000.csv',\n",
       " '../data/ohlcv\\\\OHLCV_201901080001_to_201901090000.csv',\n",
       " '../data/ohlcv\\\\OHLCV_201901090001_to_201901100000.csv',\n",
       " '../data/ohlcv\\\\OHLCV_201901100001_to_201901110000.csv',\n",
       " '../data/ohlcv\\\\OHLCV_201901110001_to_201901120000.csv',\n",
       " '../data/ohlcv\\\\OHLCV_201901120001_to_201901130000.csv',\n",
       " '../data/ohlcv\\\\OHLCV_201901130001_to_201901140000.csv',\n",
       " '../data/ohlcv\\\\OHLCV_201901140001_to_201901150000.csv',\n",
       " '../data/ohlcv\\\\OHLCV_201901150001_to_201901160000.csv',\n",
       " '../data/ohlcv\\\\OHLCV_201901160001_to_201901170000.csv',\n",
       " '../data/ohlcv\\\\OHLCV_201901170001_to_201901180000.csv',\n",
       " '../data/ohlcv\\\\OHLCV_201901180001_to_201901190000.csv',\n",
       " '../data/ohlcv\\\\OHLCV_201901190001_to_201901200000.csv']"
      ]
     },
     "execution_count": 5,
     "metadata": {},
     "output_type": "execute_result"
    }
   ],
   "source": [
    "filelist = glob.glob(\"../data/ohlcv/OHLCV_2019*.csv\")\n",
    "filelist"
   ]
  },
  {
   "cell_type": "code",
   "execution_count": 20,
   "metadata": {},
   "outputs": [],
   "source": [
    "columns = [\"time\", \"id_start\", \"id_end\", \"open\", \"high\", \"low\", \"close\", \"volume\"]\n",
    "for ii in range(len(filelist)-2):\n",
    "    df1 = pd.read_csv(filelist[ii], index_col=0)\n",
    "    df2 = pd.read_csv(filelist[ii + 1], index_col=0)\n",
    "    id_ends = np.zeros(len(df1), dtype=int)\n",
    "    id_ends[:-1] = df1[\"id_start\"].values[1:].copy() - 1\n",
    "    id_ends[-1] = df2[\"id_start\"].values[0] - 1\n",
    "    df1[\"id_end\"] = pd.Series(id_ends)\n",
    "    df = df1.loc[:, columns]\n",
    "    df.to_csv(filelist[ii])\n",
    "#     break"
   ]
  }
 ],
 "metadata": {
  "kernelspec": {
   "display_name": "Python 3",
   "language": "python",
   "name": "python3"
  },
  "language_info": {
   "codemirror_mode": {
    "name": "ipython",
    "version": 3
   },
   "file_extension": ".py",
   "mimetype": "text/x-python",
   "name": "python",
   "nbconvert_exporter": "python",
   "pygments_lexer": "ipython3",
   "version": "3.7.1"
  }
 },
 "nbformat": 4,
 "nbformat_minor": 2
}
