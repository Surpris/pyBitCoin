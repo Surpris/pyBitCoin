{
 "cells": [
  {
   "cell_type": "markdown",
   "metadata": {
    "colab_type": "text",
    "id": "akHDvSlNt7bf"
   },
   "source": [
    "# 目的\n",
    "CryptoCompareから取得されたデータを用いていろいろやってみる。"
   ]
  },
  {
   "cell_type": "markdown",
   "metadata": {
    "colab_type": "text",
    "id": "t0CBgvK03G54"
   },
   "source": [
    "# getRateViaCrypto()\n",
    "CryptoCopmareからデータを取得する。"
   ]
  },
  {
   "cell_type": "code",
   "execution_count": null,
   "metadata": {
    "colab": {
     "autoexec": {
      "startup": false,
      "wait_interval": 0
     },
     "base_uri": "https://localhost:8080/",
     "height": 598
    },
    "colab_type": "code",
    "executionInfo": {
     "elapsed": 1498,
     "status": "ok",
     "timestamp": 1527939950249,
     "user": {
      "displayName": "Toshiyuki Nishiyama",
      "photoUrl": "//lh3.googleusercontent.com/-7U4YQlXbGP4/AAAAAAAAAAI/AAAAAAAABD8/_0d8gpiO0-c/s50-c-k-no/photo.jpg",
      "userId": "104217885941164940861"
     },
     "user_tz": -540
    },
    "id": "pG-0R5k33OW8",
    "outputId": "1ed4e78c-9808-40bf-bcff-82d6f04c2f89"
   },
   "outputs": [],
   "source": [
    "import urllib.request\n",
    "import urllib.parse\n",
    "import json\n",
    "\n",
    "def getRateViaCrypto(histoticks, params):\n",
    "    \"\"\"getRateViaCrypto(histoticks, params)\n",
    "    get rate via CryptoCompare (https://min-api.cryptocompare.com/).\n",
    "    params should be a dict object with items of str.\n",
    "    <params>\n",
    "    histoticks: day, hour, minute or some tick (see the site)\n",
    "    params: parameters to send the site \n",
    "        fsym : currency symbol of interest (required)\n",
    "        tsym : currency symbol to convert into (required)\n",
    "        limit: limit of retrieved data (max: 2000)\n",
    "        e    : the exchange to obtain data from (CCCAGG - by default)\n",
    "        toTs : last unix timestamp to return data for\n",
    "    </params>\n",
    "    \n",
    "    <return>\n",
    "    retrieved data (json object)\n",
    "    </return>\n",
    "    \"\"\"\n",
    "    \n",
    "    url = \"https://min-api.cryptocompare.com/data/\"\n",
    "    url += \"histo{}\".format(histoticks) + \"?\" + urllib.parse.urlencode(params) \n",
    "    res = urllib.request.urlopen(url)\n",
    "    result = json.loads(res.read().decode('utf-8'))\n",
    "    return result\n",
    "\n",
    "if __name__ == \"__main__\":\n",
    "    histoticks = \"hour\"\n",
    "    params = {\n",
    "        \"fsym\": \"BTC\",\n",
    "        \"tsym\": \"JPY\",\n",
    "        \"limit\": \"24\",\n",
    "        \"e\": \"bitFlyer\"\n",
    "    }\n",
    "    result = getRateViaCrypto(histoticks, params)\n",
    "    for key in result.keys():\n",
    "        if key != \"Data\":\n",
    "            print(key, result[key])\n",
    "        else:\n",
    "            print(key)\n",
    "            for data in result[key]:\n",
    "                print(data)"
   ]
  },
  {
   "cell_type": "markdown",
   "metadata": {
    "colab_type": "text",
    "id": "wsYDA3g3uOEQ"
   },
   "source": [
    "# toDataFrame(), toCSV()\n",
    "CryptoCompareから取得されたデータ中のDataをpandas.DataFrameに変換する。また、csvファイルとして保存する。   \n",
    "基本的なプロセスは次のようにシンプル。\n",
    "\n",
    "1. CryptoCopmareから取得する\n",
    "1. keyをカラム名としてpandas.DataFrameを用意する\n",
    "1. DataFrame.to_csv()で保存する"
   ]
  },
  {
   "cell_type": "code",
   "execution_count": null,
   "metadata": {
    "colab": {
     "autoexec": {
      "startup": false,
      "wait_interval": 0
     },
     "base_uri": "https://localhost:8080/",
     "height": 136
    },
    "colab_type": "code",
    "executionInfo": {
     "elapsed": 1335,
     "status": "ok",
     "timestamp": 1527939955518,
     "user": {
      "displayName": "Toshiyuki Nishiyama",
      "photoUrl": "//lh3.googleusercontent.com/-7U4YQlXbGP4/AAAAAAAAAAI/AAAAAAAABD8/_0d8gpiO0-c/s50-c-k-no/photo.jpg",
      "userId": "104217885941164940861"
     },
     "user_tz": -540
    },
    "id": "Kekq0NRStxZH",
    "outputId": "455a7a3d-a46e-4dfa-bff9-6cde8ca2ec47"
   },
   "outputs": [],
   "source": [
    "import numpy as np\n",
    "import pandas as pd\n",
    "import copy\n",
    "import datetime\n",
    "\n",
    "datetimeFmt = \"%Y-%m-%dT%H:%M:%S.%f\"\n",
    "\n",
    "def toDataFrame(data, is_datetime=False):\n",
    "    \"\"\"toDataFrame(data)\n",
    "    convert data to a DataFrame object.\n",
    "    'data' is obtained from CryptoCompare.\n",
    "    The values in the 'time' are converted to datetime strings \n",
    "    if 'is_datetime' == True.\n",
    "    \n",
    "    <params>\n",
    "    data       : data obtained from CryptoCompare (dict object)\n",
    "    is_datetime: boolean\n",
    "    </params>\n",
    "    \n",
    "    <return>\n",
    "    a DataFrame object\n",
    "    </return>\n",
    "    \"\"\"\n",
    "    \n",
    "    if not isinstance(data, dict):\n",
    "        raise TypeError\n",
    "    keys = data[\"Data\"][0].keys()\n",
    "    \n",
    "    output = np.zeros((len(data[\"Data\"]), len(keys)), dtype=object)\n",
    "    for ii, col in enumerate(data[\"Data\"]):\n",
    "        if is_datetime:\n",
    "            buff = copy.deepcopy(col)\n",
    "            datetime1 = datetime.datetime.fromtimestamp(buff[\"time\"])\n",
    "            buff[\"time\"] = datetime1.strftime(datetimeFmt)\n",
    "            output[ii] = np.array([buff[key] for key in keys], dtype=object)\n",
    "        else:\n",
    "            output[ii] = np.array([col[key] for key in keys])\n",
    "        \n",
    "    return pd.DataFrame(output, columns=list(keys))\n",
    "    \n",
    "\n",
    "def toCSV(data, fpath, is_datetime=False):\n",
    "    \"\"\"toCSV(data, fpath)\n",
    "    save data to a csv file with the path of 'fpath'.\n",
    "    'data' must have datasets specified by the 'Data' key.\n",
    "    The values in the 'time' are converted to datetime strings \n",
    "    if 'is_datetime' == True.\n",
    "    \n",
    "    <params>\n",
    "    data       : data obtained from CryptoCompare (dict object)\n",
    "    fpath      : full (or relative) path to save data to\n",
    "    is_datetime: boolean\n",
    "    </params>\n",
    "    \n",
    "    <return>\n",
    "    None\n",
    "    </return>\n",
    "    \"\"\"\n",
    "    df = toDataFrame(data)\n",
    "    df.to_csv(fpath)\n",
    "\n",
    "if __name__ == \"__main__\":\n",
    "    histoticks = \"hour\"\n",
    "    params = {\n",
    "        \"fsym\": \"BTC\",\n",
    "        \"tsym\": \"JPY\",\n",
    "        \"limit\": \"5\",\n",
    "        \"e\": \"bitFlyer\"\n",
    "    }\n",
    "    result = getRateViaCrypto(histoticks, params)\n",
    "    print(toDataFrame(result, False))\n",
    "    toCSV(result, \"./test.csv\")"
   ]
  },
  {
   "cell_type": "code",
   "execution_count": null,
   "metadata": {
    "colab": {
     "autoexec": {
      "startup": false,
      "wait_interval": 0
     },
     "base_uri": "https://localhost:8080/",
     "height": 34
    },
    "colab_type": "code",
    "executionInfo": {
     "elapsed": 1806,
     "status": "ok",
     "timestamp": 1527607938464,
     "user": {
      "displayName": "Toshiyuki Nishiyama",
      "photoUrl": "//lh3.googleusercontent.com/-7U4YQlXbGP4/AAAAAAAAAAI/AAAAAAAABD8/_0d8gpiO0-c/s50-c-k-no/photo.jpg",
      "userId": "104217885941164940861"
     },
     "user_tz": -540
    },
    "id": "wwT36XWK54gc",
    "outputId": "6f68f252-41fc-4b50-88f7-4fee0fd2b35c"
   },
   "outputs": [],
   "source": [
    "!ls"
   ]
  },
  {
   "cell_type": "markdown",
   "metadata": {
    "colab_type": "text",
    "id": "3xThRl7CKBjY"
   },
   "source": [
    "# ローソク足チャートの描画\n",
    "[こちら](http://nekopuni.holy.jp/2015/01/pythonnysol%E7%82%BA%E6%9B%BF%E9%AB%98%E9%A0%BB%E5%BA%A6%E3%83%87%E3%83%BC%E3%82%BF%E3%81%8B%E3%82%89%E4%BB%BB%E6%84%8F%E3%81%AE%E3%83%AD%E3%82%A6%E3%82%BD%E3%82%AF%E8%B6%B3%E3%83%81%E3%83%A3/)を参照。"
   ]
  },
  {
   "cell_type": "code",
   "execution_count": null,
   "metadata": {
    "colab": {
     "autoexec": {
      "startup": false,
      "wait_interval": 0
     },
     "base_uri": "https://localhost:8080/",
     "height": 536
    },
    "colab_type": "code",
    "executionInfo": {
     "elapsed": 776,
     "status": "ok",
     "timestamp": 1527607940312,
     "user": {
      "displayName": "Toshiyuki Nishiyama",
      "photoUrl": "//lh3.googleusercontent.com/-7U4YQlXbGP4/AAAAAAAAAAI/AAAAAAAABD8/_0d8gpiO0-c/s50-c-k-no/photo.jpg",
      "userId": "104217885941164940861"
     },
     "user_tz": -540
    },
    "id": "Yqaby8nGIjnQ",
    "outputId": "f2751c33-3269-4b63-f674-facf450ea3f0"
   },
   "outputs": [],
   "source": [
    "import matplotlib.pyplot as plt\n",
    "from matplotlib.finance import candlestick_ohlc\n",
    "%matplotlib inline\n",
    "\n",
    "df = toDataFrame(result, False)\n",
    "timestamps = df[\"time\"].as_matrix()\n",
    "\n",
    "\n",
    "# cand\n",
    "fig, axes = plt.subplots(figsize=(4, 4))\n",
    "candlestick_ohlc(axes, df[[\"time\", \"open\", \"high\", \"low\", \"close\"]].values, width=np.diff(timestamps)[0]*0.8)"
   ]
  },
  {
   "cell_type": "markdown",
   "metadata": {
    "colab_type": "text",
    "id": "yCO5SVKLQXnH"
   },
   "source": [
    "# データのダウンロード\n",
    "google.colab.files.download(filepath)で可能。"
   ]
  },
  {
   "cell_type": "code",
   "execution_count": null,
   "metadata": {
    "colab": {
     "autoexec": {
      "startup": false,
      "wait_interval": 0
     },
     "base_uri": "https://localhost:8080/",
     "height": 321
    },
    "colab_type": "code",
    "executionInfo": {
     "elapsed": 547,
     "status": "error",
     "timestamp": 1527607978059,
     "user": {
      "displayName": "Toshiyuki Nishiyama",
      "photoUrl": "//lh3.googleusercontent.com/-7U4YQlXbGP4/AAAAAAAAAAI/AAAAAAAABD8/_0d8gpiO0-c/s50-c-k-no/photo.jpg",
      "userId": "104217885941164940861"
     },
     "user_tz": -540
    },
    "id": "NnYdH-TtKein",
    "outputId": "c1e066b9-c222-4834-9afe-b30d8841cf01"
   },
   "outputs": [],
   "source": [
    "from google.colab import files\n",
    "\n",
    "files.download(\"./test.csv\")"
   ]
  },
  {
   "cell_type": "markdown",
   "metadata": {
    "colab_type": "text",
    "id": "UzhVvqmlQe8R"
   },
   "source": [
    "# データを連続で落としてみる\n",
    "とはいえ間髪入れずにリクエストするのはよくないので、１分おきにリクエストする。"
   ]
  },
  {
   "cell_type": "markdown",
   "metadata": {
    "colab_type": "text",
    "id": "s8mQab5iQ1oy"
   },
   "source": [
    "## DataFrameのテスト\n",
    "取得したデータを縦結合したいので、そのテスト。   \n",
    "`pandas.concat(df_list, **kwargs)` を用いる。"
   ]
  },
  {
   "cell_type": "code",
   "execution_count": null,
   "metadata": {
    "colab": {
     "autoexec": {
      "startup": false,
      "wait_interval": 0
     },
     "base_uri": "https://localhost:8080/",
     "height": 421
    },
    "colab_type": "code",
    "executionInfo": {
     "elapsed": 485,
     "status": "ok",
     "timestamp": 1525624019089,
     "user": {
      "displayName": "Toshiyuki Nishiyama",
      "photoUrl": "//lh3.googleusercontent.com/-7U4YQlXbGP4/AAAAAAAAAAI/AAAAAAAABD8/_0d8gpiO0-c/s50-c-k-no/photo.jpg",
      "userId": "104217885941164940861"
     },
     "user_tz": -540
    },
    "id": "m7e-EjvrQ76o",
    "outputId": "3caf9bef-e5ac-44b6-8947-f1d8b82e4b51"
   },
   "outputs": [],
   "source": [
    "b = pd.concat([df, df], ignore_index=True)\n",
    "b"
   ]
  },
  {
   "cell_type": "markdown",
   "metadata": {
    "colab_type": "text",
    "id": "144NrKP0Wz2g"
   },
   "source": [
    "とりあえず１日分を落としてみる。   \n",
    "実際にはlimitに指定した数より１個多めにとっている？"
   ]
  },
  {
   "cell_type": "code",
   "execution_count": null,
   "metadata": {
    "colab": {
     "autoexec": {
      "startup": false,
      "wait_interval": 0
     },
     "base_uri": "https://localhost:8080/",
     "height": 36
    },
    "colab_type": "code",
    "executionInfo": {
     "elapsed": 475,
     "status": "ok",
     "timestamp": 1525625408596,
     "user": {
      "displayName": "Toshiyuki Nishiyama",
      "photoUrl": "//lh3.googleusercontent.com/-7U4YQlXbGP4/AAAAAAAAAAI/AAAAAAAABD8/_0d8gpiO0-c/s50-c-k-no/photo.jpg",
      "userId": "104217885941164940861"
     },
     "user_tz": -540
    },
    "id": "CUvTvkV9XDXO",
    "outputId": "9756268b-50e0-481f-8189-69079f4557d4"
   },
   "outputs": [],
   "source": [
    "toTs = datetime.datetime(2018, 5, 6).timestamp()\n",
    "toTs"
   ]
  },
  {
   "cell_type": "code",
   "execution_count": null,
   "metadata": {
    "colab": {
     "autoexec": {
      "startup": false,
      "wait_interval": 0
     },
     "base_uri": "https://localhost:8080/",
     "height": 580
    },
    "colab_type": "code",
    "executionInfo": {
     "elapsed": 1338,
     "status": "ok",
     "timestamp": 1525626162432,
     "user": {
      "displayName": "Toshiyuki Nishiyama",
      "photoUrl": "//lh3.googleusercontent.com/-7U4YQlXbGP4/AAAAAAAAAAI/AAAAAAAABD8/_0d8gpiO0-c/s50-c-k-no/photo.jpg",
      "userId": "104217885941164940861"
     },
     "user_tz": -540
    },
    "id": "QlWvH7A3O9nu",
    "outputId": "30bbbe6d-37ce-409c-c890-51c91741cb50"
   },
   "outputs": [],
   "source": [
    "toTs = datetime.datetime(2018, 5, 6).timestamp()\n",
    "histoticks = \"hour\"\n",
    "params = {\n",
    "    \"fsym\": \"BTC\",\n",
    "    \"tsym\": \"JPY\",\n",
    "    \"limit\": \"23\",\n",
    "    \"e\": \"bitFlyer\",\n",
    "    \"toTs\":str(toTs)\n",
    "}\n",
    "result = getRateViaCrypto(histoticks, params)\n",
    "for key in result.keys():\n",
    "    if key != \"Data\":\n",
    "        print(key, result[key])\n",
    "    else:\n",
    "        print(key)\n",
    "        for data in result[key]:\n",
    "            print(data)"
   ]
  },
  {
   "cell_type": "markdown",
   "metadata": {
    "colab_type": "text",
    "id": "rh07lkQqaJ20"
   },
   "source": [
    "30日分を落としてみる。"
   ]
  },
  {
   "cell_type": "code",
   "execution_count": null,
   "metadata": {
    "colab": {
     "autoexec": {
      "startup": false,
      "wait_interval": 0
     },
     "base_uri": "https://localhost:8080/",
     "height": 359
    },
    "colab_type": "code",
    "executionInfo": {
     "elapsed": 1780,
     "status": "ok",
     "timestamp": 1525627334797,
     "user": {
      "displayName": "Toshiyuki Nishiyama",
      "photoUrl": "//lh3.googleusercontent.com/-7U4YQlXbGP4/AAAAAAAAAAI/AAAAAAAABD8/_0d8gpiO0-c/s50-c-k-no/photo.jpg",
      "userId": "104217885941164940861"
     },
     "user_tz": -540
    },
    "id": "V4yUAzOuaM9E",
    "outputId": "419eb60f-ab6f-43c6-cf8a-ac3d2c587594"
   },
   "outputs": [],
   "source": [
    "toTs = datetime.datetime(2016, 1, 1, 23, 0, 0).timestamp()\n",
    "histoticks = \"hour\"\n",
    "days = 30\n",
    "\n",
    "params = {\n",
    "    \"fsym\": \"BTC\",\n",
    "    \"tsym\": \"JPY\",\n",
    "    \"limit\": str(int(24*days-1)),\n",
    "    \"e\": \"bitFlyer\",\n",
    "    \"toTs\":str(toTs)\n",
    "}\n",
    "result = getRateViaCrypto(histoticks, params)\n",
    "df = toDataFrame(result, True)\n",
    "df.tail(10)"
   ]
  },
  {
   "cell_type": "markdown",
   "metadata": {
    "colab_type": "text",
    "id": "oaYvA5PMbh-k"
   },
   "source": [
    "連続して取ってみて、結合してみる。   \n",
    "ちょっと調べてみたところ、bitFlyerでは2016年01月くらいからがっつりデータが得られそう。   \n",
    "なのでそこまでのデータを使用する。"
   ]
  },
  {
   "cell_type": "code",
   "execution_count": null,
   "metadata": {
    "colab": {
     "autoexec": {
      "startup": false,
      "wait_interval": 0
     },
     "base_uri": "https://localhost:8080/",
     "height": 529
    },
    "colab_type": "code",
    "executionInfo": {
     "elapsed": 324598,
     "status": "ok",
     "timestamp": 1525627963416,
     "user": {
      "displayName": "Toshiyuki Nishiyama",
      "photoUrl": "//lh3.googleusercontent.com/-7U4YQlXbGP4/AAAAAAAAAAI/AAAAAAAABD8/_0d8gpiO0-c/s50-c-k-no/photo.jpg",
      "userId": "104217885941164940861"
     },
     "user_tz": -540
    },
    "id": "_967nAZUa7sj",
    "outputId": "122e554d-f730-45ef-d0c6-ecbf54d2c1c6"
   },
   "outputs": [],
   "source": [
    "import time\n",
    "\n",
    "datetimeFmt = \"%Y-%m-%dT%H:%M:%S.%f\"\n",
    "\n",
    "toTs_end = datetime.datetime(2016, 1, 1, 0, 0, 0).timestamp()\n",
    "toTs_last = datetime.datetime(2018, 4, 30, 23, 0, 0).timestamp()\n",
    "histoticks = \"hour\"\n",
    "days = 30\n",
    "limit = int(24*days-1)\n",
    "\n",
    "for ii in range(36): # とりあえず３年分に設定\n",
    "    toTs = toTs_last - ii*days*24*3600\n",
    "    datetime1 = datetime.datetime.fromtimestamp(toTs)\n",
    "    print(ii, datetime1.strftime(datetimeFmt))\n",
    "    if toTs <= toTs_end:\n",
    "        break\n",
    "    params = {\n",
    "        \"fsym\": \"BTC\",\n",
    "        \"tsym\": \"JPY\",\n",
    "        \"limit\": str(limit),\n",
    "        \"e\": \"bitFlyer\",\n",
    "        \"toTs\":str(toTs)\n",
    "    }\n",
    "    result = getRateViaCrypto(histoticks, params)\n",
    "    if ii == 0:\n",
    "        df = toDataFrame(result, True)\n",
    "    else:\n",
    "        df = pd.concat([toDataFrame(result, True), df], ignore_index=True)\n",
    "    time.sleep(10)\n",
    "#     if ii == 2:\n",
    "#         break"
   ]
  },
  {
   "cell_type": "code",
   "execution_count": null,
   "metadata": {
    "colab": {
     "autoexec": {
      "startup": false,
      "wait_interval": 0
     },
     "base_uri": "https://localhost:8080/",
     "height": 359
    },
    "colab_type": "code",
    "executionInfo": {
     "elapsed": 575,
     "status": "ok",
     "timestamp": 1525628476215,
     "user": {
      "displayName": "Toshiyuki Nishiyama",
      "photoUrl": "//lh3.googleusercontent.com/-7U4YQlXbGP4/AAAAAAAAAAI/AAAAAAAABD8/_0d8gpiO0-c/s50-c-k-no/photo.jpg",
      "userId": "104217885941164940861"
     },
     "user_tz": -540
    },
    "id": "BsPs8k4kc6c_",
    "outputId": "0f897376-494a-463c-bbff-39af09876a91"
   },
   "outputs": [],
   "source": [
    "df.head(10)"
   ]
  },
  {
   "cell_type": "code",
   "execution_count": null,
   "metadata": {
    "colab": {
     "autoexec": {
      "startup": false,
      "wait_interval": 0
     },
     "base_uri": "https://localhost:8080/",
     "height": 359
    },
    "colab_type": "code",
    "executionInfo": {
     "elapsed": 480,
     "status": "ok",
     "timestamp": 1525628554740,
     "user": {
      "displayName": "Toshiyuki Nishiyama",
      "photoUrl": "//lh3.googleusercontent.com/-7U4YQlXbGP4/AAAAAAAAAAI/AAAAAAAABD8/_0d8gpiO0-c/s50-c-k-no/photo.jpg",
      "userId": "104217885941164940861"
     },
     "user_tz": -540
    },
    "id": "vtReM0ocjDk-",
    "outputId": "41416492-ad90-491a-a903-f1d1d7dc34c3"
   },
   "outputs": [],
   "source": [
    "df.tail(10)"
   ]
  },
  {
   "cell_type": "markdown",
   "metadata": {
    "colab_type": "text",
    "id": "WN-tNnBQkDgH"
   },
   "source": [
    "くしくも2016年01月から2018年04月末までの時間足のデータが入手できたので、保存しておく。"
   ]
  },
  {
   "cell_type": "code",
   "execution_count": null,
   "metadata": {
    "colab": {
     "autoexec": {
      "startup": false,
      "wait_interval": 0
     }
    },
    "colab_type": "code",
    "id": "WLN0b6y9jEs8"
   },
   "outputs": [],
   "source": [
    "df.to_csv(\"./test.csv\")"
   ]
  },
  {
   "cell_type": "code",
   "execution_count": null,
   "metadata": {
    "colab": {
     "autoexec": {
      "startup": false,
      "wait_interval": 0
     }
    },
    "colab_type": "code",
    "id": "xy3XZYtUkTVu"
   },
   "outputs": [],
   "source": [
    "from google.colab import files\n",
    "\n",
    "files.download(\"./test.csv\")"
   ]
  },
  {
   "cell_type": "markdown",
   "metadata": {
    "colab_type": "text",
    "id": "ZpPwRn2iUmEq"
   },
   "source": [
    "# BitFlyerのデータを取得する\n",
    "BitFlyerで扱われているのは次の銘柄。\n",
    "\n",
    "* BTC\n",
    "    + BTC-FX\n",
    "* ETH\n",
    "* ETC\n",
    "* LTC\n",
    "* BCH\n",
    "* MONA\n",
    "* LSK"
   ]
  },
  {
   "cell_type": "markdown",
   "metadata": {
    "colab_type": "text",
    "id": "18qtnR8RWw5p"
   },
   "source": [
    "## bitFlyerのすべての銘柄のデータを落とす"
   ]
  },
  {
   "cell_type": "code",
   "execution_count": null,
   "metadata": {
    "colab": {
     "autoexec": {
      "startup": false,
      "wait_interval": 0
     },
     "base_uri": "https://localhost:8080/",
     "height": 253
    },
    "colab_type": "code",
    "executionInfo": {
     "elapsed": 1302,
     "status": "error",
     "timestamp": 1527952668600,
     "user": {
      "displayName": "Toshiyuki Nishiyama",
      "photoUrl": "//lh3.googleusercontent.com/-7U4YQlXbGP4/AAAAAAAAAAI/AAAAAAAABD8/_0d8gpiO0-c/s50-c-k-no/photo.jpg",
      "userId": "104217885941164940861"
     },
     "user_tz": -540
    },
    "id": "1IAt2AqhWwmF",
    "outputId": "3f0efef0-de79-4f31-9dac-599fd7b6ae31"
   },
   "outputs": [],
   "source": [
    "# brands_interest = [\"BTC\", \"BTCFX\", \"ETH\", \"ETC\", \"LTC\", \"BCH\", \"MONA\", \"LSK\"]\n",
    "# brands_interest = [\"JPY\", \"BTC\", \"BTC\", \"BTC\", \"BTC\", \"BTC\", \"BTC\", \"BTC\"]\n",
    "\n",
    "brands_interest = [\"BTC\", \"ETH\", \"BCH\"] # BTCFX, ETC, LTC, MONA, LSK はない \n",
    "brands_interest = [\"JPY\", \"BTC\", \"BTC\"]\n",
    "dfs = [None] * len(brands)\n",
    "\n",
    "import time\n",
    "\n",
    "datetimeFmt = \"%Y-%m-%dT%H:%M:%S.%f\"\n",
    "\n",
    "toTs_end = datetime.datetime(2016, 1, 1, 0, 0, 0).timestamp()\n",
    "toTs_last = datetime.datetime(2018, 4, 30, 23, 0, 0).timestamp()\n",
    "histoticks = \"hour\"\n",
    "days = 30\n",
    "limit = int(24*days-1)\n",
    "\n",
    "for ii in range(36): # とりあえず３年分に設定\n",
    "    toTs = toTs_last - ii*days*24*3600\n",
    "    datetime1 = datetime.datetime.fromtimestamp(toTs)\n",
    "    print(ii, datetime1.strftime(datetimeFmt))\n",
    "    if toTs <= toTs_end:\n",
    "        break\n",
    "    for jj in range(len(brands)):\n",
    "        print(brands[jj])\n",
    "        params = {\n",
    "            \"fsym\": brands[jj],\n",
    "            \"tsym\": \"JPY\",\n",
    "            \"limit\": str(limit),\n",
    "            \"e\": \"bitFlyer\",\n",
    "            \"toTs\":str(toTs)\n",
    "        }\n",
    "        result = getRateViaCrypto(histoticks, params)\n",
    "        if ii == 0:\n",
    "            dfs[jj] = toDataFrame(result, True)\n",
    "        else:\n",
    "            dfs[jj] = pd.concat([toDataFrame(result, True), dfs[jj]], ignore_index=True)\n",
    "        time.sleep(10)\n",
    "#     if ii == 2:\n",
    "#         break"
   ]
  },
  {
   "cell_type": "code",
   "execution_count": null,
   "metadata": {
    "colab": {
     "autoexec": {
      "startup": false,
      "wait_interval": 0
     }
    },
    "colab_type": "code",
    "id": "gvIjbBR_WzDE"
   },
   "outputs": [],
   "source": []
  }
 ],
 "metadata": {
  "colab": {
   "collapsed_sections": [],
   "default_view": {},
   "name": "Test some functions.ipynb",
   "provenance": [],
   "toc_visible": true,
   "version": "0.3.2",
   "views": {}
  },
  "kernelspec": {
   "display_name": "Python 3",
   "language": "python",
   "name": "python3"
  },
  "language_info": {
   "codemirror_mode": {
    "name": "ipython",
    "version": 3
   },
   "file_extension": ".py",
   "mimetype": "text/x-python",
   "name": "python",
   "nbconvert_exporter": "python",
   "pygments_lexer": "ipython3",
   "version": "3.5.5"
  },
  "toc": {
   "base_numbering": 1,
   "nav_menu": {},
   "number_sections": true,
   "sideBar": true,
   "skip_h1_title": false,
   "title_cell": "Table of Contents",
   "title_sidebar": "Contents",
   "toc_cell": false,
   "toc_position": {},
   "toc_section_display": true,
   "toc_window_display": true
  }
 },
 "nbformat": 4,
 "nbformat_minor": 1
}
