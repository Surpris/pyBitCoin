{
 "cells": [
  {
   "cell_type": "markdown",
   "metadata": {},
   "source": [
    "# 目的\n",
    "（ほぼ）１秒ごとに取得されたtickerのデータセットに内在する何かしらの相関を探る。   \n",
    "このノートでは、ある時刻までのbest bid & best askの値と相関があるのかどうかチェックする。"
   ]
  },
  {
   "cell_type": "code",
   "execution_count": null,
   "metadata": {
    "ExecuteTime": {
     "end_time": "2018-07-21T13:14:00.069631Z",
     "start_time": "2018-07-21T13:13:57.572186Z"
    }
   },
   "outputs": [],
   "source": [
    "import pandas as pd\n",
    "import glob\n",
    "import os\n",
    "import matplotlib.pyplot as plt\n",
    "from scipy.signal import lfilter\n",
    "\n",
    "%matplotlib inline"
   ]
  },
  {
   "cell_type": "code",
   "execution_count": null,
   "metadata": {
    "ExecuteTime": {
     "end_time": "2018-07-20T12:51:24.796471Z",
     "start_time": "2018-07-20T12:51:24.787469Z"
    }
   },
   "outputs": [],
   "source": [
    "def calc_EMA(x, N):\n",
    "    \"\"\"calc_EMA(x, N) -> array-like\n",
    "    calculate exponential moving average (EMA)\n",
    "    \"\"\"\n",
    "    return _calc_EMA(x, 2./(N + 1.))\n",
    "\n",
    "def _calc_EMA(x, alpha):\n",
    "    \"\"\" _calc_EMA(x, alpha) -> array-like\n",
    "    Adopted from https://qiita.com/toyolab/items/6872b32d9fa1763345d8\n",
    "    \"\"\"\n",
    "    y,_ = lfilter([alpha], [1,alpha-1], x, zi=[x[0]*(1-alpha)])\n",
    "    return y"
   ]
  },
  {
   "cell_type": "code",
   "execution_count": null,
   "metadata": {
    "ExecuteTime": {
     "end_time": "2018-07-21T13:27:41.422404Z",
     "start_time": "2018-07-21T13:27:41.412403Z"
    }
   },
   "outputs": [],
   "source": [
    "def ccf(y, y2=None, mode='full'):\n",
    "    if y2 is None:\n",
    "        y2 = y\n",
    "    y_acf = np.correlate(y, y2, mode=mode)\n",
    "    if mode == 'full':\n",
    "        y_acf = y_acf[y_acf.size//2:]\n",
    "    y_acf /= len(y_acf)\n",
    "    y_sqr = np.mean(y**2)\n",
    "    return y_acf/y_sqr - 1."
   ]
  },
  {
   "cell_type": "code",
   "execution_count": null,
   "metadata": {
    "ExecuteTime": {
     "end_time": "2018-07-21T13:14:22.750945Z",
     "start_time": "2018-07-21T13:14:22.735944Z"
    }
   },
   "outputs": [],
   "source": [
    "fldrpath = r\"C:\\Users\\take9\\Desktop\\data_\"\n",
    "filelist = glob.glob(os.path.join(fldrpath, \"*.csv\"))\n",
    "print(len(filelist))"
   ]
  },
  {
   "cell_type": "code",
   "execution_count": null,
   "metadata": {
    "ExecuteTime": {
     "end_time": "2018-07-21T13:27:36.784669Z",
     "start_time": "2018-07-21T13:27:36.746671Z"
    },
    "scrolled": true
   },
   "outputs": [],
   "source": [
    "data = pd.read_csv(filelist[1], index_col=0)\n",
    "print(data.columns)"
   ]
  },
  {
   "cell_type": "markdown",
   "metadata": {},
   "source": [
    "# Best ask and bid"
   ]
  },
  {
   "cell_type": "code",
   "execution_count": null,
   "metadata": {
    "ExecuteTime": {
     "end_time": "2018-07-21T13:27:38.940569Z",
     "start_time": "2018-07-21T13:27:37.890401Z"
    },
    "scrolled": false
   },
   "outputs": [],
   "source": [
    "plt.figure(figsize=(18,36))\n",
    "for ii in range(36):\n",
    "    plt.subplot(12, 3, ii + 1)\n",
    "    data_ = data[\"ltp\"].values[ii*100:(ii+1)*100]\n",
    "#     best_ask_ = data[\"best_ask\"].values[ii*100:(ii+1)*100] * data[\"best_ask_size\"].values[ii*100:(ii+1)*100]\n",
    "#     best_bid_ = data[\"best_bid\"].values[ii*100:(ii+1)*100] * data[\"best_bid_size\"].values[ii*100:(ii+1)*100]\n",
    "    best_ask_ = data[\"best_ask\"].values[ii*100:(ii+1)*100]\n",
    "    best_bid_ = data[\"best_bid\"].values[ii*100:(ii+1)*100]\n",
    "    plt.plot(data_ - data_[0], \"#E74C3C\")\n",
    "    ax2 = plt.gca().twinx()\n",
    "    ax2.plot(np.arange(0, 100), best_ask_ - best_bid_, \"#16A085\")\n",
    "    ax2.hlines(0, 100, 0, linestyles=\"--\")\n",
    "    plt.grid()\n",
    "    break\n",
    "plt.tight_layout()"
   ]
  },
  {
   "cell_type": "markdown",
   "metadata": {},
   "source": [
    "相関をとってみる。"
   ]
  },
  {
   "cell_type": "code",
   "execution_count": null,
   "metadata": {
    "ExecuteTime": {
     "end_time": "2018-07-21T13:27:42.934345Z",
     "start_time": "2018-07-21T13:27:41.704386Z"
    }
   },
   "outputs": [],
   "source": [
    "plt.figure(figsize=(18,36))\n",
    "for ii in range(36):\n",
    "    plt.subplot(12, 3, ii + 1)\n",
    "    data_ = data[\"ltp\"].values[ii*100:(ii+1)*100]\n",
    "#     best_ask_ = data[\"best_ask\"].values[ii*100:(ii+1)*100] * data[\"best_ask_size\"].values[ii*100:(ii+1)*100]\n",
    "#     best_bid_ = data[\"best_bid\"].values[ii*100:(ii+1)*100] * data[\"best_bid_size\"].values[ii*100:(ii+1)*100]\n",
    "    best_ask_ = data[\"best_ask\"].values[ii*100:(ii+1)*100]\n",
    "    best_bid_ = data[\"best_bid\"].values[ii*100:(ii+1)*100]\n",
    "    plt.plot(data_ - data_[0], \"#E74C3C\")\n",
    "    ax2 = plt.gca().twinx()\n",
    "    ax2.plot(np.arange(0, 100), ccf(data_, best_ask_ - best_bid_), \"#16A085\")\n",
    "#     ax2.hlines(0, 100, 0, linestyles=\"--\")\n",
    "    plt.grid()\n",
    "    break\n",
    "plt.tight_layout()"
   ]
  },
  {
   "cell_type": "code",
   "execution_count": null,
   "metadata": {
    "ExecuteTime": {
     "end_time": "2018-07-21T13:26:07.028186Z",
     "start_time": "2018-07-21T13:26:05.910191Z"
    }
   },
   "outputs": [],
   "source": [
    "points = 10\n",
    "\n",
    "plt.figure(figsize=(18,36))\n",
    "for ii in range(36):\n",
    "    plt.subplot(12, 3, ii + 1)\n",
    "    data_ = data[\"ltp\"].values[ii*100+points:(ii+1)*100+points]\n",
    "#     best_ask_ = data[\"best_ask\"].values[ii*100:(ii+1)*100] * data[\"best_ask_size\"].values[ii*100:(ii+1)*100]\n",
    "#     best_bid_ = data[\"best_bid\"].values[ii*100:(ii+1)*100] * data[\"best_bid_size\"].values[ii*100:(ii+1)*100]\n",
    "    best_ask_ = data[\"best_ask\"].values[ii*100:(ii+1)*100]\n",
    "    best_bid_ = data[\"best_bid\"].values[ii*100:(ii+1)*100]\n",
    "    plt.plot(data_ - data_[0], \"#E74C3C\")\n",
    "    ax2 = plt.gca().twinx()\n",
    "    ax2.plot(np.arange(0, 100), ccf(data_, best_ask_ - best_bid_), \"#16A085\")\n",
    "#     ax2.hlines(0, 100, 0, linestyles=\"--\")\n",
    "    plt.grid()\n",
    "    break\n",
    "plt.tight_layout()"
   ]
  },
  {
   "cell_type": "markdown",
   "metadata": {},
   "source": [
    "相関なさそう。"
   ]
  },
  {
   "cell_type": "code",
   "execution_count": null,
   "metadata": {
    "ExecuteTime": {
     "end_time": "2018-07-22T04:48:36.895868Z",
     "start_time": "2018-07-22T04:48:36.758875Z"
    }
   },
   "outputs": [],
   "source": [
    "3.52 * 6.02e23 / 131.293"
   ]
  },
  {
   "cell_type": "code",
   "execution_count": null,
   "metadata": {},
   "outputs": [],
   "source": []
  }
 ],
 "metadata": {
  "kernelspec": {
   "display_name": "Python 3",
   "language": "python",
   "name": "python3"
  },
  "language_info": {
   "codemirror_mode": {
    "name": "ipython",
    "version": 3
   },
   "file_extension": ".py",
   "mimetype": "text/x-python",
   "name": "python",
   "nbconvert_exporter": "python",
   "pygments_lexer": "ipython3",
   "version": "3.6.6"
  },
  "toc": {
   "base_numbering": 1,
   "nav_menu": {},
   "number_sections": true,
   "sideBar": true,
   "skip_h1_title": false,
   "title_cell": "Table of Contents",
   "title_sidebar": "Contents",
   "toc_cell": false,
   "toc_position": {},
   "toc_section_display": true,
   "toc_window_display": false
  }
 },
 "nbformat": 4,
 "nbformat_minor": 2
}
