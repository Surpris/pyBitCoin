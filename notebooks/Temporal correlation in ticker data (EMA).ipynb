{
 "cells": [
  {
   "cell_type": "markdown",
   "metadata": {},
   "source": [
    "# 目的\n",
    "（ほぼ）１秒ごとに取得されたtickerのデータセットに内在する何かしらの相関を探る。"
   ]
  },
  {
   "cell_type": "code",
   "execution_count": null,
   "metadata": {
    "ExecuteTime": {
     "end_time": "2018-07-20T12:51:20.490740Z",
     "start_time": "2018-07-20T12:51:18.406847Z"
    }
   },
   "outputs": [],
   "source": [
    "import pandas as pd\n",
    "import glob\n",
    "import os\n",
    "import matplotlib.pyplot as plt\n",
    "from scipy.signal import lfilter\n",
    "\n",
    "%matplotlib inline"
   ]
  },
  {
   "cell_type": "code",
   "execution_count": null,
   "metadata": {
    "ExecuteTime": {
     "end_time": "2018-07-20T12:51:24.796471Z",
     "start_time": "2018-07-20T12:51:24.787469Z"
    }
   },
   "outputs": [],
   "source": [
    "def calc_EMA(x, N):\n",
    "    \"\"\"calc_EMA(x, N) -> array-like\n",
    "    calculate exponential moving average (EMA)\n",
    "    \"\"\"\n",
    "    return _calc_EMA(x, 2./(N + 1.))\n",
    "\n",
    "def _calc_EMA(x, alpha):\n",
    "    \"\"\" _calc_EMA(x, alpha) -> array-like\n",
    "    Adopted from https://qiita.com/toyolab/items/6872b32d9fa1763345d8\n",
    "    \"\"\"\n",
    "    y,_ = lfilter([alpha], [1,alpha-1], x, zi=[x[0]*(1-alpha)])\n",
    "    return y"
   ]
  },
  {
   "cell_type": "code",
   "execution_count": null,
   "metadata": {
    "ExecuteTime": {
     "end_time": "2018-07-20T12:51:27.667740Z",
     "start_time": "2018-07-20T12:51:27.651736Z"
    }
   },
   "outputs": [],
   "source": [
    "fldrpath = r\"C:\\Users\\take9\\Desktop\\data_\"\n",
    "filelist = glob.glob(os.path.join(fldrpath, \"*.csv\"))\n",
    "print(len(filelist))"
   ]
  },
  {
   "cell_type": "code",
   "execution_count": null,
   "metadata": {
    "ExecuteTime": {
     "end_time": "2018-07-20T12:51:30.643391Z",
     "start_time": "2018-07-20T12:51:30.465400Z"
    },
    "scrolled": true
   },
   "outputs": [],
   "source": [
    "data = pd.read_csv(filelist[0], index_col=0)\n",
    "print(data.columns)"
   ]
  },
  {
   "cell_type": "markdown",
   "metadata": {},
   "source": [
    "# EMA"
   ]
  },
  {
   "cell_type": "code",
   "execution_count": null,
   "metadata": {
    "ExecuteTime": {
     "end_time": "2018-07-21T12:48:11.644601Z",
     "start_time": "2018-07-21T12:47:45.988290Z"
    },
    "scrolled": false
   },
   "outputs": [],
   "source": [
    "points = 10\n",
    "\n",
    "plt.figure(figsize=(18,36))\n",
    "for ii in range(36):\n",
    "    plt.subplot(12, 3, ii + 1)\n",
    "    data_ = data[\"ltp\"].values[ii*100:(ii+1)*100]\n",
    "    plt.plot(data_ - data_[0], \"#E74C3C\")\n",
    "    ema = calc_EMA(data[\"ltp\"].values[ii*100:(ii+1)*100], points)\n",
    "    plt.plot(ema - ema[0], \"#D4AC0D\")\n",
    "    ema_diff = np.diff(ema)\n",
    "    ax2 = plt.gca().twinx()\n",
    "    ax2.plot(np.arange(2, 100), ema_diff[:-1], \"#16A085\")\n",
    "    ax2.hlines(0, 100, 0, linestyles=\"--\")\n",
    "    plt.grid()\n",
    "#     break\n",
    "plt.tight_layout()"
   ]
  },
  {
   "cell_type": "code",
   "execution_count": null,
   "metadata": {
    "ExecuteTime": {
     "end_time": "2018-07-21T12:48:35.239083Z",
     "start_time": "2018-07-21T12:48:11.656603Z"
    },
    "scrolled": false
   },
   "outputs": [],
   "source": [
    "points = 20\n",
    "\n",
    "plt.figure(figsize=(18,36))\n",
    "for ii in range(36):\n",
    "    plt.subplot(12, 3, ii + 1)\n",
    "    data_ = data[\"ltp\"].values[ii*100:(ii+1)*100]\n",
    "    plt.plot(data_ - data_[0], \"#E74C3C\")\n",
    "    ema = calc_EMA(data[\"ltp\"].values[ii*100:(ii+1)*100], points)\n",
    "    plt.plot(ema - ema[0], \"#D4AC0D\")\n",
    "    ema_diff = np.diff(ema)\n",
    "    ax2 = plt.gca().twinx()\n",
    "    ax2.plot(np.arange(2, 100), ema_diff[:-1], \"#16A085\")\n",
    "    ax2.hlines(0, 100, 0, linestyles=\"--\")\n",
    "    plt.grid()\n",
    "#     break\n",
    "plt.tight_layout()"
   ]
  },
  {
   "cell_type": "code",
   "execution_count": null,
   "metadata": {
    "ExecuteTime": {
     "end_time": "2018-07-21T12:48:58.452010Z",
     "start_time": "2018-07-21T12:48:35.267081Z"
    },
    "scrolled": false
   },
   "outputs": [],
   "source": [
    "points = 30\n",
    "\n",
    "plt.figure(figsize=(18,36))\n",
    "for ii in range(36):\n",
    "    plt.subplot(12, 3, ii + 1)\n",
    "    data_ = data[\"ltp\"].values[ii*100:(ii+1)*100]\n",
    "    plt.plot(data_ - data_[0], \"#E74C3C\")\n",
    "    ema = calc_EMA(data[\"ltp\"].values[ii*100:(ii+1)*100], points)\n",
    "    plt.plot(ema - ema[0], \"#D4AC0D\")\n",
    "    ema_diff = np.diff(ema)\n",
    "    ax2 = plt.gca().twinx()\n",
    "    ax2.plot(np.arange(2, 100), ema_diff[:-1], \"#16A085\")\n",
    "    ax2.hlines(0, 100, 0, linestyles=\"--\")\n",
    "    plt.grid()\n",
    "#     break\n",
    "plt.tight_layout()"
   ]
  },
  {
   "cell_type": "code",
   "execution_count": null,
   "metadata": {
    "ExecuteTime": {
     "end_time": "2018-07-21T12:49:21.744913Z",
     "start_time": "2018-07-21T12:48:58.452010Z"
    },
    "scrolled": false
   },
   "outputs": [],
   "source": [
    "points = 40\n",
    "\n",
    "plt.figure(figsize=(18,36))\n",
    "for ii in range(36):\n",
    "    plt.subplot(12, 3, ii + 1)\n",
    "    data_ = data[\"ltp\"].values[ii*100:(ii+1)*100]\n",
    "    plt.plot(data_ - data_[0], \"#E74C3C\")\n",
    "    ema = calc_EMA(data[\"ltp\"].values[ii*100:(ii+1)*100], points)\n",
    "    plt.plot(ema - ema[0], \"#D4AC0D\")\n",
    "    ema_diff = np.diff(ema)\n",
    "    ax2 = plt.gca().twinx()\n",
    "    ax2.plot(np.arange(2, 100), ema_diff[:-1], \"#16A085\")\n",
    "    ax2.hlines(0, 100, 0, linestyles=\"--\")\n",
    "    plt.grid()\n",
    "#     break\n",
    "plt.tight_layout()"
   ]
  },
  {
   "cell_type": "code",
   "execution_count": null,
   "metadata": {
    "ExecuteTime": {
     "end_time": "2018-07-21T12:49:42.267589Z",
     "start_time": "2018-07-21T12:49:21.744913Z"
    },
    "scrolled": false
   },
   "outputs": [],
   "source": [
    "points = 50\n",
    "\n",
    "plt.figure(figsize=(18,36))\n",
    "for ii in range(36):\n",
    "    plt.subplot(12, 3, ii + 1)\n",
    "    data_ = data[\"ltp\"].values[ii*100:(ii+1)*100]\n",
    "    plt.plot(data_ - data_[0], \"#E74C3C\")\n",
    "    ema = calc_EMA(data[\"ltp\"].values[ii*100:(ii+1)*100], points)\n",
    "    plt.plot(ema - ema[0], \"#D4AC0D\")\n",
    "    ema_diff = np.diff(ema)\n",
    "    ax2 = plt.gca().twinx()\n",
    "    ax2.plot(np.arange(2, 100), ema_diff[:-1], \"#16A085\")\n",
    "    ax2.hlines(0, 100, 0, linestyles=\"--\")\n",
    "    plt.grid()\n",
    "#     break\n",
    "plt.tight_layout()"
   ]
  },
  {
   "cell_type": "markdown",
   "metadata": {},
   "source": [
    "とりあえずよくわからん。"
   ]
  }
 ],
 "metadata": {
  "kernelspec": {
   "display_name": "Python 3",
   "language": "python",
   "name": "python3"
  },
  "language_info": {
   "codemirror_mode": {
    "name": "ipython",
    "version": 3
   },
   "file_extension": ".py",
   "mimetype": "text/x-python",
   "name": "python",
   "nbconvert_exporter": "python",
   "pygments_lexer": "ipython3",
   "version": "3.6.6"
  },
  "toc": {
   "base_numbering": 1,
   "nav_menu": {},
   "number_sections": true,
   "sideBar": true,
   "skip_h1_title": false,
   "title_cell": "Table of Contents",
   "title_sidebar": "Contents",
   "toc_cell": false,
   "toc_position": {},
   "toc_section_display": true,
   "toc_window_display": false
  }
 },
 "nbformat": 4,
 "nbformat_minor": 2
}
