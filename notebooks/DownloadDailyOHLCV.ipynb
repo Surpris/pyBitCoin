{
 "cells": [
  {
   "cell_type": "markdown",
   "metadata": {
    "colab_type": "text",
    "id": "ZWLZvxNXNdGz"
   },
   "source": [
    "# 目的\n",
    "毎日のOHLCVをダウンロードする。   \n",
    "CryptoCompare(https://min-api.cryptocompare.com/) では七日間だけminute OHLCV が残されているらしい。   \n",
    "デイリーの分も残すが、minute がデイリーに及ぼす影響も見ておきたい。\n"
   ]
  },
  {
   "cell_type": "code",
   "execution_count": null,
   "metadata": {
    "colab": {
     "autoexec": {
      "startup": false,
      "wait_interval": 0
     }
    },
    "colab_type": "code",
    "id": "_5BH6LUWNAxF"
   },
   "outputs": [],
   "source": [
    "import urllib.request\n",
    "import urllib.parse\n",
    "import json\n",
    "\n",
    "def getRateViaCrypto(histoticks, params):\n",
    "    \"\"\"getRateViaCrypto(histoticks, params)\n",
    "    get rate via CryptoCompare (https://min-api.cryptocompare.com/).\n",
    "    params should be a dict object with items of str.\n",
    "    <params>\n",
    "    histoticks: day, hour, minute or some tick (see the site)\n",
    "    params: parameters to send the site \n",
    "        fsym : currency symbol of interest (required)\n",
    "        tsym : currency symbol to convert into (required)\n",
    "        limit: limit of retrieved data (max: 2000)\n",
    "        e    : the exchange to obtain data from (CCCAGG - by default)\n",
    "        toTs : last unix timestamp to return data for\n",
    "    </params>\n",
    "    \n",
    "    <return>\n",
    "    retrieved data (json object)\n",
    "    </return>\n",
    "    \"\"\"\n",
    "    \n",
    "    url = \"https://min-api.cryptocompare.com/data/\"\n",
    "    url += \"histo{}\".format(histoticks) + \"?\" + urllib.parse.urlencode(params) \n",
    "    res = urllib.request.urlopen(url)\n",
    "    result = json.loads(res.read().decode('utf-8'))\n",
    "    return result"
   ]
  },
  {
   "cell_type": "code",
   "execution_count": null,
   "metadata": {
    "colab": {
     "autoexec": {
      "startup": false,
      "wait_interval": 0
     }
    },
    "colab_type": "code",
    "id": "Rbj60Uu2PGAa"
   },
   "outputs": [],
   "source": [
    "import numpy as np\n",
    "import pandas as pd\n",
    "import copy\n",
    "import datetime\n",
    "\n",
    "datetimeFmt = \"%Y-%m-%dT%H:%M:%S.%f\"\n",
    "\n",
    "def toDataFrame(data, is_datetime=False):\n",
    "    \"\"\"toDataFrame(data)\n",
    "    convert data to a DataFrame object.\n",
    "    'data' is obtained from CryptoCompare.\n",
    "    The values in the 'time' are converted to datetime strings \n",
    "    if 'is_datetime' == True.\n",
    "    \n",
    "    <params>\n",
    "    data       : data obtained from CryptoCompare (dict object)\n",
    "    is_datetime: boolean\n",
    "    </params>\n",
    "    \n",
    "    <return>\n",
    "    a DataFrame object\n",
    "    </return>\n",
    "    \"\"\"\n",
    "    \n",
    "    if not isinstance(data, dict):\n",
    "        raise TypeError\n",
    "    keys = data[\"Data\"][0].keys()\n",
    "    \n",
    "    output = np.zeros((len(data[\"Data\"]), len(keys)), dtype=object)\n",
    "    for ii, col in enumerate(data[\"Data\"]):\n",
    "        if is_datetime:\n",
    "            buff = copy.deepcopy(col)\n",
    "            datetime1 = datetime.datetime.fromtimestamp(buff[\"time\"])\n",
    "            buff[\"time\"] = datetime1.strftime(datetimeFmt)\n",
    "            output[ii] = np.array([buff[key] for key in keys], dtype=object)\n",
    "        else:\n",
    "            output[ii] = np.array([col[key] for key in keys])\n",
    "        \n",
    "    return pd.DataFrame(output, columns=list(keys))"
   ]
  },
  {
   "cell_type": "markdown",
   "metadata": {
    "colab_type": "text",
    "id": "XSQjdyZDPdKT"
   },
   "source": [
    "## minute OHLCV の取得テスト\n",
    "`minute`を指定する。   \n",
    "分足は一度に最大300まで取得できる。"
   ]
  },
  {
   "cell_type": "code",
   "execution_count": null,
   "metadata": {
    "colab": {
     "autoexec": {
      "startup": false,
      "wait_interval": 0
     },
     "base_uri": "https://localhost:8080/",
     "height": 1210
    },
    "colab_type": "code",
    "executionInfo": {
     "elapsed": 1315,
     "status": "ok",
     "timestamp": 1527938925980,
     "user": {
      "displayName": "Toshiyuki Nishiyama",
      "photoUrl": "//lh3.googleusercontent.com/-7U4YQlXbGP4/AAAAAAAAAAI/AAAAAAAABD8/_0d8gpiO0-c/s50-c-k-no/photo.jpg",
      "userId": "104217885941164940861"
     },
     "user_tz": -540
    },
    "id": "w2Fw5yDnP_Mj",
    "outputId": "63ff5f39-a9ed-4083-986f-54b256ddd310"
   },
   "outputs": [],
   "source": [
    "histoticks = \"minute\"\n",
    "params = {\n",
    "    \"fsym\": \"BTC\",\n",
    "    \"tsym\": \"JPY\",\n",
    "    \"limit\": \"60\", # １時間分\n",
    "    \"e\": \"bitFlyer\"\n",
    "}\n",
    "result = getRateViaCrypto(histoticks, params)\n",
    "for key in result.keys():\n",
    "    if key != \"Data\":\n",
    "        print(key, result[key])\n",
    "    else:\n",
    "        print(key)\n",
    "        for data in result[key]:\n",
    "            print(data)"
   ]
  },
  {
   "cell_type": "markdown",
   "metadata": {
    "colab_type": "text",
    "id": "_QHgqV0yQmyu"
   },
   "source": [
    "### ローソク足チャート"
   ]
  },
  {
   "cell_type": "code",
   "execution_count": null,
   "metadata": {
    "colab": {
     "autoexec": {
      "startup": false,
      "wait_interval": 0
     },
     "base_uri": "https://localhost:8080/",
     "height": 514
    },
    "colab_type": "code",
    "executionInfo": {
     "elapsed": 1038,
     "status": "ok",
     "timestamp": 1527939352730,
     "user": {
      "displayName": "Toshiyuki Nishiyama",
      "photoUrl": "//lh3.googleusercontent.com/-7U4YQlXbGP4/AAAAAAAAAAI/AAAAAAAABD8/_0d8gpiO0-c/s50-c-k-no/photo.jpg",
      "userId": "104217885941164940861"
     },
     "user_tz": -540
    },
    "id": "RVfttrmcQlz7",
    "outputId": "4e1f172e-0822-45fd-c372-ab3e10a1145f"
   },
   "outputs": [],
   "source": [
    "import matplotlib.pyplot as plt\n",
    "from matplotlib.finance import candlestick_ohlc\n",
    "%matplotlib inline\n",
    "\n",
    "df = toDataFrame(result, False)\n",
    "timestamps = df[\"time\"].as_matrix()\n",
    "\n",
    "\n",
    "# candle stick\n",
    "fig, axes = plt.subplots(figsize=(8, 8))\n",
    "_ = candlestick_ohlc(axes, df[[\"time\", \"open\", \"high\", \"low\", \"close\"]].values, width=np.diff(timestamps)[0]*0.8)\n",
    "plt.ylabel(\"JPY/BTC\")\n",
    "plt.xlabel(\"time\")"
   ]
  },
  {
   "cell_type": "code",
   "execution_count": null,
   "metadata": {
    "colab": {
     "autoexec": {
      "startup": false,
      "wait_interval": 0
     },
     "base_uri": "https://localhost:8080/",
     "height": 646
    },
    "colab_type": "code",
    "executionInfo": {
     "elapsed": 385732,
     "status": "ok",
     "timestamp": 1527940285134,
     "user": {
      "displayName": "Toshiyuki Nishiyama",
      "photoUrl": "//lh3.googleusercontent.com/-7U4YQlXbGP4/AAAAAAAAAAI/AAAAAAAABD8/_0d8gpiO0-c/s50-c-k-no/photo.jpg",
      "userId": "104217885941164940861"
     },
     "user_tz": -540
    },
    "id": "5E-3Fm02Ozgb",
    "outputId": "f6922ce5-e8e5-42cd-bbb2-f4a9a553c616"
   },
   "outputs": [],
   "source": [
    "import time\n",
    "\n",
    "datetimeFmt = \"%Y-%m-%dT%H:%M:%S.%f\"\n",
    "\n",
    "toTs_end = datetime.datetime(2018, 5, 28, 0, 0, 0).timestamp()\n",
    "toTs_last = datetime.datetime(2018, 6, 2, 0, 0, 0).timestamp()\n",
    "histoticks = \"minute\"\n",
    "hours = 4 # ６回に分けてデータを取得する\n",
    "limit = int(hours*60 - 1)\n",
    "\n",
    "for ii in range(3*365*24): # とりあえず３年分に設定\n",
    "    toTs = toTs_last - ii * hours * 3600\n",
    "    datetime1 = datetime.datetime.fromtimestamp(toTs)\n",
    "    print(ii, datetime1.strftime(datetimeFmt))\n",
    "    if toTs <= toTs_end:\n",
    "        break\n",
    "    params = {\n",
    "        \"fsym\": \"BTC\",\n",
    "        \"tsym\": \"JPY\",\n",
    "        \"limit\": str(limit),\n",
    "        \"e\": \"bitFlyer\",\n",
    "        \"toTs\":str(toTs)\n",
    "    }\n",
    "    result = getRateViaCrypto(histoticks, params)\n",
    "    if ii == 0:\n",
    "        df = toDataFrame(result, True)\n",
    "    else:\n",
    "        df = pd.concat([toDataFrame(result, True), df], ignore_index=True)\n",
    "    time.sleep(10)\n",
    "#     if ii == 2:\n",
    "#         break"
   ]
  },
  {
   "cell_type": "code",
   "execution_count": null,
   "metadata": {
    "colab": {
     "autoexec": {
      "startup": false,
      "wait_interval": 0
     },
     "base_uri": "https://localhost:8080/",
     "height": 1969
    },
    "colab_type": "code",
    "executionInfo": {
     "elapsed": 766,
     "status": "ok",
     "timestamp": 1527952589010,
     "user": {
      "displayName": "Toshiyuki Nishiyama",
      "photoUrl": "//lh3.googleusercontent.com/-7U4YQlXbGP4/AAAAAAAAAAI/AAAAAAAABD8/_0d8gpiO0-c/s50-c-k-no/photo.jpg",
      "userId": "104217885941164940861"
     },
     "user_tz": -540
    },
    "id": "B2N386qRSLUp",
    "outputId": "9a267a0b-6e18-462d-e775-2c8b964240c3"
   },
   "outputs": [],
   "source": [
    "df"
   ]
  },
  {
   "cell_type": "code",
   "execution_count": null,
   "metadata": {
    "colab": {
     "autoexec": {
      "startup": false,
      "wait_interval": 0
     }
    },
    "colab_type": "code",
    "id": "9WfyxugcSc3E"
   },
   "outputs": [],
   "source": [
    "df.to_csv(\"./test_.csv\")"
   ]
  },
  {
   "cell_type": "code",
   "execution_count": null,
   "metadata": {
    "colab": {
     "autoexec": {
      "startup": false,
      "wait_interval": 0
     }
    },
    "colab_type": "code",
    "id": "-T2u3ActUQPc"
   },
   "outputs": [],
   "source": [
    "from google.colab import files\n",
    "\n",
    "files.download(\"./test.csv\")"
   ]
  }
 ],
 "metadata": {
  "colab": {
   "collapsed_sections": [],
   "default_view": {},
   "name": "DownloadDailyOHLCV.ipynb",
   "provenance": [],
   "toc_visible": true,
   "version": "0.3.2",
   "views": {}
  },
  "kernelspec": {
   "display_name": "Python 3",
   "language": "python",
   "name": "python3"
  },
  "language_info": {
   "codemirror_mode": {
    "name": "ipython",
    "version": 3
   },
   "file_extension": ".py",
   "mimetype": "text/x-python",
   "name": "python",
   "nbconvert_exporter": "python",
   "pygments_lexer": "ipython3",
   "version": "3.6.5"
  },
  "toc": {
   "base_numbering": 1,
   "nav_menu": {},
   "number_sections": true,
   "sideBar": true,
   "skip_h1_title": false,
   "title_cell": "Table of Contents",
   "title_sidebar": "Contents",
   "toc_cell": false,
   "toc_position": {},
   "toc_section_display": true,
   "toc_window_display": false
  }
 },
 "nbformat": 4,
 "nbformat_minor": 1
}
