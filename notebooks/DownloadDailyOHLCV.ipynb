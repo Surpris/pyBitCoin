{
 "cells": [
  {
   "cell_type": "markdown",
   "metadata": {
    "colab_type": "text",
    "id": "ZWLZvxNXNdGz"
   },
   "source": [
    "# 目的\n",
    "毎日のOHLCVをダウンロードする。   \n",
    "CryptoCompare(https://min-api.cryptocompare.com/) では七日間だけminute OHLCV が残されているらしい。   \n",
    "デイリーの分も残すが、minute がデイリーに及ぼす影響も見ておきたい。\n"
   ]
  },
  {
   "cell_type": "code",
   "execution_count": 2,
   "metadata": {
    "colab": {
     "autoexec": {
      "startup": false,
      "wait_interval": 0
     }
    },
    "colab_type": "code",
    "id": "_5BH6LUWNAxF"
   },
   "outputs": [],
   "source": [
    "import urllib.request\n",
    "import urllib.parse\n",
    "import json\n",
    "\n",
    "def getRateViaCrypto(histoticks, params):\n",
    "    \"\"\"getRateViaCrypto(histoticks, params)\n",
    "    get rate via CryptoCompare (https://min-api.cryptocompare.com/).\n",
    "    params should be a dict object with items of str.\n",
    "    <params>\n",
    "    histoticks: day, hour, minute or some tick (see the site)\n",
    "    params: parameters to send the site \n",
    "        fsym : currency symbol of interest (required)\n",
    "        tsym : currency symbol to convert into (required)\n",
    "        limit: limit of retrieved data (max: 2000)\n",
    "        e    : the exchange to obtain data from (CCCAGG - by default)\n",
    "        toTs : last unix timestamp to return data for\n",
    "    </params>\n",
    "    \n",
    "    <return>\n",
    "    retrieved data (json object)\n",
    "    </return>\n",
    "    \"\"\"\n",
    "    \n",
    "    url = \"https://min-api.cryptocompare.com/data/\"\n",
    "    url += \"histo{}\".format(histoticks) + \"?\" + urllib.parse.urlencode(params) \n",
    "    res = urllib.request.urlopen(url)\n",
    "    result = json.loads(res.read().decode('utf-8'))\n",
    "    return result"
   ]
  },
  {
   "cell_type": "code",
   "execution_count": 3,
   "metadata": {
    "colab": {
     "autoexec": {
      "startup": false,
      "wait_interval": 0
     }
    },
    "colab_type": "code",
    "id": "Rbj60Uu2PGAa"
   },
   "outputs": [],
   "source": [
    "import numpy as np\n",
    "import pandas as pd\n",
    "import copy\n",
    "import datetime\n",
    "\n",
    "datetimeFmt = \"%Y-%m-%dT%H:%M:%S.%f\"\n",
    "\n",
    "def toDataFrame(data, is_datetime=False):\n",
    "    \"\"\"toDataFrame(data)\n",
    "    convert data to a DataFrame object.\n",
    "    'data' is obtained from CryptoCompare.\n",
    "    The values in the 'time' are converted to datetime strings \n",
    "    if 'is_datetime' == True.\n",
    "    \n",
    "    <params>\n",
    "    data       : data obtained from CryptoCompare (dict object)\n",
    "    is_datetime: boolean\n",
    "    </params>\n",
    "    \n",
    "    <return>\n",
    "    a DataFrame object\n",
    "    </return>\n",
    "    \"\"\"\n",
    "    \n",
    "    if not isinstance(data, dict):\n",
    "        raise TypeError\n",
    "    keys = data[\"Data\"][0].keys()\n",
    "    \n",
    "    output = np.zeros((len(data[\"Data\"]), len(keys)), dtype=object)\n",
    "    for ii, col in enumerate(data[\"Data\"]):\n",
    "        if is_datetime:\n",
    "            buff = copy.deepcopy(col)\n",
    "            datetime1 = datetime.datetime.fromtimestamp(buff[\"time\"])\n",
    "            buff[\"time\"] = datetime1.strftime(datetimeFmt)\n",
    "            output[ii] = np.array([buff[key] for key in keys], dtype=object)\n",
    "        else:\n",
    "            output[ii] = np.array([col[key] for key in keys])\n",
    "        \n",
    "    return pd.DataFrame(output, columns=list(keys))"
   ]
  },
  {
   "cell_type": "markdown",
   "metadata": {
    "colab_type": "text",
    "id": "XSQjdyZDPdKT"
   },
   "source": [
    "## minute OHLCV の取得テスト\n",
    "`minute`を指定する。   \n",
    "分足は一度に最大300まで取得できる。"
   ]
  },
  {
   "cell_type": "code",
   "execution_count": 5,
   "metadata": {
    "colab": {
     "autoexec": {
      "startup": false,
      "wait_interval": 0
     },
     "base_uri": "https://localhost:8080/",
     "height": 1210
    },
    "colab_type": "code",
    "executionInfo": {
     "elapsed": 1315,
     "status": "ok",
     "timestamp": 1527938925980,
     "user": {
      "displayName": "Toshiyuki Nishiyama",
      "photoUrl": "//lh3.googleusercontent.com/-7U4YQlXbGP4/AAAAAAAAAAI/AAAAAAAABD8/_0d8gpiO0-c/s50-c-k-no/photo.jpg",
      "userId": "104217885941164940861"
     },
     "user_tz": -540
    },
    "id": "w2Fw5yDnP_Mj",
    "outputId": "63ff5f39-a9ed-4083-986f-54b256ddd310"
   },
   "outputs": [
    {
     "name": "stdout",
     "output_type": "stream",
     "text": [
      "Response Success\n",
      "Type 100\n",
      "Aggregated False\n",
      "Data\n",
      "{'time': 1546168440, 'close': 423403, 'high': 423950, 'low': 423403, 'open': 423950, 'volumefrom': 2.53, 'volumeto': 1071110.62}\n",
      "{'time': 1546168500, 'close': 423402, 'high': 423403, 'low': 423402, 'open': 423403, 'volumefrom': 1.02, 'volumeto': 431870.23}\n",
      "{'time': 1546168560, 'close': 423490, 'high': 423490, 'low': 423384, 'open': 423402, 'volumefrom': 1.2, 'volumeto': 508558.22}\n",
      "{'time': 1546168620, 'close': 423502, 'high': 423765, 'low': 423490, 'open': 423490, 'volumefrom': 0.231, 'volumeto': 97855.13}\n",
      "{'time': 1546168680, 'close': 423381, 'high': 423502, 'low': 423381, 'open': 423502, 'volumefrom': 0.933, 'volumeto': 395124.84}\n",
      "{'time': 1546168740, 'close': 423291, 'high': 423381, 'low': 423291, 'open': 423381, 'volumefrom': 0.17, 'volumeto': 71959.88}\n",
      "{'time': 1546168800, 'close': 423051, 'high': 423518, 'low': 423051, 'open': 423291, 'volumefrom': 0.7424, 'volumeto': 314364.8}\n",
      "{'time': 1546168860, 'close': 423076, 'high': 423076, 'low': 423051, 'open': 423051, 'volumefrom': 0.11, 'volumeto': 46537.36}\n",
      "{'time': 1546168920, 'close': 423088, 'high': 423100, 'low': 423076, 'open': 423076, 'volumefrom': 0.611, 'volumeto': 258506.19}\n",
      "{'time': 1546168980, 'close': 422959, 'high': 423088, 'low': 422958, 'open': 423088, 'volumefrom': 3.75, 'volumeto': 1586842.47}\n",
      "{'time': 1546169040, 'close': 422954, 'high': 422959, 'low': 422954, 'open': 422959, 'volumefrom': 0, 'volumeto': 0}\n",
      "TimeTo 1546169040\n",
      "TimeFrom 1546168440\n",
      "FirstValueInArray True\n",
      "ConversionType {'type': 'force_direct', 'conversionSymbol': ''}\n",
      "RateLimit {}\n",
      "HasWarning False\n"
     ]
    }
   ],
   "source": [
    "histoticks = \"minute\"\n",
    "params = {\n",
    "    \"fsym\": \"BTC\",\n",
    "    \"tsym\": \"JPY\",\n",
    "    \"limit\": \"10\", # １時間分\n",
    "    \"e\": \"bitFlyer\"\n",
    "}\n",
    "result = getRateViaCrypto(histoticks, params)\n",
    "for key in result.keys():\n",
    "    if key != \"Data\":\n",
    "        print(key, result[key])\n",
    "    else:\n",
    "        print(key)\n",
    "        for data in result[key]:\n",
    "            print(data)"
   ]
  },
  {
   "cell_type": "code",
   "execution_count": 6,
   "metadata": {},
   "outputs": [
    {
     "name": "stdout",
     "output_type": "stream",
     "text": [
      "Response Success\n",
      "Type 100\n",
      "Aggregated False\n",
      "Data\n",
      "{'time': 1546168500, 'close': 422359, 'high': 422600, 'low': 422350, 'open': 422409, 'volumefrom': 135.32, 'volumeto': 57171080.97}\n",
      "{'time': 1546168560, 'close': 422532, 'high': 422571, 'low': 422190, 'open': 422359, 'volumefrom': 153.37, 'volumeto': 64776950.97}\n",
      "{'time': 1546168620, 'close': 422467, 'high': 422748, 'low': 422277, 'open': 422532, 'volumefrom': 220.04, 'volumeto': 92972468.2}\n",
      "{'time': 1546168680, 'close': 422277, 'high': 422506, 'low': 422169, 'open': 422467, 'volumefrom': 117.4, 'volumeto': 49577556.21}\n",
      "{'time': 1546168740, 'close': 422231, 'high': 422378, 'low': 422024, 'open': 422277, 'volumefrom': 96.89, 'volumeto': 40904810.29}\n",
      "{'time': 1546168800, 'close': 422355, 'high': 422446, 'low': 422231, 'open': 422231, 'volumefrom': 111.25, 'volumeto': 46986049.58}\n",
      "{'time': 1546168860, 'close': 422012, 'high': 422407, 'low': 422012, 'open': 422355, 'volumefrom': 140.79, 'volumeto': 59439721.44}\n",
      "{'time': 1546168920, 'close': 421937, 'high': 422300, 'low': 421851, 'open': 422012, 'volumefrom': 218.1, 'volumeto': 92064297.15}\n",
      "{'time': 1546168980, 'close': 421923, 'high': 422117, 'low': 421800, 'open': 421937, 'volumefrom': 162.4, 'volumeto': 68525206.42}\n",
      "{'time': 1546169040, 'close': 421834, 'high': 421959, 'low': 421805, 'open': 421923, 'volumefrom': 11.88, 'volumeto': 5011603.77}\n",
      "{'time': 1546169100, 'close': 422102, 'high': 422102, 'low': 421834, 'open': 421834, 'volumefrom': 0, 'volumeto': 0}\n",
      "TimeTo 1546169100\n",
      "TimeFrom 1546168500\n",
      "FirstValueInArray True\n",
      "ConversionType {'type': 'force_direct', 'conversionSymbol': ''}\n",
      "RateLimit {}\n",
      "HasWarning False\n"
     ]
    }
   ],
   "source": [
    "histoticks = \"minute\"\n",
    "params = {\n",
    "    \"fsym\": \"BTC\",\n",
    "    \"tsym\": \"JPY\",\n",
    "    \"limit\": \"10\", # １時間分\n",
    "    \"e\": \"bitFlyerfx\"\n",
    "}\n",
    "result = getRateViaCrypto(histoticks, params)\n",
    "for key in result.keys():\n",
    "    if key != \"Data\":\n",
    "        print(key, result[key])\n",
    "    else:\n",
    "        print(key)\n",
    "        for data in result[key]:\n",
    "            print(data)"
   ]
  },
  {
   "cell_type": "markdown",
   "metadata": {
    "colab_type": "text",
    "id": "_QHgqV0yQmyu"
   },
   "source": [
    "### ローソク足チャート"
   ]
  },
  {
   "cell_type": "code",
   "execution_count": 4,
   "metadata": {
    "colab": {
     "autoexec": {
      "startup": false,
      "wait_interval": 0
     },
     "base_uri": "https://localhost:8080/",
     "height": 514
    },
    "colab_type": "code",
    "executionInfo": {
     "elapsed": 1038,
     "status": "ok",
     "timestamp": 1527939352730,
     "user": {
      "displayName": "Toshiyuki Nishiyama",
      "photoUrl": "//lh3.googleusercontent.com/-7U4YQlXbGP4/AAAAAAAAAAI/AAAAAAAABD8/_0d8gpiO0-c/s50-c-k-no/photo.jpg",
      "userId": "104217885941164940861"
     },
     "user_tz": -540
    },
    "id": "RVfttrmcQlz7",
    "outputId": "4e1f172e-0822-45fd-c372-ab3e10a1145f"
   },
   "outputs": [
    {
     "ename": "ModuleNotFoundError",
     "evalue": "No module named 'matplotlib.finance'",
     "output_type": "error",
     "traceback": [
      "\u001b[1;31m---------------------------------------------------------------------------\u001b[0m",
      "\u001b[1;31mModuleNotFoundError\u001b[0m                       Traceback (most recent call last)",
      "\u001b[1;32m<ipython-input-4-1507b64f14e8>\u001b[0m in \u001b[0;36m<module>\u001b[1;34m\u001b[0m\n\u001b[0;32m      1\u001b[0m \u001b[1;32mimport\u001b[0m \u001b[0mmatplotlib\u001b[0m\u001b[1;33m.\u001b[0m\u001b[0mpyplot\u001b[0m \u001b[1;32mas\u001b[0m \u001b[0mplt\u001b[0m\u001b[1;33m\u001b[0m\u001b[1;33m\u001b[0m\u001b[0m\n\u001b[1;32m----> 2\u001b[1;33m \u001b[1;32mfrom\u001b[0m \u001b[0mmatplotlib\u001b[0m\u001b[1;33m.\u001b[0m\u001b[0mfinance\u001b[0m \u001b[1;32mimport\u001b[0m \u001b[0mcandlestick_ohlc\u001b[0m\u001b[1;33m\u001b[0m\u001b[1;33m\u001b[0m\u001b[0m\n\u001b[0m\u001b[0;32m      3\u001b[0m \u001b[0mget_ipython\u001b[0m\u001b[1;33m(\u001b[0m\u001b[1;33m)\u001b[0m\u001b[1;33m.\u001b[0m\u001b[0mrun_line_magic\u001b[0m\u001b[1;33m(\u001b[0m\u001b[1;34m'matplotlib'\u001b[0m\u001b[1;33m,\u001b[0m \u001b[1;34m'inline'\u001b[0m\u001b[1;33m)\u001b[0m\u001b[1;33m\u001b[0m\u001b[1;33m\u001b[0m\u001b[0m\n\u001b[0;32m      4\u001b[0m \u001b[1;33m\u001b[0m\u001b[0m\n\u001b[0;32m      5\u001b[0m \u001b[0mdf\u001b[0m \u001b[1;33m=\u001b[0m \u001b[0mtoDataFrame\u001b[0m\u001b[1;33m(\u001b[0m\u001b[0mresult\u001b[0m\u001b[1;33m,\u001b[0m \u001b[1;32mFalse\u001b[0m\u001b[1;33m)\u001b[0m\u001b[1;33m\u001b[0m\u001b[1;33m\u001b[0m\u001b[0m\n",
      "\u001b[1;31mModuleNotFoundError\u001b[0m: No module named 'matplotlib.finance'"
     ]
    }
   ],
   "source": [
    "import matplotlib.pyplot as plt\n",
    "from matplotlib.finance import candlestick_ohlc\n",
    "%matplotlib inline\n",
    "\n",
    "df = toDataFrame(result, False)\n",
    "timestamps = df[\"time\"].as_matrix()\n",
    "\n",
    "\n",
    "# candle stick\n",
    "fig, axes = plt.subplots(figsize=(8, 8))\n",
    "_ = candlestick_ohlc(axes, df[[\"time\", \"open\", \"high\", \"low\", \"close\"]].values, width=np.diff(timestamps)[0]*0.8)\n",
    "plt.ylabel(\"JPY/BTC\")\n",
    "plt.xlabel(\"time\")"
   ]
  },
  {
   "cell_type": "code",
   "execution_count": 18,
   "metadata": {
    "colab": {
     "autoexec": {
      "startup": false,
      "wait_interval": 0
     },
     "base_uri": "https://localhost:8080/",
     "height": 646
    },
    "colab_type": "code",
    "executionInfo": {
     "elapsed": 385732,
     "status": "ok",
     "timestamp": 1527940285134,
     "user": {
      "displayName": "Toshiyuki Nishiyama",
      "photoUrl": "//lh3.googleusercontent.com/-7U4YQlXbGP4/AAAAAAAAAAI/AAAAAAAABD8/_0d8gpiO0-c/s50-c-k-no/photo.jpg",
      "userId": "104217885941164940861"
     },
     "user_tz": -540
    },
    "id": "5E-3Fm02Ozgb",
    "outputId": "f6922ce5-e8e5-42cd-bbb2-f4a9a553c616"
   },
   "outputs": [
    {
     "name": "stdout",
     "output_type": "stream",
     "text": [
      "0 2019-01-05T12:00:00.000000\n",
      "1 2019-01-05T08:00:00.000000\n",
      "2 2019-01-05T04:00:00.000000\n",
      "3 2019-01-05T00:00:00.000000\n",
      "4 2019-01-04T20:00:00.000000\n",
      "5 2019-01-04T16:00:00.000000\n",
      "6 2019-01-04T12:00:00.000000\n",
      "7 2019-01-04T08:00:00.000000\n",
      "8 2019-01-04T04:00:00.000000\n",
      "9 2019-01-04T00:00:00.000000\n",
      "10 2019-01-03T20:00:00.000000\n",
      "11 2019-01-03T16:00:00.000000\n",
      "12 2019-01-03T12:00:00.000000\n"
     ]
    }
   ],
   "source": [
    "import time\n",
    "\n",
    "datetimeFmt = \"%Y-%m-%dT%H:%M:%S.%f\"\n",
    "\n",
    "toTs_end = datetime.datetime(2019, 1, 3, 12, 1, 0).timestamp()\n",
    "toTs_last = datetime.datetime(2019, 1, 5, 12, 0, 0).timestamp()\n",
    "histoticks = \"minute\"\n",
    "hours = 4 # ６回に分けてデータを取得する\n",
    "limit = int(hours*60 - 1)\n",
    "\n",
    "for ii in range(3*365*24): # とりあえず３年分に設定\n",
    "    toTs = toTs_last - ii * hours * 3600\n",
    "    datetime1 = datetime.datetime.fromtimestamp(toTs)\n",
    "    print(ii, datetime1.strftime(datetimeFmt))\n",
    "    if toTs <= toTs_end:\n",
    "        break\n",
    "    params = {\n",
    "        \"fsym\": \"BTC\",\n",
    "        \"tsym\": \"JPY\",\n",
    "        \"limit\": str(limit),\n",
    "        \"e\": \"bitFlyerfx\",\n",
    "        \"toTs\":str(toTs)\n",
    "    }\n",
    "    result = getRateViaCrypto(histoticks, params)\n",
    "    if ii == 0:\n",
    "        df = toDataFrame(result, True)\n",
    "    else:\n",
    "        df = pd.concat([toDataFrame(result, True), df], ignore_index=True)\n",
    "    time.sleep(5)\n",
    "#     if ii == 2:\n",
    "#         break"
   ]
  },
  {
   "cell_type": "code",
   "execution_count": 19,
   "metadata": {
    "colab": {
     "autoexec": {
      "startup": false,
      "wait_interval": 0
     },
     "base_uri": "https://localhost:8080/",
     "height": 1969
    },
    "colab_type": "code",
    "executionInfo": {
     "elapsed": 766,
     "status": "ok",
     "timestamp": 1527952589010,
     "user": {
      "displayName": "Toshiyuki Nishiyama",
      "photoUrl": "//lh3.googleusercontent.com/-7U4YQlXbGP4/AAAAAAAAAAI/AAAAAAAABD8/_0d8gpiO0-c/s50-c-k-no/photo.jpg",
      "userId": "104217885941164940861"
     },
     "user_tz": -540
    },
    "id": "B2N386qRSLUp",
    "outputId": "9a267a0b-6e18-462d-e775-2c8b964240c3"
   },
   "outputs": [
    {
     "data": {
      "text/html": [
       "<div>\n",
       "<style scoped>\n",
       "    .dataframe tbody tr th:only-of-type {\n",
       "        vertical-align: middle;\n",
       "    }\n",
       "\n",
       "    .dataframe tbody tr th {\n",
       "        vertical-align: top;\n",
       "    }\n",
       "\n",
       "    .dataframe thead th {\n",
       "        text-align: right;\n",
       "    }\n",
       "</style>\n",
       "<table border=\"1\" class=\"dataframe\">\n",
       "  <thead>\n",
       "    <tr style=\"text-align: right;\">\n",
       "      <th></th>\n",
       "      <th>time</th>\n",
       "      <th>close</th>\n",
       "      <th>high</th>\n",
       "      <th>low</th>\n",
       "      <th>open</th>\n",
       "      <th>volumefrom</th>\n",
       "      <th>volumeto</th>\n",
       "    </tr>\n",
       "  </thead>\n",
       "  <tbody>\n",
       "    <tr>\n",
       "      <th>0</th>\n",
       "      <td>2019-01-03T12:01:00.000000</td>\n",
       "      <td>415461</td>\n",
       "      <td>415514</td>\n",
       "      <td>415408</td>\n",
       "      <td>415487</td>\n",
       "      <td>53.92</td>\n",
       "      <td>2.24022e+07</td>\n",
       "    </tr>\n",
       "    <tr>\n",
       "      <th>1</th>\n",
       "      <td>2019-01-03T12:02:00.000000</td>\n",
       "      <td>415426</td>\n",
       "      <td>415587</td>\n",
       "      <td>415400</td>\n",
       "      <td>415461</td>\n",
       "      <td>122.86</td>\n",
       "      <td>5.10416e+07</td>\n",
       "    </tr>\n",
       "    <tr>\n",
       "      <th>2</th>\n",
       "      <td>2019-01-03T12:03:00.000000</td>\n",
       "      <td>415498</td>\n",
       "      <td>415520</td>\n",
       "      <td>415402</td>\n",
       "      <td>415426</td>\n",
       "      <td>75.62</td>\n",
       "      <td>3.14156e+07</td>\n",
       "    </tr>\n",
       "    <tr>\n",
       "      <th>3</th>\n",
       "      <td>2019-01-03T12:04:00.000000</td>\n",
       "      <td>415466</td>\n",
       "      <td>415533</td>\n",
       "      <td>415450</td>\n",
       "      <td>415498</td>\n",
       "      <td>40.5</td>\n",
       "      <td>1.68257e+07</td>\n",
       "    </tr>\n",
       "    <tr>\n",
       "      <th>4</th>\n",
       "      <td>2019-01-03T12:05:00.000000</td>\n",
       "      <td>415470</td>\n",
       "      <td>415493</td>\n",
       "      <td>415422</td>\n",
       "      <td>415466</td>\n",
       "      <td>38.02</td>\n",
       "      <td>1.57964e+07</td>\n",
       "    </tr>\n",
       "  </tbody>\n",
       "</table>\n",
       "</div>"
      ],
      "text/plain": [
       "                         time   close    high     low    open volumefrom  \\\n",
       "0  2019-01-03T12:01:00.000000  415461  415514  415408  415487      53.92   \n",
       "1  2019-01-03T12:02:00.000000  415426  415587  415400  415461     122.86   \n",
       "2  2019-01-03T12:03:00.000000  415498  415520  415402  415426      75.62   \n",
       "3  2019-01-03T12:04:00.000000  415466  415533  415450  415498       40.5   \n",
       "4  2019-01-03T12:05:00.000000  415470  415493  415422  415466      38.02   \n",
       "\n",
       "      volumeto  \n",
       "0  2.24022e+07  \n",
       "1  5.10416e+07  \n",
       "2  3.14156e+07  \n",
       "3  1.68257e+07  \n",
       "4  1.57964e+07  "
      ]
     },
     "execution_count": 19,
     "metadata": {},
     "output_type": "execute_result"
    }
   ],
   "source": [
    "df.head()"
   ]
  },
  {
   "cell_type": "code",
   "execution_count": 20,
   "metadata": {},
   "outputs": [
    {
     "data": {
      "text/html": [
       "<div>\n",
       "<style scoped>\n",
       "    .dataframe tbody tr th:only-of-type {\n",
       "        vertical-align: middle;\n",
       "    }\n",
       "\n",
       "    .dataframe tbody tr th {\n",
       "        vertical-align: top;\n",
       "    }\n",
       "\n",
       "    .dataframe thead th {\n",
       "        text-align: right;\n",
       "    }\n",
       "</style>\n",
       "<table border=\"1\" class=\"dataframe\">\n",
       "  <thead>\n",
       "    <tr style=\"text-align: right;\">\n",
       "      <th></th>\n",
       "      <th>time</th>\n",
       "      <th>close</th>\n",
       "      <th>high</th>\n",
       "      <th>low</th>\n",
       "      <th>open</th>\n",
       "      <th>volumefrom</th>\n",
       "      <th>volumeto</th>\n",
       "    </tr>\n",
       "  </thead>\n",
       "  <tbody>\n",
       "    <tr>\n",
       "      <th>2875</th>\n",
       "      <td>2019-01-05T11:56:00.000000</td>\n",
       "      <td>416525</td>\n",
       "      <td>416654</td>\n",
       "      <td>416500</td>\n",
       "      <td>416642</td>\n",
       "      <td>62.71</td>\n",
       "      <td>2.61211e+07</td>\n",
       "    </tr>\n",
       "    <tr>\n",
       "      <th>2876</th>\n",
       "      <td>2019-01-05T11:57:00.000000</td>\n",
       "      <td>416636</td>\n",
       "      <td>416739</td>\n",
       "      <td>416504</td>\n",
       "      <td>416525</td>\n",
       "      <td>120.99</td>\n",
       "      <td>5.04103e+07</td>\n",
       "    </tr>\n",
       "    <tr>\n",
       "      <th>2877</th>\n",
       "      <td>2019-01-05T11:58:00.000000</td>\n",
       "      <td>416716</td>\n",
       "      <td>416847</td>\n",
       "      <td>416636</td>\n",
       "      <td>416636</td>\n",
       "      <td>126.07</td>\n",
       "      <td>5.25401e+07</td>\n",
       "    </tr>\n",
       "    <tr>\n",
       "      <th>2878</th>\n",
       "      <td>2019-01-05T11:59:00.000000</td>\n",
       "      <td>416701</td>\n",
       "      <td>416750</td>\n",
       "      <td>416555</td>\n",
       "      <td>416716</td>\n",
       "      <td>74.11</td>\n",
       "      <td>3.08792e+07</td>\n",
       "    </tr>\n",
       "    <tr>\n",
       "      <th>2879</th>\n",
       "      <td>2019-01-05T12:00:00.000000</td>\n",
       "      <td>416874</td>\n",
       "      <td>416940</td>\n",
       "      <td>416686</td>\n",
       "      <td>416701</td>\n",
       "      <td>134.74</td>\n",
       "      <td>5.61634e+07</td>\n",
       "    </tr>\n",
       "  </tbody>\n",
       "</table>\n",
       "</div>"
      ],
      "text/plain": [
       "                            time   close    high     low    open volumefrom  \\\n",
       "2875  2019-01-05T11:56:00.000000  416525  416654  416500  416642      62.71   \n",
       "2876  2019-01-05T11:57:00.000000  416636  416739  416504  416525     120.99   \n",
       "2877  2019-01-05T11:58:00.000000  416716  416847  416636  416636     126.07   \n",
       "2878  2019-01-05T11:59:00.000000  416701  416750  416555  416716      74.11   \n",
       "2879  2019-01-05T12:00:00.000000  416874  416940  416686  416701     134.74   \n",
       "\n",
       "         volumeto  \n",
       "2875  2.61211e+07  \n",
       "2876  5.04103e+07  \n",
       "2877  5.25401e+07  \n",
       "2878  3.08792e+07  \n",
       "2879  5.61634e+07  "
      ]
     },
     "execution_count": 20,
     "metadata": {},
     "output_type": "execute_result"
    }
   ],
   "source": [
    "df.tail()"
   ]
  },
  {
   "cell_type": "code",
   "execution_count": 21,
   "metadata": {
    "colab": {
     "autoexec": {
      "startup": false,
      "wait_interval": 0
     }
    },
    "colab_type": "code",
    "id": "9WfyxugcSc3E"
   },
   "outputs": [],
   "source": [
    "df.to_csv(\"../data/ohlcv/OHLCV_{}_to_{}.csv\".\\\n",
    "         format(datetime.datetime.fromtimestamp(toTs_end).strftime(\"%Y%m%d%H%M\"),\n",
    "               datetime.datetime.fromtimestamp(toTs_last).strftime(\"%Y%m%d%H%M\")))"
   ]
  },
  {
   "cell_type": "code",
   "execution_count": null,
   "metadata": {
    "colab": {
     "autoexec": {
      "startup": false,
      "wait_interval": 0
     }
    },
    "colab_type": "code",
    "id": "-T2u3ActUQPc"
   },
   "outputs": [],
   "source": [
    "from google.colab import files\n",
    "\n",
    "files.download(\"./test.csv\")"
   ]
  }
 ],
 "metadata": {
  "colab": {
   "collapsed_sections": [],
   "default_view": {},
   "name": "DownloadDailyOHLCV.ipynb",
   "provenance": [],
   "toc_visible": true,
   "version": "0.3.2",
   "views": {}
  },
  "kernelspec": {
   "display_name": "Python 3",
   "language": "python",
   "name": "python3"
  },
  "language_info": {
   "codemirror_mode": {
    "name": "ipython",
    "version": 3
   },
   "file_extension": ".py",
   "mimetype": "text/x-python",
   "name": "python",
   "nbconvert_exporter": "python",
   "pygments_lexer": "ipython3",
   "version": "3.7.1"
  },
  "toc": {
   "base_numbering": 1,
   "nav_menu": {},
   "number_sections": true,
   "sideBar": true,
   "skip_h1_title": false,
   "title_cell": "Table of Contents",
   "title_sidebar": "Contents",
   "toc_cell": false,
   "toc_position": {},
   "toc_section_display": true,
   "toc_window_display": false
  }
 },
 "nbformat": 4,
 "nbformat_minor": 1
}
