{
 "cells": [
  {
   "cell_type": "markdown",
   "metadata": {},
   "source": [
    "# 目的\n",
    "手元のデータに対して既存のテクニカル指標を計算し、それらを保存する。"
   ]
  },
  {
   "cell_type": "code",
   "execution_count": 1,
   "metadata": {},
   "outputs": [],
   "source": [
    "import glob\n",
    "from itertools import combinations\n",
    "import os\n",
    "import numpy as np\n",
    "import pandas as pd\n",
    "import matplotlib.pyplot as plt\n",
    "from mpl_toolkits.mplot3d import Axes3D\n",
    "\n",
    "import sys\n",
    "sys.path.append(\"../pybitcoin/gui/utils/\")\n",
    "\n",
    "from DataAdapter import DataAdapter\n",
    "\n",
    "%matplotlib inline"
   ]
  },
  {
   "cell_type": "code",
   "execution_count": 2,
   "metadata": {},
   "outputs": [],
   "source": [
    "file_list = glob.glob(\"../pybitcoin/gui/data/ohlcv/OHLCV*.csv\")\n",
    "data = None\n",
    "for fpath in file_list:\n",
    "    if data is None:\n",
    "        data = pd.read_csv(fpath, index_col=0)\n",
    "    else:\n",
    "        data = pd.concat((data, pd.read_csv(fpath, index_col=0)))"
   ]
  },
  {
   "cell_type": "code",
   "execution_count": 4,
   "metadata": {},
   "outputs": [
    {
     "data": {
      "text/html": [
       "<div>\n",
       "<style scoped>\n",
       "    .dataframe tbody tr th:only-of-type {\n",
       "        vertical-align: middle;\n",
       "    }\n",
       "\n",
       "    .dataframe tbody tr th {\n",
       "        vertical-align: top;\n",
       "    }\n",
       "\n",
       "    .dataframe thead th {\n",
       "        text-align: right;\n",
       "    }\n",
       "</style>\n",
       "<table border=\"1\" class=\"dataframe\">\n",
       "  <thead>\n",
       "    <tr style=\"text-align: right;\">\n",
       "      <th></th>\n",
       "      <th>time</th>\n",
       "      <th>id_start</th>\n",
       "      <th>id_end</th>\n",
       "      <th>open</th>\n",
       "      <th>high</th>\n",
       "      <th>low</th>\n",
       "      <th>close</th>\n",
       "      <th>volume</th>\n",
       "    </tr>\n",
       "  </thead>\n",
       "  <tbody>\n",
       "    <tr>\n",
       "      <th>1435</th>\n",
       "      <td>1.548828e+09</td>\n",
       "      <td>771672450</td>\n",
       "      <td>771675176</td>\n",
       "      <td>373304</td>\n",
       "      <td>373441</td>\n",
       "      <td>373238</td>\n",
       "      <td>373316</td>\n",
       "      <td>363.896813</td>\n",
       "    </tr>\n",
       "    <tr>\n",
       "      <th>1436</th>\n",
       "      <td>1.548828e+09</td>\n",
       "      <td>771675177</td>\n",
       "      <td>771677655</td>\n",
       "      <td>373301</td>\n",
       "      <td>373500</td>\n",
       "      <td>373298</td>\n",
       "      <td>373337</td>\n",
       "      <td>320.267716</td>\n",
       "    </tr>\n",
       "    <tr>\n",
       "      <th>1437</th>\n",
       "      <td>1.548828e+09</td>\n",
       "      <td>771677656</td>\n",
       "      <td>771681124</td>\n",
       "      <td>373337</td>\n",
       "      <td>373697</td>\n",
       "      <td>373300</td>\n",
       "      <td>373576</td>\n",
       "      <td>550.543147</td>\n",
       "    </tr>\n",
       "    <tr>\n",
       "      <th>1438</th>\n",
       "      <td>1.548828e+09</td>\n",
       "      <td>771681125</td>\n",
       "      <td>771684517</td>\n",
       "      <td>373576</td>\n",
       "      <td>373640</td>\n",
       "      <td>373340</td>\n",
       "      <td>373419</td>\n",
       "      <td>497.981185</td>\n",
       "    </tr>\n",
       "    <tr>\n",
       "      <th>1439</th>\n",
       "      <td>1.548828e+09</td>\n",
       "      <td>771684518</td>\n",
       "      <td>771688738</td>\n",
       "      <td>373417</td>\n",
       "      <td>373585</td>\n",
       "      <td>372785</td>\n",
       "      <td>372785</td>\n",
       "      <td>835.747613</td>\n",
       "    </tr>\n",
       "  </tbody>\n",
       "</table>\n",
       "</div>"
      ],
      "text/plain": [
       "              time   id_start     id_end    open    high     low   close  \\\n",
       "1435  1.548828e+09  771672450  771675176  373304  373441  373238  373316   \n",
       "1436  1.548828e+09  771675177  771677655  373301  373500  373298  373337   \n",
       "1437  1.548828e+09  771677656  771681124  373337  373697  373300  373576   \n",
       "1438  1.548828e+09  771681125  771684517  373576  373640  373340  373419   \n",
       "1439  1.548828e+09  771684518  771688738  373417  373585  372785  372785   \n",
       "\n",
       "          volume  \n",
       "1435  363.896813  \n",
       "1436  320.267716  \n",
       "1437  550.543147  \n",
       "1438  497.981185  \n",
       "1439  835.747613  "
      ]
     },
     "execution_count": 4,
     "metadata": {},
     "output_type": "execute_result"
    }
   ],
   "source": [
    "data.tail()"
   ]
  },
  {
   "cell_type": "code",
   "execution_count": null,
   "metadata": {},
   "outputs": [],
   "source": []
  }
 ],
 "metadata": {
  "kernelspec": {
   "display_name": "Python 3",
   "language": "python",
   "name": "python3"
  },
  "language_info": {
   "codemirror_mode": {
    "name": "ipython",
    "version": 3
   },
   "file_extension": ".py",
   "mimetype": "text/x-python",
   "name": "python",
   "nbconvert_exporter": "python",
   "pygments_lexer": "ipython3",
   "version": "3.7.1"
  }
 },
 "nbformat": 4,
 "nbformat_minor": 2
}
