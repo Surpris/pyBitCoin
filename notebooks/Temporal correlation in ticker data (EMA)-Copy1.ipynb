{
 "cells": [
  {
   "cell_type": "markdown",
   "metadata": {},
   "source": [
    "# 目的\n",
    "（ほぼ）１秒ごとに取得されたtickerのデータセットに内在する何かしらの相関を探る。"
   ]
  },
  {
   "cell_type": "code",
   "execution_count": null,
   "metadata": {
    "ExecuteTime": {
     "end_time": "2018-07-29T07:13:40.497418Z",
     "start_time": "2018-07-29T07:13:38.363052Z"
    }
   },
   "outputs": [],
   "source": [
    "import pandas as pd\n",
    "import glob\n",
    "import os\n",
    "import matplotlib.pyplot as plt\n",
    "from scipy.signal import lfilter\n",
    "\n",
    "%matplotlib inline"
   ]
  },
  {
   "cell_type": "code",
   "execution_count": null,
   "metadata": {
    "ExecuteTime": {
     "end_time": "2018-07-29T07:13:40.517360Z",
     "start_time": "2018-07-29T07:13:40.499471Z"
    }
   },
   "outputs": [],
   "source": [
    "def calc_EMA(x, N):\n",
    "    \"\"\"calc_EMA(x, N) -> array-like\n",
    "    calculate exponential moving average (EMA)\n",
    "    \"\"\"\n",
    "    return _calc_EMA(x, 2./(N + 1.))\n",
    "\n",
    "def _calc_EMA(x, alpha):\n",
    "    \"\"\" _calc_EMA(x, alpha) -> array-like\n",
    "    Adopted from https://qiita.com/toyolab/items/6872b32d9fa1763345d8\n",
    "    \"\"\"\n",
    "    y,_ = lfilter([alpha], [1,alpha-1], x, zi=[x[0]*(1-alpha)])\n",
    "    return y"
   ]
  },
  {
   "cell_type": "code",
   "execution_count": null,
   "metadata": {
    "ExecuteTime": {
     "end_time": "2018-07-29T07:13:40.597355Z",
     "start_time": "2018-07-29T07:13:40.526359Z"
    }
   },
   "outputs": [],
   "source": [
    "fldrpath = r\"C:\\Users\\take9\\Desktop\\data_\"\n",
    "filelist = glob.glob(os.path.join(fldrpath, \"*.csv\"))\n",
    "print(len(filelist))"
   ]
  },
  {
   "cell_type": "markdown",
   "metadata": {},
   "source": [
    "# 全結合\n",
    "使うのはLTPのみ。"
   ]
  },
  {
   "cell_type": "code",
   "execution_count": null,
   "metadata": {
    "ExecuteTime": {
     "end_time": "2018-07-29T07:16:36.675512Z",
     "start_time": "2018-07-29T07:16:21.130809Z"
    },
    "scrolled": true
   },
   "outputs": [],
   "source": [
    "ltps = np.empty(0)\n",
    "for index in range(len(filelist)):\n",
    "    data = pd.read_csv(filelist[index], index_col=0)\n",
    "    data_ = data[\"ltp\"].values\n",
    "    ltps = np.append(ltps, data_)"
   ]
  },
  {
   "cell_type": "markdown",
   "metadata": {},
   "source": [
    "# EMA"
   ]
  },
  {
   "cell_type": "code",
   "execution_count": null,
   "metadata": {
    "ExecuteTime": {
     "end_time": "2018-07-29T07:32:33.243431Z",
     "start_time": "2018-07-29T07:32:33.195436Z"
    }
   },
   "outputs": [],
   "source": [
    "points = 20\n",
    "points2 = 40\n",
    "\n",
    "ema = calc_EMA(ltps, points)\n",
    "ema2 = calc_EMA(ltps, points2)"
   ]
  },
  {
   "cell_type": "code",
   "execution_count": null,
   "metadata": {
    "ExecuteTime": {
     "end_time": "2018-07-29T07:35:29.520517Z",
     "start_time": "2018-07-29T07:35:13.413066Z"
    },
    "scrolled": false
   },
   "outputs": [],
   "source": [
    "ltp_start_index = 3600*270\n",
    "\n",
    "plt.figure(figsize=(18,18))\n",
    "for ii in range(18):\n",
    "    plt.subplot(6, 3, ii + 1)\n",
    "    data_ = ltps[ltp_start_index + ii*100 : ltp_start_index + (ii+1)*100]\n",
    "    plt.plot(data_,\"o-\", color=\"#E74C3C\")\n",
    "    ema_ = ema[ltp_start_index + ii*100 : ltp_start_index + (ii+1)*100]\n",
    "    plt.plot(ema_, \"#D4AC0D\")\n",
    "    ema2_ = ema2[ltp_start_index + ii*100 : ltp_start_index + (ii+1)*100]\n",
    "    plt.plot(ema2_)\n",
    "    ema_diff = data_ - ema_\n",
    "    ax2 = plt.gca().twinx()\n",
    "    ax2.plot(ema_diff, \"#16A085\")\n",
    "    ax2.hlines(0, 100, 0, linestyles=\"--\")\n",
    "    plt.grid()\n",
    "#     break\n",
    "plt.tight_layout()\n",
    "plt.savefig(\"../images/trend_start_{}_ema_{}_{}.png\".format(ltp_start_index, points, points2), \n",
    "            bbox_inches=\"tight\", pad_inches=0.2)"
   ]
  },
  {
   "cell_type": "code",
   "execution_count": null,
   "metadata": {},
   "outputs": [],
   "source": []
  }
 ],
 "metadata": {
  "kernelspec": {
   "display_name": "Python 3",
   "language": "python",
   "name": "python3"
  },
  "language_info": {
   "codemirror_mode": {
    "name": "ipython",
    "version": 3
   },
   "file_extension": ".py",
   "mimetype": "text/x-python",
   "name": "python",
   "nbconvert_exporter": "python",
   "pygments_lexer": "ipython3",
   "version": "3.6.6"
  },
  "toc": {
   "base_numbering": 1,
   "nav_menu": {},
   "number_sections": true,
   "sideBar": true,
   "skip_h1_title": false,
   "title_cell": "Table of Contents",
   "title_sidebar": "Contents",
   "toc_cell": false,
   "toc_position": {},
   "toc_section_display": true,
   "toc_window_display": false
  }
 },
 "nbformat": 4,
 "nbformat_minor": 2
}
