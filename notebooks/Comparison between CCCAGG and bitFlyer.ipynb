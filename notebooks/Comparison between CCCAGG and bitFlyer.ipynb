{
 "cells": [
  {
   "cell_type": "markdown",
   "metadata": {},
   "source": [
    "# 目的\n",
    "bitFlyerが公開している値とCCCAGGの公開している値を比較する。"
   ]
  },
  {
   "cell_type": "code",
   "execution_count": null,
   "metadata": {
    "ExecuteTime": {
     "end_time": "2018-06-02T16:56:23.133459Z",
     "start_time": "2018-06-02T16:56:23.116457Z"
    }
   },
   "outputs": [],
   "source": [
    "import sys\n",
    "import pyBitCoin.pybitcoin as pybct\n",
    "import pickle\n",
    "import time\n",
    "\n",
    "import matplotlib.pyplot as plt\n",
    "# from matplotlib.finance import candlestick_ohlc\n",
    "import mpl_finance\n",
    "%matplotlib inline"
   ]
  },
  {
   "cell_type": "markdown",
   "metadata": {},
   "source": [
    "# CCCAGGとbitFlyerのOHLCは似通っているか？"
   ]
  },
  {
   "cell_type": "markdown",
   "metadata": {},
   "source": [
    "## bitFlyer"
   ]
  },
  {
   "cell_type": "code",
   "execution_count": null,
   "metadata": {
    "ExecuteTime": {
     "end_time": "2018-06-02T16:59:01.996355Z",
     "start_time": "2018-06-02T16:58:26.220521Z"
    }
   },
   "outputs": [],
   "source": [
    "# brands_interest = [\"BTC\", \"ETH\", \"ETC\", \"LTC\", \"BCH\", \"MONA\", \"LSK\"]\n",
    "# brands_into = [\"JPY\", \"BTC\", \"BTC\", \"BTC\", \"BTC\", \"BTC\", \"BTC\"]\n",
    "\n",
    "brands_interest = [\"BTC\", \"ETH\", \"BCH\"] # BTCFX, ETC, LTC, MONA, LSK はない \n",
    "brands_into = [\"JPY\", \"BTC\", \"BTC\"]\n",
    "\n",
    "dfs = [None] * len(brands_interest)\n",
    "\n",
    "is_datetimestr = False\n",
    "datetimeFmt = \"%Y-%m-%dT%H:%M:%S.%f\"\n",
    "\n",
    "toTs_end = datetime.datetime(2016, 1, 1, 0, 0, 0).timestamp()\n",
    "toTs_last = datetime.datetime(2018, 4, 30, 23, 0, 0).timestamp()\n",
    "histoticks = \"hour\"\n",
    "days = 30\n",
    "limit = int(24*days-1)\n",
    "\n",
    "for ii in range(36): # とりあえず３年分に設定\n",
    "    toTs = toTs_last - ii*days*24*3600\n",
    "    datetime1 = datetime.datetime.fromtimestamp(toTs)\n",
    "    print(ii, datetime1.strftime(datetimeFmt))\n",
    "    if toTs <= toTs_end:\n",
    "        break\n",
    "    for jj in range(len(brands_interest)):\n",
    "        print(\"{} -> {}\".format(brands_interest[jj], brands_into[jj]))\n",
    "        params = {\n",
    "            \"fsym\": brands_interest[jj],\n",
    "            \"tsym\": brands_into[jj],\n",
    "            \"limit\": str(limit),\n",
    "            \"e\": \"bitFlyer\",\n",
    "            \"toTs\":str(toTs)\n",
    "        }\n",
    "        result = pybct.core.rategetter.getRateViaCrypto(histoticks, params)\n",
    "        if ii == 0:\n",
    "            dfs[jj] = pybct.core.rategetter.toDataFrame(result, is_datetimestr)\n",
    "        else:\n",
    "            dfs[jj] = pd.concat([toDataFrame(result, is_datetimestr), dfs[jj]], ignore_index=True)\n",
    "        time.sleep(10)\n",
    "    break\n",
    "#     if ii == 2:\n",
    "#         break"
   ]
  },
  {
   "cell_type": "code",
   "execution_count": null,
   "metadata": {
    "ExecuteTime": {
     "end_time": "2018-06-02T16:59:02.028021Z",
     "start_time": "2018-06-02T16:59:01.998390Z"
    }
   },
   "outputs": [],
   "source": [
    "with open(\"../data/test.pickle\", \"wb\") as ff:\n",
    "    pickle.dump(dfs, ff)"
   ]
  },
  {
   "cell_type": "code",
   "execution_count": null,
   "metadata": {
    "ExecuteTime": {
     "end_time": "2018-06-02T16:59:02.064020Z",
     "start_time": "2018-06-02T16:59:02.038019Z"
    }
   },
   "outputs": [],
   "source": [
    "with open(\"../data/test.pickle\", \"rb\") as ff:\n",
    "    dfs_flyer = pickle.load(ff)"
   ]
  },
  {
   "cell_type": "markdown",
   "metadata": {},
   "source": [
    "## CCCAGG"
   ]
  },
  {
   "cell_type": "code",
   "execution_count": null,
   "metadata": {
    "ExecuteTime": {
     "end_time": "2018-06-02T16:59:38.777961Z",
     "start_time": "2018-06-02T16:59:02.076019Z"
    }
   },
   "outputs": [],
   "source": [
    "# brands_interest = [\"BTC\", \"ETH\", \"ETC\", \"LTC\", \"BCH\", \"MONA\", \"LSK\"]\n",
    "# brands_into = [\"JPY\", \"BTC\", \"BTC\", \"BTC\", \"BTC\", \"BTC\", \"BTC\"]\n",
    "\n",
    "brands_interest = [\"BTC\", \"ETH\", \"BCH\"] # BTCFX, ETC, LTC, MONA, LSK はない \n",
    "brands_into = [\"JPY\", \"BTC\", \"BTC\"]\n",
    "\n",
    "dfs = [None] * len(brands_interest)\n",
    "\n",
    "is_datetimestr = False\n",
    "datetimeFmt = \"%Y-%m-%dT%H:%M:%S.%f\"\n",
    "\n",
    "toTs_end = datetime.datetime(2016, 1, 1, 1, 0, 0).timestamp()\n",
    "toTs_last = datetime.datetime(2018, 6, 1, 0, 0, 0).timestamp()\n",
    "histoticks = \"hour\"\n",
    "days = 30\n",
    "limit = int(24*days-1)\n",
    "\n",
    "for ii in range(36): # とりあえず３年分に設定\n",
    "    toTs = toTs_last - ii*days*24*3600\n",
    "    datetime1 = datetime.datetime.fromtimestamp(toTs)\n",
    "    print(ii, datetime1.strftime(datetimeFmt))\n",
    "    if toTs <= toTs_end:\n",
    "        break\n",
    "    for jj in range(len(brands_interest)):\n",
    "        print(\"{} -> {}\".format(brands_interest[jj], brands_into[jj]))\n",
    "        params = {\n",
    "            \"fsym\": brands_interest[jj],\n",
    "            \"tsym\": brands_into[jj],\n",
    "            \"limit\": str(limit),\n",
    "#             \"e\": \"bitFlyer\",\n",
    "            \"toTs\":str(toTs)\n",
    "        }\n",
    "        result = pybct.core.rategetter.getRateViaCrypto(histoticks, params)\n",
    "        if ii == 0:\n",
    "            dfs[jj] = pybct.core.rategetter.toDataFrame(result, is_datetimestr)\n",
    "        else:\n",
    "            dfs[jj] = pd.concat([toDataFrame(result, is_datetimestr), dfs[jj]], ignore_index=True)\n",
    "        time.sleep(10)\n",
    "    break\n",
    "#     if ii == 2:\n",
    "#         break"
   ]
  },
  {
   "cell_type": "code",
   "execution_count": null,
   "metadata": {
    "ExecuteTime": {
     "end_time": "2018-06-02T16:59:38.803962Z",
     "start_time": "2018-06-02T16:59:38.783964Z"
    }
   },
   "outputs": [],
   "source": [
    "with open(\"../data/test_cccagg.pickle\", \"wb\") as ff:\n",
    "    pickle.dump(dfs, ff)"
   ]
  },
  {
   "cell_type": "code",
   "execution_count": null,
   "metadata": {
    "ExecuteTime": {
     "end_time": "2018-06-02T16:59:38.848959Z",
     "start_time": "2018-06-02T16:59:38.817962Z"
    }
   },
   "outputs": [],
   "source": [
    "with open(\"../data/test_cccagg.pickle\", \"rb\") as ff:\n",
    "    dfs_cccagg = pickle.load(ff)"
   ]
  },
  {
   "cell_type": "markdown",
   "metadata": {},
   "source": [
    "## Compare"
   ]
  },
  {
   "cell_type": "code",
   "execution_count": null,
   "metadata": {
    "ExecuteTime": {
     "end_time": "2018-06-02T17:10:46.785804Z",
     "start_time": "2018-06-02T17:09:51.222300Z"
    }
   },
   "outputs": [],
   "source": [
    "\n",
    "for jj in range(len(dfs_flyer)):\n",
    "    timestamps = dfs_flyer[jj][\"time\"].values\n",
    "    fig, axes = plt.subplots(figsize=(8, 4), ncols=2)\n",
    "    _ = mpl_finance.candlestick_ohlc(axes[0], dfs_flyer[jj][[\"time\", \"open\", \"high\", \"low\", \"close\"]].values, width=np.diff(timestamps)[0]*0.8)\n",
    "    plt.grid()\n",
    "\n",
    "    _ = mpl_finance.candlestick_ohlc(axes[1], dfs_cccagg[jj][[\"time\", \"open\", \"high\", \"low\", \"close\"]].values, width=np.diff(timestamps)[0]*0.8)\n",
    "    plt.grid()\n",
    "    plt.tight_layout()"
   ]
  },
  {
   "cell_type": "markdown",
   "metadata": {},
   "source": [
    "わりと傾向は似ている？"
   ]
  },
  {
   "cell_type": "code",
   "execution_count": null,
   "metadata": {
    "ExecuteTime": {
     "end_time": "2018-06-02T17:51:17.333030Z",
     "start_time": "2018-06-02T17:51:15.319517Z"
    }
   },
   "outputs": [],
   "source": [
    "index = 0\n",
    "plt.figure(figsize=(12,8))\n",
    "plt.subplot(231)\n",
    "plt.plot(dfs_flyer[index][[\"close\"]].values, dfs_cccagg[index][[\"close\"]].values, \"o\")\n",
    "plt.grid()\n",
    "plt.title(\"close\")\n",
    "\n",
    "plt.subplot(232)\n",
    "plt.plot(dfs_flyer[index][[\"open\"]].values, dfs_cccagg[index][[\"open\"]].values, \"o\")\n",
    "plt.grid()\n",
    "plt.title(\"open\")\n",
    "\n",
    "plt.subplot(233)\n",
    "plt.plot(dfs_flyer[index][[\"high\"]].values, dfs_cccagg[index][[\"high\"]].values, \"o\")\n",
    "plt.grid()\n",
    "plt.title(\"high\")\n",
    "\n",
    "plt.subplot(234)\n",
    "plt.plot(dfs_flyer[index][[\"low\"]].values, dfs_cccagg[index][[\"low\"]].values, \"o\")\n",
    "plt.grid()\n",
    "plt.title(\"low\")\n",
    "\n",
    "plt.subplot(235)\n",
    "plt.plot(dfs_flyer[index][[\"volumeto\"]].values, dfs_cccagg[index][[\"volumeto\"]].values, \"o\")\n",
    "plt.grid()\n",
    "plt.title(\"volumeto\")\n",
    "\n",
    "plt.tight_layout()"
   ]
  },
  {
   "cell_type": "code",
   "execution_count": null,
   "metadata": {
    "ExecuteTime": {
     "end_time": "2018-06-02T17:52:38.040637Z",
     "start_time": "2018-06-02T17:52:35.762696Z"
    }
   },
   "outputs": [],
   "source": [
    "index = 1\n",
    "plt.figure(figsize=(12,8))\n",
    "plt.subplot(231)\n",
    "plt.plot(dfs_flyer[index][[\"close\"]].values, dfs_cccagg[index][[\"close\"]].values, \"o\")\n",
    "plt.grid()\n",
    "plt.title(\"close\")\n",
    "\n",
    "plt.subplot(232)\n",
    "plt.plot(dfs_flyer[index][[\"open\"]].values, dfs_cccagg[index][[\"open\"]].values, \"o\")\n",
    "plt.grid()\n",
    "plt.title(\"open\")\n",
    "\n",
    "plt.subplot(233)\n",
    "plt.plot(dfs_flyer[index][[\"high\"]].values, dfs_cccagg[index][[\"high\"]].values, \"o\")\n",
    "plt.grid()\n",
    "plt.title(\"high\")\n",
    "\n",
    "plt.subplot(234)\n",
    "plt.plot(dfs_flyer[index][[\"low\"]].values, dfs_cccagg[index][[\"low\"]].values, \"o\")\n",
    "plt.grid()\n",
    "plt.title(\"low\")\n",
    "\n",
    "plt.subplot(235)\n",
    "plt.plot(dfs_flyer[index][[\"volumeto\"]].values, dfs_cccagg[index][[\"volumeto\"]].values, \"o\")\n",
    "plt.grid()\n",
    "plt.title(\"volumeto\")\n",
    "\n",
    "plt.tight_layout()"
   ]
  },
  {
   "cell_type": "code",
   "execution_count": null,
   "metadata": {
    "ExecuteTime": {
     "end_time": "2018-06-02T17:52:38.040637Z",
     "start_time": "2018-06-02T17:52:35.762696Z"
    }
   },
   "outputs": [],
   "source": [
    "index = 2\n",
    "plt.figure(figsize=(12,8))\n",
    "plt.subplot(231)\n",
    "plt.plot(dfs_flyer[index][[\"close\"]].values, dfs_cccagg[index][[\"close\"]].values, \"o\")\n",
    "plt.grid()\n",
    "plt.title(\"close\")\n",
    "\n",
    "plt.subplot(232)\n",
    "plt.plot(dfs_flyer[index][[\"open\"]].values, dfs_cccagg[index][[\"open\"]].values, \"o\")\n",
    "plt.grid()\n",
    "plt.title(\"open\")\n",
    "\n",
    "plt.subplot(233)\n",
    "plt.plot(dfs_flyer[index][[\"high\"]].values, dfs_cccagg[index][[\"high\"]].values, \"o\")\n",
    "plt.grid()\n",
    "plt.title(\"high\")\n",
    "\n",
    "plt.subplot(234)\n",
    "plt.plot(dfs_flyer[index][[\"low\"]].values, dfs_cccagg[index][[\"low\"]].values, \"o\")\n",
    "plt.grid()\n",
    "plt.title(\"low\")\n",
    "\n",
    "plt.subplot(235)\n",
    "plt.plot(dfs_flyer[index][[\"volumeto\"]].values, dfs_cccagg[index][[\"volumeto\"]].values, \"o\")\n",
    "plt.grid()\n",
    "plt.title(\"volumeto\")\n",
    "\n",
    "plt.tight_layout()"
   ]
  },
  {
   "cell_type": "markdown",
   "metadata": {},
   "source": [
    "CCCAGGの値とbitFlyerの値はほぼ線形である様子。   \n",
    "volumeは違うようである。   \n",
    "傾向を確認するだけであれば、CCCAGGのトレンドを確認すればよいことになる。   \n",
    "（ただし、これらは販売所の値でしかないことに注意すべき？）\n",
    "\n",
    "CCCAGGの方が、公開されている銘柄のペアが多い。"
   ]
  },
  {
   "cell_type": "markdown",
   "metadata": {},
   "source": [
    "# 分足ではどうか"
   ]
  },
  {
   "cell_type": "markdown",
   "metadata": {},
   "source": [
    "## bitFlyer"
   ]
  },
  {
   "cell_type": "code",
   "execution_count": null,
   "metadata": {
    "ExecuteTime": {
     "end_time": "2018-06-02T18:07:10.162362Z",
     "start_time": "2018-06-02T18:06:35.224177Z"
    }
   },
   "outputs": [],
   "source": [
    "# brands_interest = [\"BTC\", \"ETH\", \"ETC\", \"LTC\", \"BCH\", \"MONA\", \"LSK\"]\n",
    "# brands_into = [\"JPY\", \"BTC\", \"BTC\", \"BTC\", \"BTC\", \"BTC\", \"BTC\"]\n",
    "\n",
    "brands_interest = [\"BTC\", \"ETH\", \"BCH\"] # BTCFX, ETC, LTC, MONA, LSK はない \n",
    "brands_into = [\"JPY\", \"BTC\", \"BTC\"]\n",
    "\n",
    "dfs = [None] * len(brands_interest)\n",
    "\n",
    "is_datetimestr = False\n",
    "datetimeFmt = \"%Y-%m-%dT%H:%M:%S.%f\"\n",
    "\n",
    "toTs_end = datetime.datetime(2018, 5, 28, 0, 0, 0).timestamp()\n",
    "toTs_last = datetime.datetime(2018, 6, 2, 0, 0, 0).timestamp()\n",
    "histoticks = \"minute\"\n",
    "hours = 4 # ６回に分けてデータを取得する\n",
    "limit = int(hours*60 - 1)\n",
    "\n",
    "for ii in range(36): # とりあえず３年分に設定\n",
    "    toTs = toTs_last - ii * hours * 3600\n",
    "    datetime1 = datetime.datetime.fromtimestamp(toTs)\n",
    "    print(ii, datetime1.strftime(datetimeFmt))\n",
    "    if toTs <= toTs_end:\n",
    "        break\n",
    "    for jj in range(len(brands_interest)):\n",
    "        print(\"{} -> {}\".format(brands_interest[jj], brands_into[jj]))\n",
    "        params = {\n",
    "            \"fsym\": brands_interest[jj],\n",
    "            \"tsym\": brands_into[jj],\n",
    "            \"limit\": str(limit),\n",
    "            \"e\": \"bitFlyer\",\n",
    "            \"toTs\":str(toTs)\n",
    "        }\n",
    "        result = pybct.core.rategetter.getRateViaCrypto(histoticks, params)\n",
    "        if ii == 0:\n",
    "            dfs[jj] = pybct.core.rategetter.toDataFrame(result, is_datetimestr)\n",
    "        else:\n",
    "            dfs[jj] = pd.concat([toDataFrame(result, is_datetimestr), dfs[jj]], ignore_index=True)\n",
    "        time.sleep(10)\n",
    "    break\n",
    "#     if ii == 2:\n",
    "#         break"
   ]
  },
  {
   "cell_type": "code",
   "execution_count": null,
   "metadata": {
    "ExecuteTime": {
     "end_time": "2018-06-02T18:07:45.326460Z",
     "start_time": "2018-06-02T18:07:45.301458Z"
    }
   },
   "outputs": [],
   "source": [
    "with open(\"../data/test_minute.pickle\", \"wb\") as ff:\n",
    "    pickle.dump(dfs, ff)"
   ]
  },
  {
   "cell_type": "code",
   "execution_count": null,
   "metadata": {
    "ExecuteTime": {
     "end_time": "2018-06-02T18:07:45.366458Z",
     "start_time": "2018-06-02T18:07:45.338460Z"
    }
   },
   "outputs": [],
   "source": [
    "with open(\"../data/test_minute.pickle\", \"rb\") as ff:\n",
    "    dfs_flyer = pickle.load(ff)"
   ]
  },
  {
   "cell_type": "markdown",
   "metadata": {},
   "source": [
    "## CCCAGG"
   ]
  },
  {
   "cell_type": "code",
   "execution_count": null,
   "metadata": {
    "ExecuteTime": {
     "end_time": "2018-06-02T18:07:45.295459Z",
     "start_time": "2018-06-02T18:07:10.234372Z"
    }
   },
   "outputs": [],
   "source": [
    "# brands_interest = [\"BTC\", \"ETH\", \"ETC\", \"LTC\", \"BCH\", \"MONA\", \"LSK\"]\n",
    "# brands_into = [\"JPY\", \"BTC\", \"BTC\", \"BTC\", \"BTC\", \"BTC\", \"BTC\"]\n",
    "\n",
    "brands_interest = [\"BTC\", \"ETH\", \"BCH\"] # BTCFX, ETC, LTC, MONA, LSK はない \n",
    "brands_into = [\"JPY\", \"BTC\", \"BTC\"]\n",
    "\n",
    "dfs = [None] * len(brands_interest)\n",
    "\n",
    "is_datetimestr = False\n",
    "datetimeFmt = \"%Y-%m-%dT%H:%M:%S.%f\"\n",
    "\n",
    "toTs_end = datetime.datetime(2018, 5, 28, 0, 0, 0).timestamp()\n",
    "toTs_last = datetime.datetime(2018, 6, 2, 0, 0, 0).timestamp()\n",
    "histoticks = \"minute\"\n",
    "hours = 4 # ６回に分けてデータを取得する\n",
    "limit = int(hours*60 - 1)\n",
    "\n",
    "for ii in range(36): # とりあえず３年分に設定\n",
    "    toTs = toTs_last - ii * hours * 3600\n",
    "    datetime1 = datetime.datetime.fromtimestamp(toTs)\n",
    "    print(ii, datetime1.strftime(datetimeFmt))\n",
    "    if toTs <= toTs_end:\n",
    "        break\n",
    "    for jj in range(len(brands_interest)):\n",
    "        print(\"{} -> {}\".format(brands_interest[jj], brands_into[jj]))\n",
    "        params = {\n",
    "            \"fsym\": brands_interest[jj],\n",
    "            \"tsym\": brands_into[jj],\n",
    "            \"limit\": str(limit),\n",
    "#             \"e\": \"bitFlyer\",\n",
    "            \"toTs\":str(toTs)\n",
    "        }\n",
    "        result = pybct.core.rategetter.getRateViaCrypto(histoticks, params)\n",
    "        if ii == 0:\n",
    "            dfs[jj] = pybct.core.rategetter.toDataFrame(result, is_datetimestr)\n",
    "        else:\n",
    "            dfs[jj] = pd.concat([toDataFrame(result, is_datetimestr), dfs[jj]], ignore_index=True)\n",
    "        time.sleep(10)\n",
    "    break\n",
    "#     if ii == 2:\n",
    "#         break"
   ]
  },
  {
   "cell_type": "code",
   "execution_count": null,
   "metadata": {
    "ExecuteTime": {
     "end_time": "2018-06-02T18:07:45.326460Z",
     "start_time": "2018-06-02T18:07:45.301458Z"
    }
   },
   "outputs": [],
   "source": [
    "with open(\"../data/test_cccagg_minute.pickle\", \"wb\") as ff:\n",
    "    pickle.dump(dfs, ff)"
   ]
  },
  {
   "cell_type": "code",
   "execution_count": null,
   "metadata": {
    "ExecuteTime": {
     "end_time": "2018-06-02T18:07:45.366458Z",
     "start_time": "2018-06-02T18:07:45.338460Z"
    }
   },
   "outputs": [],
   "source": [
    "with open(\"../data/test_cccagg_minute.pickle\", \"rb\") as ff:\n",
    "    dfs_cccagg = pickle.load(ff)"
   ]
  },
  {
   "cell_type": "markdown",
   "metadata": {},
   "source": [
    "## Compare"
   ]
  },
  {
   "cell_type": "code",
   "execution_count": null,
   "metadata": {
    "ExecuteTime": {
     "end_time": "2018-06-02T18:08:05.528819Z",
     "start_time": "2018-06-02T18:07:45.378457Z"
    }
   },
   "outputs": [],
   "source": [
    "\n",
    "for jj in range(len(dfs_flyer)):\n",
    "    timestamps = dfs_flyer[jj][\"time\"].values\n",
    "    fig, axes = plt.subplots(figsize=(8, 4), ncols=2)\n",
    "    _ = mpl_finance.candlestick_ohlc(axes[0], dfs_flyer[jj][[\"time\", \"open\", \"high\", \"low\", \"close\"]].values, width=np.diff(timestamps)[0]*0.8)\n",
    "    plt.grid()\n",
    "\n",
    "    _ = mpl_finance.candlestick_ohlc(axes[1], dfs_cccagg[jj][[\"time\", \"open\", \"high\", \"low\", \"close\"]].values, width=np.diff(timestamps)[0]*0.8)\n",
    "    plt.grid()\n",
    "    plt.tight_layout()"
   ]
  },
  {
   "cell_type": "code",
   "execution_count": null,
   "metadata": {
    "ExecuteTime": {
     "end_time": "2018-06-02T18:08:07.787510Z",
     "start_time": "2018-06-02T18:08:05.539818Z"
    }
   },
   "outputs": [],
   "source": [
    "index = 0\n",
    "plt.figure(figsize=(12,8))\n",
    "plt.subplot(231)\n",
    "plt.plot(dfs_flyer[index][[\"close\"]].values, dfs_cccagg[index][[\"close\"]].values, \"o\")\n",
    "plt.grid()\n",
    "plt.title(\"close\")\n",
    "\n",
    "plt.subplot(232)\n",
    "plt.plot(dfs_flyer[index][[\"open\"]].values, dfs_cccagg[index][[\"open\"]].values, \"o\")\n",
    "plt.grid()\n",
    "plt.title(\"open\")\n",
    "\n",
    "plt.subplot(233)\n",
    "plt.plot(dfs_flyer[index][[\"high\"]].values, dfs_cccagg[index][[\"high\"]].values, \"o\")\n",
    "plt.grid()\n",
    "plt.title(\"high\")\n",
    "\n",
    "plt.subplot(234)\n",
    "plt.plot(dfs_flyer[index][[\"low\"]].values, dfs_cccagg[index][[\"low\"]].values, \"o\")\n",
    "plt.grid()\n",
    "plt.title(\"low\")\n",
    "\n",
    "plt.subplot(235)\n",
    "plt.plot(dfs_flyer[index][[\"volumeto\"]].values, dfs_cccagg[index][[\"volumeto\"]].values, \"o\")\n",
    "plt.grid()\n",
    "plt.title(\"volumeto\")\n",
    "\n",
    "plt.tight_layout()"
   ]
  },
  {
   "cell_type": "code",
   "execution_count": null,
   "metadata": {
    "ExecuteTime": {
     "end_time": "2018-06-02T18:08:10.691062Z",
     "start_time": "2018-06-02T18:08:07.801508Z"
    }
   },
   "outputs": [],
   "source": [
    "index = 1\n",
    "plt.figure(figsize=(12,8))\n",
    "plt.subplot(231)\n",
    "plt.plot(dfs_flyer[index][[\"close\"]].values, dfs_cccagg[index][[\"close\"]].values, \"o\")\n",
    "plt.grid()\n",
    "plt.title(\"close\")\n",
    "\n",
    "plt.subplot(232)\n",
    "plt.plot(dfs_flyer[index][[\"open\"]].values, dfs_cccagg[index][[\"open\"]].values, \"o\")\n",
    "plt.grid()\n",
    "plt.title(\"open\")\n",
    "\n",
    "plt.subplot(233)\n",
    "plt.plot(dfs_flyer[index][[\"high\"]].values, dfs_cccagg[index][[\"high\"]].values, \"o\")\n",
    "plt.grid()\n",
    "plt.title(\"high\")\n",
    "\n",
    "plt.subplot(234)\n",
    "plt.plot(dfs_flyer[index][[\"low\"]].values, dfs_cccagg[index][[\"low\"]].values, \"o\")\n",
    "plt.grid()\n",
    "plt.title(\"low\")\n",
    "\n",
    "plt.subplot(235)\n",
    "plt.plot(dfs_flyer[index][[\"volumeto\"]].values, dfs_cccagg[index][[\"volumeto\"]].values, \"o\")\n",
    "plt.grid()\n",
    "plt.title(\"volumeto\")\n",
    "\n",
    "plt.tight_layout()"
   ]
  },
  {
   "cell_type": "code",
   "execution_count": null,
   "metadata": {
    "ExecuteTime": {
     "end_time": "2018-06-02T18:08:13.197366Z",
     "start_time": "2018-06-02T18:08:10.699061Z"
    }
   },
   "outputs": [],
   "source": [
    "index = 2\n",
    "plt.figure(figsize=(12,8))\n",
    "plt.subplot(231)\n",
    "plt.plot(dfs_flyer[index][[\"close\"]].values, dfs_cccagg[index][[\"close\"]].values, \"o\")\n",
    "plt.grid()\n",
    "plt.title(\"close\")\n",
    "\n",
    "plt.subplot(232)\n",
    "plt.plot(dfs_flyer[index][[\"open\"]].values, dfs_cccagg[index][[\"open\"]].values, \"o\")\n",
    "plt.grid()\n",
    "plt.title(\"open\")\n",
    "\n",
    "plt.subplot(233)\n",
    "plt.plot(dfs_flyer[index][[\"high\"]].values, dfs_cccagg[index][[\"high\"]].values, \"o\")\n",
    "plt.grid()\n",
    "plt.title(\"high\")\n",
    "\n",
    "plt.subplot(234)\n",
    "plt.plot(dfs_flyer[index][[\"low\"]].values, dfs_cccagg[index][[\"low\"]].values, \"o\")\n",
    "plt.grid()\n",
    "plt.title(\"low\")\n",
    "\n",
    "plt.subplot(235)\n",
    "plt.plot(dfs_flyer[index][[\"volumeto\"]].values, dfs_cccagg[index][[\"volumeto\"]].values, \"o\")\n",
    "plt.grid()\n",
    "plt.title(\"volumeto\")\n",
    "\n",
    "plt.tight_layout()"
   ]
  },
  {
   "cell_type": "markdown",
   "metadata": {},
   "source": [
    "取引量がCCCAGGとbitFlyerでかなり異なる（bitFlyerのほうが少なすぎる）ため、分足の比較はあまりあてにならない様子。   "
   ]
  },
  {
   "cell_type": "code",
   "execution_count": null,
   "metadata": {},
   "outputs": [],
   "source": []
  }
 ],
 "metadata": {
  "kernelspec": {
   "display_name": "Python 3",
   "language": "python",
   "name": "python3"
  },
  "language_info": {
   "codemirror_mode": {
    "name": "ipython",
    "version": 3
   },
   "file_extension": ".py",
   "mimetype": "text/x-python",
   "name": "python",
   "nbconvert_exporter": "python",
   "pygments_lexer": "ipython3",
   "version": "3.6.5"
  },
  "toc": {
   "base_numbering": 1,
   "nav_menu": {},
   "number_sections": true,
   "sideBar": true,
   "skip_h1_title": false,
   "title_cell": "Table of Contents",
   "title_sidebar": "Contents",
   "toc_cell": false,
   "toc_position": {},
   "toc_section_display": true,
   "toc_window_display": false
  }
 },
 "nbformat": 4,
 "nbformat_minor": 2
}
