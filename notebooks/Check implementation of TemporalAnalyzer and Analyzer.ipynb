{
 "cells": [
  {
   "cell_type": "markdown",
   "metadata": {},
   "source": [
    "# 目的\n",
    "実装された`TemporalAnalyzer`と`Analyzer`が同じ結果を返すことを確認する。"
   ]
  },
  {
   "cell_type": "code",
   "execution_count": 1,
   "metadata": {},
   "outputs": [],
   "source": [
    "import glob\n",
    "from itertools import combinations\n",
    "import os\n",
    "import numpy as np\n",
    "import pandas as pd\n",
    "import matplotlib.pyplot as plt\n",
    "from mpl_toolkits.mplot3d import Axes3D\n",
    "import time\n",
    "\n",
    "import sys\n",
    "sys.path.append(\"../pybitcoin/gui/utils/\")\n",
    "\n",
    "from Analyzer import TemporalAnalyzer, Analyzer\n",
    "\n",
    "%matplotlib inline"
   ]
  },
  {
   "cell_type": "code",
   "execution_count": 2,
   "metadata": {},
   "outputs": [
    {
     "name": "stdout",
     "output_type": "stream",
     "text": [
      "TemporalAnalyzer(object)\n",
      "    \n",
      "    This class offers functions to calculate existent technical indices at the latest time.\n",
      "    In coming future, this offers `my functions`.\n",
      "\n",
      "    Examples\n",
      "    --------\n",
      "    >>> import numpy as np\n",
      "    >>> import pandas as pd\n",
      "    >>> import matplotlib.pyplot as plt\n",
      "    >>> analyzer = TemporalAnalyzer()\n",
      "    >>> timestamp = np.arange(1, 100)\n",
      "    >>> ohlc = []\n",
      "    >>> close = []\n",
      "    >>> ema = []\n",
      "    >>> N = 3\n",
      "    >>> alpha = 2. / (1. + N)\n",
      "    >>> for ii in range(len(timestamp)):\n",
      "    ...     buff = np.zeros(5, dtype=int)\n",
      "    ...     buff[0] = ii + 1\n",
      "    ...     buff[1:] = np.random.randint(100, 150, 4)\n",
      "    ...     ohlc.append(buff)\n",
      "    ...     close.append(buff[-1])\n",
      "    ...     ema.append(analyzer.calcEMA(ema, close, alpha))\n",
      "    ...\n",
      "    >>> plt.plot(timestamp, close)\n",
      "    >>> plt.plot(timestamp, ema)\n",
      "    \n"
     ]
    }
   ],
   "source": [
    "for line in TemporalAnalyzer.__doc__.split(\"\\n\"):\n",
    "    print(line)"
   ]
  },
  {
   "cell_type": "code",
   "execution_count": 3,
   "metadata": {},
   "outputs": [
    {
     "name": "stdout",
     "output_type": "stream",
     "text": [
      "Analyzer(object)\n",
      "    \n",
      "    This class offers functions to calculate existent technical indices.\n",
      "    In coming future, this offers `my functions`.\n",
      "\n",
      "    Examples\n",
      "    --------\n",
      "    >>> import numpy as np\n",
      "    >>> import pandas as pd\n",
      "    >>> import matplotlib.pyplot as plt\n",
      "    >>> analyzer = Analyzer()\n",
      "    >>> timestamp = np.arange(1, 100)\n",
      "    >>> ohlc = []\n",
      "    >>> close = []\n",
      "    >>> N = 3\n",
      "    >>> alpha = 2. / (1. + N)\n",
      "    >>> for ii in range(len(timestamp)):\n",
      "    ...     buff = np.zeros(5, dtype=int)\n",
      "    ...     buff[0] = ii + 1\n",
      "    ...     buff[1:] = np.random.randint(100, 150, 4)\n",
      "    ...     ohlc.append(buff)\n",
      "    ...     close.append(buff[-1])\n",
      "    ...\n",
      "    >>> ema = analyzer.calcEMA(close, alpha)\n",
      "    >>> plt.plot(timestamp, close)\n",
      "    >>> plt.plot(timestamp, ema)\n",
      "    \n"
     ]
    }
   ],
   "source": [
    "for line in Analyzer.__doc__.split(\"\\n\"):\n",
    "    print(line)"
   ]
  },
  {
   "cell_type": "code",
   "execution_count": 4,
   "metadata": {},
   "outputs": [],
   "source": [
    "file_list = glob.glob(\"../pybitcoin/gui/data/ohlcv/OHLCV*.csv\")\n",
    "data = None\n",
    "for fpath in file_list:\n",
    "    if data is None:\n",
    "        data = pd.read_csv(fpath, index_col=0)\n",
    "    else:\n",
    "        data = pd.concat((data, pd.read_csv(fpath, index_col=0)))"
   ]
  },
  {
   "cell_type": "code",
   "execution_count": 5,
   "metadata": {},
   "outputs": [
    {
     "data": {
      "text/plain": [
       "60481"
      ]
     },
     "execution_count": 5,
     "metadata": {},
     "output_type": "execute_result"
    }
   ],
   "source": [
    "len(data)"
   ]
  },
  {
   "cell_type": "code",
   "execution_count": 6,
   "metadata": {},
   "outputs": [],
   "source": [
    "tohlc = data[[\"time\", \"open\", \"high\", \"low\", \"close\"]].values"
   ]
  },
  {
   "cell_type": "code",
   "execution_count": 7,
   "metadata": {},
   "outputs": [],
   "source": [
    "tmpana = TemporalAnalyzer()\n",
    "ana = Analyzer()\n",
    "length = 1000"
   ]
  },
  {
   "cell_type": "markdown",
   "metadata": {},
   "source": [
    "## calcOcUpDown, calcDec"
   ]
  },
  {
   "cell_type": "code",
   "execution_count": 8,
   "metadata": {},
   "outputs": [
    {
     "name": "stdout",
     "output_type": "stream",
     "text": [
      "TemporalAnalyzer: 0.026sec\n",
      "Analyzer: 0.011sec\n",
      "0 0\n"
     ]
    }
   ],
   "source": [
    "N = 4\n",
    "st = time.time()\n",
    "oc_ud1 = []\n",
    "dec1 = []\n",
    "for ii in range(length):\n",
    "    oc_ud1.append(tmpana.calcOcUpDown(tohlc[:ii+1]))\n",
    "    dec1.append(tmpana.calcDec(oc_ud1, N))\n",
    "print(\"TemporalAnalyzer: {0:.3f}sec\".format(time.time() - st))\n",
    "\n",
    "st = time.time()\n",
    "oc_ud2 = ana.calcOcUpDown(tohlc[:length])\n",
    "dec2 = ana.calcDec(oc_ud2, N)\n",
    "print(\"Analyzer: {0:.3f}sec\".format(time.time() - st))\n",
    "\n",
    "print(np.sum([a - b for a, b in zip(oc_ud1, oc_ud2)]), np.sum([a - b for a, b in zip(dec1, dec2)]))"
   ]
  },
  {
   "cell_type": "markdown",
   "metadata": {},
   "source": [
    "## calcSMA"
   ]
  },
  {
   "cell_type": "code",
   "execution_count": 9,
   "metadata": {},
   "outputs": [
    {
     "name": "stdout",
     "output_type": "stream",
     "text": [
      "TemporalAnalyzer: 0.051sec\n",
      "Analyzer: 0.050sec\n",
      "0.0\n"
     ]
    }
   ],
   "source": [
    "N = 4\n",
    "st = time.time()\n",
    "sma1 = []\n",
    "for ii in range(length):\n",
    "    sma1.append(tmpana.calcSMA(tohlc[:ii+1, -1], N))\n",
    "print(\"TemporalAnalyzer: {0:.3f}sec\".format(time.time() - st))\n",
    "\n",
    "st = time.time()\n",
    "sma2 = ana.calcSMA(tohlc[:length, -1], N)\n",
    "print(\"Analyzer: {0:.3f}sec\".format(time.time() - st))\n",
    "\n",
    "print(np.sum([a - b for a, b in zip(sma1, sma2)]))"
   ]
  },
  {
   "cell_type": "markdown",
   "metadata": {},
   "source": [
    "## calcEMA"
   ]
  },
  {
   "cell_type": "code",
   "execution_count": 10,
   "metadata": {},
   "outputs": [
    {
     "name": "stdout",
     "output_type": "stream",
     "text": [
      "TemporalAnalyzer: 0.009sec\n",
      "Analyzer: 0.002sec\n",
      "0.0\n"
     ]
    }
   ],
   "source": [
    "N = 4\n",
    "alpha = 2. / (1. + N)\n",
    "st = time.time()\n",
    "ema1 = []\n",
    "for ii in range(length):\n",
    "    ema1.append(tmpana.calcEMA(ema1, tohlc[:ii+1, -1], alpha))\n",
    "print(\"TemporalAnalyzer: {0:.3f}sec\".format(time.time() - st))\n",
    "\n",
    "st = time.time()\n",
    "ema2 = ana.calcEMA(tohlc[:length, -1], alpha)\n",
    "print(\"Analyzer: {0:.3f}sec\".format(time.time() - st))\n",
    "\n",
    "print(np.sum([a - b for a, b in zip(ema1, ema2)]))"
   ]
  },
  {
   "cell_type": "markdown",
   "metadata": {},
   "source": [
    "## calcMACD, calcMACDSignal"
   ]
  },
  {
   "cell_type": "code",
   "execution_count": 11,
   "metadata": {},
   "outputs": [
    {
     "name": "stdout",
     "output_type": "stream",
     "text": [
      "TemporalAnalyzer: 0.022sec\n",
      "Analyzer: 0.009sec\n",
      "0.0 0.0\n"
     ]
    }
   ],
   "source": [
    "N1 = 7\n",
    "N2 = 13\n",
    "N_macd = 14\n",
    "\n",
    "alpha1 = 2. / (1. + N1)\n",
    "alpha2 = 2. / (1. + N2)\n",
    "alpha_macd = 2. / (1. + N_macd)\n",
    "\n",
    "st = time.time()\n",
    "ema1 = []\n",
    "ema2 = []\n",
    "macd1 = []\n",
    "signal1 = []\n",
    "for ii in range(length):\n",
    "    ema1.append(tmpana.calcEMA(ema1, tohlc[:ii+1, -1], alpha1))\n",
    "    ema2.append(tmpana.calcEMA(ema2, tohlc[:ii+1, -1], alpha2))\n",
    "    macd1.append(tmpana.calcMACD(ema1, ema2))\n",
    "    signal1.append(tmpana.calcMACDSignal(signal1, macd1, alpha_macd))\n",
    "print(\"TemporalAnalyzer: {0:.3f}sec\".format(time.time() - st))\n",
    "\n",
    "st = time.time()\n",
    "ema1 = ana.calcEMA(tohlc[:length, -1], alpha1)\n",
    "ema2 = ana.calcEMA(tohlc[:length, -1], alpha2)\n",
    "macd2 = ana.calcMACD(ema1, ema2)\n",
    "signal2 = ana.calcMACDSignal(macd2, alpha_macd)\n",
    "print(\"Analyzer: {0:.3f}sec\".format(time.time() - st))\n",
    "\n",
    "print(np.sum([a - b for a, b in zip(macd1, macd2)]), np.sum([a - b for a, b in zip(signal1, signal2)]))"
   ]
  },
  {
   "cell_type": "markdown",
   "metadata": {},
   "source": [
    "## calcBuyingPressure"
   ]
  },
  {
   "cell_type": "code",
   "execution_count": 12,
   "metadata": {},
   "outputs": [
    {
     "name": "stdout",
     "output_type": "stream",
     "text": [
      "TemporalAnalyzer: 0.010sec\n",
      "Analyzer: 0.013sec\n",
      "0.0\n"
     ]
    }
   ],
   "source": [
    "st = time.time()\n",
    "bp1 = []\n",
    "for ii in range(length):\n",
    "    bp1.append(tmpana.calcBuyingPressure(tohlc[:ii+1]))\n",
    "print(\"TemporalAnalyzer: {0:.3f}sec\".format(time.time() - st))\n",
    "\n",
    "st = time.time()\n",
    "bp2 = ana.calcBuyingPressure(tohlc[:length])\n",
    "print(\"Analyzer: {0:.3f}sec\".format(time.time() - st))\n",
    "\n",
    "print(np.sum([a - b for a, b in zip(bp1, bp2)]))"
   ]
  },
  {
   "cell_type": "markdown",
   "metadata": {},
   "source": [
    "## calcTrueRange, calcAverageTrueRange"
   ]
  },
  {
   "cell_type": "code",
   "execution_count": 13,
   "metadata": {},
   "outputs": [
    {
     "name": "stdout",
     "output_type": "stream",
     "text": [
      "TemporalAnalyzer: 0.022sec\n",
      "Analyzer: 0.028sec\n",
      "0.0 0.0\n"
     ]
    }
   ],
   "source": [
    "N = 14\n",
    "alpha = 2. / (1. + N)\n",
    "\n",
    "st = time.time()\n",
    "tr1 = []\n",
    "atr1 = []\n",
    "for ii in range(length):\n",
    "    tr1.append(tmpana.calcTrueRange(tohlc[:ii+1]))\n",
    "    atr1.append(tmpana.calcAverageTrueRange(atr1, tr1, alpha))\n",
    "print(\"TemporalAnalyzer: {0:.3f}sec\".format(time.time() - st))\n",
    "\n",
    "st = time.time()\n",
    "tr2 = ana.calcTrueRange(tohlc[:length])\n",
    "atr2 = ana.calcAverageTrueRange(tr2, alpha)\n",
    "print(\"Analyzer: {0:.3f}sec\".format(time.time() - st))\n",
    "\n",
    "print(np.sum([a - b for a, b in zip(tr1, tr2)]), np.sum([a - b for a, b in zip(atr1, atr2)]))"
   ]
  },
  {
   "cell_type": "markdown",
   "metadata": {},
   "source": [
    "## ADX-related functions\n",
    "* calcDMPlus, calcDMMinus\n",
    "* calcDMPlusEMA, calcDMMinusEMA\n",
    "* calcDIPlus, calcDIMinus\n",
    "* calcDX, calcADX"
   ]
  },
  {
   "cell_type": "code",
   "execution_count": 14,
   "metadata": {},
   "outputs": [
    {
     "name": "stdout",
     "output_type": "stream",
     "text": [
      "TemporalAnalyzer: 0.088sec\n",
      "Analyzer: 0.051sec\n",
      "0.0\n",
      "0.0\n",
      "0.0\n",
      "0.0\n",
      "0.0\n",
      "0.0\n",
      "0.0\n",
      "0.0\n"
     ]
    }
   ],
   "source": [
    "N = 14\n",
    "alpha = 2. / (1. + N)\n",
    "\n",
    "st = time.time()\n",
    "tr1 = []\n",
    "atr1 = []\n",
    "dmp1 = []\n",
    "dmm1 = []\n",
    "dmp1_ema = []\n",
    "dmm1_ema = []\n",
    "dip1 = []\n",
    "dim1 = []\n",
    "dx1 = []\n",
    "adx1 = []\n",
    "for ii in range(length):\n",
    "    tr1.append(tmpana.calcTrueRange(tohlc[:ii+1]))\n",
    "    atr1.append(tmpana.calcAverageTrueRange(atr1, tr1, alpha))\n",
    "    dmp1.append(tmpana.calcDMPlus(tohlc[:ii+1]))\n",
    "    dmm1.append(tmpana.calcDMMinus(tohlc[:ii+1]))\n",
    "    dmp1_ema.append(tmpana.calcDMPlusEMA(dmp1_ema, dmp1, alpha))\n",
    "    dmm1_ema.append(tmpana.calcDMPlusEMA(dmm1_ema, dmm1, alpha))\n",
    "    dip1.append(tmpana.calcDIPlus(dmp1_ema, atr1))\n",
    "    dim1.append(tmpana.calcDIMinus(dmm1_ema, atr1))\n",
    "    dx1.append(tmpana.calcDX(dip1, dim1))\n",
    "    adx1.append(tmpana.calcADX(adx1, dx1, alpha))\n",
    "print(\"TemporalAnalyzer: {0:.3f}sec\".format(time.time() - st))\n",
    "\n",
    "st = time.time()\n",
    "tr2 = ana.calcTrueRange(tohlc[:length])\n",
    "atr2 = ana.calcAverageTrueRange(tr2, alpha)\n",
    "dmp2 = ana.calcDMPlus(tohlc[:length])\n",
    "dmm2 = ana.calcDMMinus(tohlc[:length])\n",
    "dmp2_ema = ana.calcDMPlusEMA(dmp2, alpha)\n",
    "dmm2_ema = ana.calcDMMinusEMA(dmm2, alpha)\n",
    "dip2 = ana.calcDIPlus(dmp2_ema, atr2)\n",
    "dim2 = ana.calcDIMinus(dmm2_ema, atr2)\n",
    "dx2 = ana.calcDX(dip2, dim2)\n",
    "adx2 = ana.calcADX(dx2, alpha)\n",
    "print(\"Analyzer: {0:.3f}sec\".format(time.time() - st))\n",
    "\n",
    "print(np.sum([a - b for a, b in zip(dmp1, dmp2)]))\n",
    "print(np.sum([a - b for a, b in zip(dmm1, dmm2)]))\n",
    "print(np.sum([a - b for a, b in zip(dmp1_ema, dmp2_ema)]))\n",
    "print(np.sum([a - b for a, b in zip(dmm1_ema, dmm2_ema)]))\n",
    "print(np.sum([a - b for a, b in zip(dip1, dip2)]))\n",
    "print(np.sum([a - b for a, b in zip(dim1, dim2)]))\n",
    "print(np.sum([a - b for a, b in zip(dx1, dx2)]))\n",
    "print(np.sum([a - b for a, b in zip(adx1, adx2)]))"
   ]
  },
  {
   "cell_type": "markdown",
   "metadata": {},
   "source": [
    "## calcBollingerBands\n",
    "* calcRMSError\n",
    "* calcBollingerBands"
   ]
  },
  {
   "cell_type": "code",
   "execution_count": 15,
   "metadata": {},
   "outputs": [
    {
     "name": "stdout",
     "output_type": "stream",
     "text": [
      "TemporalAnalyzer: 0.332sec\n",
      "Analyzer: 0.318sec\n",
      "0.0\n",
      "0.0\n",
      "0.0\n",
      "0.0\n",
      "0.0\n",
      "0.0\n",
      "0.0\n"
     ]
    }
   ],
   "source": [
    "N1 = 7\n",
    "N_sigma = 14\n",
    "\n",
    "alpha1 = 2. / (1. + N1)\n",
    "\n",
    "st = time.time()\n",
    "ema1 = []\n",
    "sigma1 = []\n",
    "m3band1 = []\n",
    "m2band1 = []\n",
    "m1band1 = []\n",
    "p1band1 = []\n",
    "p2band1 = []\n",
    "p3band1 = []\n",
    "for ii in range(length):\n",
    "    ema1.append(tmpana.calcEMA(ema1, tohlc[:ii+1, -1], alpha1))\n",
    "    sigma1.append(tmpana.calcRMSError(tohlc[:ii+1, -1], ema1, N_sigma))\n",
    "    buff = tmpana.calcBollingerBands(tohlc[:ii+1, -1], ema1, N_sigma)\n",
    "    m3band1.append(buff[0])\n",
    "    m2band1.append(buff[1])\n",
    "    m1band1.append(buff[2])\n",
    "    p1band1.append(buff[4])\n",
    "    p2band1.append(buff[5])\n",
    "    p3band1.append(buff[6])\n",
    "print(\"TemporalAnalyzer: {0:.3f}sec\".format(time.time() - st))\n",
    "\n",
    "st = time.time()\n",
    "ema1 = ana.calcEMA(tohlc[:length, -1], alpha1)\n",
    "sigma2 = ana.calcRMSError(tohlc[:length, -1], ema1, N_sigma)\n",
    "m3band2, m2band2, m1band2, _, p1band2, p2band2, p3band2 = ana.calcBollingerBands(tohlc[:length, -1], ema1, N_sigma)\n",
    "print(\"Analyzer: {0:.3f}sec\".format(time.time() - st))\n",
    "print(np.sum([a - b for a, b in zip(sigma1, sigma2)]))\n",
    "print(np.sum([a - b for a, b in zip(m3band1, m3band2)]))\n",
    "print(np.sum([a - b for a, b in zip(m2band1, m2band2)]))\n",
    "print(np.sum([a - b for a, b in zip(m1band1, m1band2)]))\n",
    "print(np.sum([a - b for a, b in zip(p1band1, p1band2)]))\n",
    "print(np.sum([a - b for a, b in zip(p2band1, p2band2)]))\n",
    "print(np.sum([a - b for a, b in zip(p3band1, p3band2)]))"
   ]
  },
  {
   "cell_type": "markdown",
   "metadata": {},
   "source": [
    "## Momentum-related functions\n",
    "* calcMomentum\n",
    "* calcROC1\n",
    "* calcROC2"
   ]
  },
  {
   "cell_type": "code",
   "execution_count": 16,
   "metadata": {},
   "outputs": [
    {
     "name": "stdout",
     "output_type": "stream",
     "text": [
      "TemporalAnalyzer: 0.041sec\n",
      "Analyzer: 0.019sec\n",
      "0.0\n",
      "0.0\n",
      "0.0\n"
     ]
    }
   ],
   "source": [
    "N = 5\n",
    "\n",
    "st = time.time()\n",
    "M1 = []\n",
    "roc11 = []\n",
    "roc21 = []\n",
    "for ii in range(length):\n",
    "    M1.append(tmpana.calcMomentum(tohlc[:ii+1], N))\n",
    "    roc11.append(tmpana.calcROC1(tohlc[:ii+1], N))\n",
    "    roc21.append(tmpana.calcROC2(tohlc[:ii+1], N))\n",
    "print(\"TemporalAnalyzer: {0:.3f}sec\".format(time.time() - st))\n",
    "\n",
    "st = time.time()\n",
    "M2 = ana.calcMomentum(tohlc[:length], N)\n",
    "roc12 = ana.calcROC1(tohlc[:length], N)\n",
    "roc22 = ana.calcROC2(tohlc[:length], N)\n",
    "print(\"Analyzer: {0:.3f}sec\".format(time.time() - st))\n",
    "\n",
    "print(np.sum([a - b for a, b in zip(M1, M2)]))\n",
    "print(np.sum([a - b for a, b in zip(roc11, roc12)]))\n",
    "print(np.sum([a - b for a, b in zip(roc21, roc22)]))"
   ]
  },
  {
   "cell_type": "markdown",
   "metadata": {},
   "source": [
    "## RSI-related functions\n",
    "* calcOCDownEMA\n",
    "* calcOCUpEMA\n",
    "* calcRSI"
   ]
  },
  {
   "cell_type": "code",
   "execution_count": 17,
   "metadata": {},
   "outputs": [
    {
     "name": "stdout",
     "output_type": "stream",
     "text": [
      "TemporalAnalyzer: 0.051sec\n",
      "Analyzer: 0.016sec\n",
      "0.0\n",
      "0.0\n",
      "0.0\n"
     ]
    }
   ],
   "source": [
    "N = 5\n",
    "\n",
    "alpha = 2. / (1. + N)\n",
    "\n",
    "st = time.time()\n",
    "oc_down_ema1 = []\n",
    "oc_up_ema1 = []\n",
    "rsi1 = []\n",
    "for ii in range(length):\n",
    "    oc_down_ema1.append(tmpana.calcOCDownEMA(oc_down_ema1, tohlc[:ii+1], alpha))\n",
    "    oc_up_ema1.append(tmpana.calcOCUpEMA(oc_up_ema1, tohlc[:ii+1], alpha))\n",
    "    rsi1.append(tmpana.calcRSI(oc_down_ema1, oc_up_ema1))\n",
    "print(\"TemporalAnalyzer: {0:.3f}sec\".format(time.time() - st))\n",
    "\n",
    "st = time.time()\n",
    "oc_down_ema2 = ana.calcOCDownEMA(tohlc[:length], alpha)\n",
    "oc_up_ema2 = ana.calcOCUpEMA(tohlc[:length], alpha)\n",
    "rsi2 = ana.calcRSI(oc_down_ema2, oc_up_ema2)\n",
    "print(\"Analyzer: {0:.3f}sec\".format(time.time() - st))\n",
    "\n",
    "print(np.sum([a - b for a, b in zip(oc_down_ema1, oc_down_ema2)]))\n",
    "print(np.sum([a - b for a, b in zip(oc_up_ema1, oc_up_ema2)]))\n",
    "print(np.sum([a - b for a, b in zip(rsi1, rsi2)]))"
   ]
  },
  {
   "cell_type": "markdown",
   "metadata": {},
   "source": [
    "## calcW%R"
   ]
  },
  {
   "cell_type": "code",
   "execution_count": 18,
   "metadata": {},
   "outputs": [
    {
     "name": "stdout",
     "output_type": "stream",
     "text": [
      "TemporalAnalyzer: 0.099sec\n",
      "Analyzer: 0.063sec\n",
      "0.0\n"
     ]
    }
   ],
   "source": [
    "N = 14\n",
    "\n",
    "st = time.time()\n",
    "wpr1 = []\n",
    "for ii in range(length):\n",
    "    wpr1.append(tmpana.calcWPercentR(tohlc[:ii+1], N))\n",
    "print(\"TemporalAnalyzer: {0:.3f}sec\".format(time.time() - st))\n",
    "\n",
    "st = time.time()\n",
    "wpr2 = ana.calcWPercentR(tohlc[:length], N)\n",
    "print(\"Analyzer: {0:.3f}sec\".format(time.time() - st))\n",
    "\n",
    "print(np.sum([a - b for a, b in zip(wpr1, wpr2)]))"
   ]
  },
  {
   "cell_type": "markdown",
   "metadata": {},
   "source": [
    "## calcRatioOfDeviation"
   ]
  },
  {
   "cell_type": "code",
   "execution_count": 19,
   "metadata": {},
   "outputs": [
    {
     "name": "stdout",
     "output_type": "stream",
     "text": [
      "TemporalAnalyzer: 0.030sec\n",
      "Analyzer: 0.005sec\n",
      "0.0\n"
     ]
    }
   ],
   "source": [
    "N = 5\n",
    "alpha = 2. / (1. + N)\n",
    "\n",
    "st = time.time()\n",
    "ema1 = []\n",
    "rod1 = []\n",
    "for ii in range(length):\n",
    "    ema1.append(tmpana.calcEMA(ema1, tohlc[:ii+1, -1], alpha))\n",
    "    rod1.append(tmpana.calcRatioOfDeviation(ema1, tohlc[:ii+1, -1]))\n",
    "print(\"TemporalAnalyzer: {0:.3f}sec\".format(time.time() - st))\n",
    "\n",
    "st = time.time()\n",
    "ema2 = ana.calcEMA(tohlc[:length, -1], alpha)\n",
    "rod2 = ana.calcRatioOfDeviation(ema2, tohlc[:length, -1])\n",
    "print(\"Analyzer: {0:.3f}sec\".format(time.time() - st))\n",
    "\n",
    "print(np.sum([a - b for a, b in zip(rod1, rod2)]))"
   ]
  },
  {
   "cell_type": "markdown",
   "metadata": {},
   "source": [
    "## calcUltimateOscillator"
   ]
  },
  {
   "cell_type": "code",
   "execution_count": 20,
   "metadata": {},
   "outputs": [
    {
     "name": "stdout",
     "output_type": "stream",
     "text": [
      "TemporalAnalyzer: 0.408sec\n",
      "Analyzer: 0.400sec\n",
      "0.0\n"
     ]
    }
   ],
   "source": [
    "N1 = 7\n",
    "N2 = 14\n",
    "N3 = 28\n",
    "\n",
    "st = time.time()\n",
    "bp1 = []\n",
    "tr1 = []\n",
    "uo1 = []\n",
    "for ii in range(length):\n",
    "    bp1.append(tmpana.calcBuyingPressure(tohlc[:ii+1]))\n",
    "    tr1.append(tmpana.calcTrueRange(tohlc[:ii+1]))\n",
    "    uo1.append(tmpana.calcUltimateOscillator(bp1, tr1, N1, N2, N3))\n",
    "print(\"TemporalAnalyzer: {0:.3f}sec\".format(time.time() - st))\n",
    "\n",
    "st = time.time()\n",
    "bp2 = ana.calcBuyingPressure(tohlc[:length])\n",
    "tr2 = ana.calcTrueRange(tohlc[:length])\n",
    "uo2 = ana.calcUltimateOscillator(bp2, tr2, N1, N2, N3)\n",
    "print(\"Analyzer: {0:.3f}sec\".format(time.time() - st))\n",
    "\n",
    "print(np.sum([a - b for a, b in zip(uo1, uo2)]))"
   ]
  },
  {
   "cell_type": "markdown",
   "metadata": {},
   "source": [
    "## calcAwesomeOscillator"
   ]
  },
  {
   "cell_type": "code",
   "execution_count": 21,
   "metadata": {},
   "outputs": [
    {
     "name": "stdout",
     "output_type": "stream",
     "text": [
      "TemporalAnalyzer: 0.341sec\n",
      "Analyzer: 0.145sec\n",
      "0.0\n"
     ]
    }
   ],
   "source": [
    "N1 = 5\n",
    "N2 = 34\n",
    "\n",
    "st = time.time()\n",
    "ao1 = []\n",
    "for ii in range(length):\n",
    "    ao1.append(tmpana.calcAwesomeOscillator(tohlc[:ii+1], N1, N2))\n",
    "print(\"TemporalAnalyzer: {0:.3f}sec\".format(time.time() - st))\n",
    "\n",
    "st = time.time()\n",
    "ao2 = ana.calcAwesomeOscillator(tohlc[:length], N1, N2)\n",
    "print(\"Analyzer: {0:.3f}sec\".format(time.time() - st))\n",
    "\n",
    "print(np.sum([a - b for a, b in zip(ao1, ao2)]))"
   ]
  }
 ],
 "metadata": {
  "kernelspec": {
   "display_name": "Python 3",
   "language": "python",
   "name": "python3"
  },
  "language_info": {
   "codemirror_mode": {
    "name": "ipython",
    "version": 3
   },
   "file_extension": ".py",
   "mimetype": "text/x-python",
   "name": "python",
   "nbconvert_exporter": "python",
   "pygments_lexer": "ipython3",
   "version": "3.7.1"
  }
 },
 "nbformat": 4,
 "nbformat_minor": 2
}
