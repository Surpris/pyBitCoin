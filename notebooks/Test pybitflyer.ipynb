{
 "cells": [
  {
   "cell_type": "markdown",
   "metadata": {},
   "source": [
    "# 目的\n",
    "bypitflyerのテスト。   \n",
    "まずは基本的な動作を確認する。"
   ]
  },
  {
   "cell_type": "code",
   "execution_count": 17,
   "metadata": {
    "ExecuteTime": {
     "end_time": "2018-06-23T12:12:23.812784Z",
     "start_time": "2018-06-23T12:12:23.795789Z"
    }
   },
   "outputs": [],
   "source": [
    "import numpy as np\n",
    "import pybitflyer as pbf\n",
    "import os\n",
    "import getpass\n",
    "import pickle\n",
    "import matplotlib.pyplot as plt\n",
    "import glob\n",
    "import time\n",
    "%matplotlib inline"
   ]
  },
  {
   "cell_type": "markdown",
   "metadata": {},
   "source": [
    "## API Keyの読み込み\n",
    "APIキーの所在を見えにくくするために、 `getpass` と環境変数を用いる。"
   ]
  },
  {
   "cell_type": "code",
   "execution_count": 3,
   "metadata": {
    "ExecuteTime": {
     "end_time": "2018-06-23T12:07:17.923950Z",
     "start_time": "2018-06-23T12:07:15.571097Z"
    }
   },
   "outputs": [
    {
     "name": "stdout",
     "output_type": "stream",
     "text": [
      "folder for key:········\n",
      "ok\n"
     ]
    }
   ],
   "source": [
    "fldrname_for_key = getpass.getpass(\"folder for key:\")\n",
    "fpath = glob.glob(os.path.join(os.environ[\"USERPROFILE\"], fldrname_for_key, \"*\"))[0]\n",
    "\n",
    "with open(fpath, \"r\", encoding=\"utf-8\") as ff:\n",
    "    try:\n",
    "        api_key = ff.readline().strip()\n",
    "        api_secret = ff.readline().strip()\n",
    "        print(\"ok\")\n",
    "    except:\n",
    "        print(\"ng\")"
   ]
  },
  {
   "cell_type": "code",
   "execution_count": 4,
   "metadata": {
    "ExecuteTime": {
     "end_time": "2018-06-23T12:07:19.096943Z",
     "start_time": "2018-06-23T12:07:19.087942Z"
    }
   },
   "outputs": [],
   "source": [
    "api = pbf.API(api_key=api_key, api_secret=api_secret)"
   ]
  },
  {
   "cell_type": "markdown",
   "metadata": {},
   "source": [
    "## APIのテスト"
   ]
  },
  {
   "cell_type": "markdown",
   "metadata": {},
   "source": [
    "### board\n",
    "boardにはその時の板情報が含まれている。   \n",
    "`volume_by_product` が対象としている銘柄の総取引量を表す。\n",
    "\n",
    "```json\n",
    "{\n",
    "    \"product_code\": \"BTC_JPY\",\n",
    "    \"timestamp\": \"2018-06-13T16:22:35.97\",\n",
    "    \"tick_id\": 6199401,\n",
    "    \"best_bid\": 711681,\n",
    "    \"best_ask\": 711838,\n",
    "    \"best_bid_size\": 1.001263,\n",
    "    \"best_ask_size\": 0.078737,\n",
    "    \"total_bid_depth\": 1304.18418795,\n",
    "    \"total_ask_depth\": 2361.91584139,\n",
    "    \"ltp\": 711680,\n",
    "    \"volume\": 315987.58745009,\n",
    "    \"volume_by_product\": 14402.44980525\n",
    "}\n",
    "```"
   ]
  },
  {
   "cell_type": "code",
   "execution_count": 18,
   "metadata": {
    "ExecuteTime": {
     "end_time": "2018-06-23T12:13:35.388253Z",
     "start_time": "2018-06-23T12:13:25.361889Z"
    }
   },
   "outputs": [],
   "source": [
    "wait_for = 1.0\n",
    "for ii in range(10):\n",
    "    st = time.time()\n",
    "    result = api.board(product_code=\"FX_BTC_JPY\")\n",
    "    time.sleep(wait_for - (time.time() - st))"
   ]
  },
  {
   "cell_type": "code",
   "execution_count": 8,
   "metadata": {
    "ExecuteTime": {
     "end_time": "2018-06-13T16:14:23.108824Z",
     "start_time": "2018-06-13T16:14:22.720296Z"
    }
   },
   "outputs": [],
   "source": [
    "result = api.board(product_code=\"FX_BTC_JPY\")\n",
    "\n",
    "bids_price = None\n",
    "bids_size = None\n",
    "asks_price = None\n",
    "asks_size = None\n",
    "mid_price = -1\n",
    "if result is not None:\n",
    "    if \"status\" in result.keys():\n",
    "        raise ValueError()\n",
    "    asks, bids, mid_price = result[\"asks\"], result[\"bids\"], result[\"mid_price\"]\n",
    "    asks_price = np.array([_[\"price\"] for _ in asks])\n",
    "    asks_size = np.array([_[\"size\"] for _ in asks])\n",
    "    bids_price = np.array([_[\"price\"] for _ in bids])\n",
    "    bids_size = np.array([_[\"size\"] for _ in bids])\n",
    "    del asks, bids"
   ]
  },
  {
   "cell_type": "code",
   "execution_count": 9,
   "metadata": {
    "ExecuteTime": {
     "end_time": "2018-06-13T16:14:23.704749Z",
     "start_time": "2018-06-13T16:14:23.685752Z"
    }
   },
   "outputs": [
    {
     "data": {
      "text/plain": [
       "3607481639.0485077"
      ]
     },
     "execution_count": 9,
     "metadata": {},
     "output_type": "execute_result"
    }
   ],
   "source": [
    "(asks_price*asks_size).sum() - (bids_price*bids_size).sum() # >0: 買いが優勢？"
   ]
  },
  {
   "cell_type": "code",
   "execution_count": 10,
   "metadata": {
    "ExecuteTime": {
     "end_time": "2018-06-13T16:14:28.731157Z",
     "start_time": "2018-06-13T16:14:25.030035Z"
    }
   },
   "outputs": [
    {
     "data": {
      "image/png": "[encoded data removed]",
      "text/plain": [
       "<Figure size 720x360 with 4 Axes>"
      ]
     },
     "metadata": {},
     "output_type": "display_data"
    }
   ],
   "source": [
    "n_bins = 50\n",
    "plt.figure(figsize=(10, 5))\n",
    "plt.subplot(221)\n",
    "# xbins = np.linspace(asks_price.min(), asks_price.max(), n_bins)\n",
    "# histo, xbins = np.histogram(asks_price, bins=xbins, weights=asks_size)\n",
    "y, x, _ = plt.hist(asks_price, bins=n_bins, density=True, label=\"ask\")\n",
    "plt.legend()\n",
    "\n",
    "plt.subplot(222)\n",
    "y, x, _ = plt.hist(bids_price, bins=n_bins, density=True, label=\"bid\")\n",
    "plt.legend()\n",
    "\n",
    "plt.subplot(223)\n",
    "y, x, _ = plt.hist(asks_price, bins=n_bins, density=True, weights=asks_size, label=\"ask*size\")\n",
    "plt.legend()\n",
    "\n",
    "plt.subplot(224)\n",
    "y, x, _ = plt.hist(bids_price, bins=n_bins, density=True, weights=bids_size, label=\"bid*size\")\n",
    "plt.legend()\n",
    "\n",
    "plt.tight_layout()"
   ]
  },
  {
   "cell_type": "markdown",
   "metadata": {},
   "source": [
    "### ticker\n",
    "tickerにはその時の情報サイズなどの情報が入っている。"
   ]
  },
  {
   "cell_type": "code",
   "execution_count": 5,
   "metadata": {
    "ExecuteTime": {
     "end_time": "2018-06-23T12:10:52.162551Z",
     "start_time": "2018-06-23T12:10:51.689579Z"
    }
   },
   "outputs": [
    {
     "data": {
      "text/plain": [
       "{'product_code': 'FX_BTC_JPY',\n",
       " 'timestamp': '2018-06-23T12:10:51.05',\n",
       " 'tick_id': 320817,\n",
       " 'best_bid': 687797.0,\n",
       " 'best_ask': 687856.0,\n",
       " 'best_bid_size': 0.2246,\n",
       " 'best_ask_size': 0.01,\n",
       " 'total_bid_depth': 10796.14130991,\n",
       " 'total_ask_depth': 12693.65337596,\n",
       " 'ltp': 687797.0,\n",
       " 'volume': 525729.22278546,\n",
       " 'volume_by_product': 509480.10921254}"
      ]
     },
     "execution_count": 5,
     "metadata": {},
     "output_type": "execute_result"
    }
   ],
   "source": [
    "result = api.ticker(product_code=\"FX_BTC_JPY\")\n",
    "result\n"
   ]
  },
  {
   "cell_type": "markdown",
   "metadata": {},
   "source": [
    "### execution\n",
    "直近の約定履歴を取得する。   \n",
    "\n",
    "```json\n",
    "{\n",
    "    \"id\": 255185675,\n",
    "    \"side\": \"BUY\",\n",
    "    \"price\": 712899,\n",
    "    \"size\": 1.12999999,\n",
    "    \"exec_date\": \"2018-06-13T16:18:59.107\",\n",
    "    \"buy_child_order_acceptance_id\": \"JRF20180613-161858-270387\",\n",
    "    \"sell_child_order_acceptance_id\": \"JRF20180613-161844-756491\"\n",
    "}\n",
    "```\n"
   ]
  },
  {
   "cell_type": "code",
   "execution_count": null,
   "metadata": {},
   "outputs": [],
   "source": []
  }
 ],
 "metadata": {
  "kernelspec": {
   "display_name": "Python 3",
   "language": "python",
   "name": "python3"
  },
  "language_info": {
   "codemirror_mode": {
    "name": "ipython",
    "version": 3
   },
   "file_extension": ".py",
   "mimetype": "text/x-python",
   "name": "python",
   "nbconvert_exporter": "python",
   "pygments_lexer": "ipython3",
   "version": "3.6.5"
  },
  "toc": {
   "base_numbering": 1,
   "nav_menu": {},
   "number_sections": true,
   "sideBar": true,
   "skip_h1_title": false,
   "title_cell": "Table of Contents",
   "title_sidebar": "Contents",
   "toc_cell": false,
   "toc_position": {},
   "toc_section_display": true,
   "toc_window_display": false
  }
 },
 "nbformat": 4,
 "nbformat_minor": 2
}
