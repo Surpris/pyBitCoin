{
 "cells": [
  {
   "cell_type": "markdown",
   "metadata": {},
   "source": [
    "# 目的\n",
    "2019/01/01 00:00 - 2019/01/09 00:00の期間について、特定のパターンが現れたときのみ注文したらどうなるか確認する。"
   ]
  },
  {
   "cell_type": "markdown",
   "metadata": {},
   "source": [
    "## モジュールと関数の用意"
   ]
  },
  {
   "cell_type": "code",
   "execution_count": 1,
   "metadata": {
    "ExecuteTime": {
     "end_time": "2018-12-22T00:21:24.678316Z",
     "start_time": "2018-12-22T00:21:24.656322Z"
    }
   },
   "outputs": [],
   "source": [
    "from datetime import datetime\n",
    "import glob\n",
    "import itertools\n",
    "import matplotlib.dates as mdates\n",
    "import matplotlib.pyplot as plt\n",
    "from mpl_finance import candlestick_ohlc\n",
    "import numpy as np\n",
    "import os\n",
    "import pandas as pd\n",
    "import pickle\n",
    "# import sys\n",
    "# sys.path.append(\"./\")\n",
    "from utils import *\n",
    "\n",
    "%matplotlib inline"
   ]
  },
  {
   "cell_type": "code",
   "execution_count": 25,
   "metadata": {},
   "outputs": [],
   "source": [
    "def main(df, N1, N2, N_dec=5, patterns_golden=None, patterns_dead=None):\n",
    "    \"\"\"main(df, N1, N2, N_dec=5, patterns_golden=None, patterns_dead=None) -> dict\n",
    "    calculate some factors\n",
    "    \n",
    "    Parameters\n",
    "    ----------\n",
    "    df              : pandas.DataFrame\n",
    "    N1              : int\n",
    "    N2              : int\n",
    "    N_dec           : int\n",
    "    patterns_golden : array-like\n",
    "    patterns_dead   : array-like\n",
    "    \n",
    "    Returns\n",
    "    -------\n",
    "    results : dict\n",
    "    \"\"\"\n",
    "    close_ = df[\"close\"].values\n",
    "    open_ = df[\"open\"].values\n",
    "    \n",
    "    # calcualte EMA\n",
    "    ema1 = calc_EMA(close_, N1)\n",
    "    ema2 = calc_EMA(close_, N2)\n",
    "    \n",
    "    # find cross points\n",
    "    cross_points = find_cross_points(ema1, ema2)\n",
    "    ind_ = cross_points != 0\n",
    "    a_k = np.vstack((np.arange(len(cross_points))[ind_], cross_points[ind_])).transpose().astype(int)\n",
    "    \n",
    "    # find local maxima and minima of the difference, \"EMA1 - EMA2\"\n",
    "    ema_diff = ema1 - ema2\n",
    "    maxtab_ema_diff, mintab_ema_diff = peakdet(ema_diff, 10)\n",
    "    \n",
    "    # symbolize\n",
    "    dec = symbolize(df, N_dec)\n",
    "    \n",
    "    # extract factors for each godlen/dead cross points\n",
    "    dec_ext = np.zeros(len(a_k), int)\n",
    "    t1_ext = np.zeros(len(a_k), int)\n",
    "    tm_ext = np.zeros(len(a_k), int)\n",
    "    distance_ext = np.zeros(len(a_k), int)\n",
    "    \n",
    "    for ii in range(len(a_k)-1):\n",
    "        ind1, ind2 = a_k[ii][0], a_k[ii+1][0]\n",
    "        \n",
    "        v = a_k[ii][1]\n",
    "        o_ = open_[ind1:ind2]\n",
    "        c_ = close_[ind1:ind2]\n",
    "        if v < 0: # dead cross\n",
    "            if patterns_dead is None or dec[ind1] in patterns_dead:\n",
    "                # start value\n",
    "                if len(o_) > 1:\n",
    "                    t1_ext[ii] = min(o_[1], c_[1])\n",
    "                else:\n",
    "                    t1_ext[ii] = min(o_[0], c_[0])\n",
    "\n",
    "                # minimum index\n",
    "                index = (mintab_ema_diff[:, 0]>=ind1)&(mintab_ema_diff[:, 0]<ind2)\n",
    "                count = index.sum()\n",
    "                if count > 0:\n",
    "                    tm = (mintab_ema_diff[index, 0]).astype(int)[0]\n",
    "                else:\n",
    "                    tm = ind1\n",
    "                tm_ext[ii] = max(open_[tm+1], close_[tm+1])\n",
    "                distance_ext[ii] = tm - ind1 + 1\n",
    "                dec_ext[ii] = dec[ind1]\n",
    "        else: # golden cross\n",
    "            if patterns_golden is None or dec[ind1] in patterns_golden:\n",
    "                # start value\n",
    "                if len(o_) > 1:\n",
    "                    t1_ext[ii] = max(o_[1], c_[1])\n",
    "                else:\n",
    "                    t1_ext[ii] = max(o_[0], c_[0])\n",
    "\n",
    "                # maximum index\n",
    "                index = (maxtab_ema_diff[:, 0]>=ind1)&(maxtab_ema_diff[:, 0]<ind2)\n",
    "                count = index.sum()\n",
    "                if count > 0:\n",
    "                    tm = (maxtab_ema_diff[index, 0]).astype(int)[0]\n",
    "                else:\n",
    "                    tm = ind1\n",
    "                tm_ext[ii] = min(open_[tm+1], close_[tm+1])\n",
    "                distance_ext[ii] = tm - ind1 + 1\n",
    "                dec_ext[ii] = dec[ind1]\n",
    "    \n",
    "    # calculate benefits\n",
    "    benefits = tm_ext - t1_ext\n",
    "    benefits[np.abs(benefits)>1e5] = 0.0\n",
    "    \n",
    "    # extract statistics and value-pattern pairs\n",
    "    stat_dead = np.zeros((2**N_dec , 5), float) # max, min, mean, std, median\n",
    "    list_ext_dead = [np.empty(0, dtype=float)] * 2**N_dec\n",
    "    for ii, ind in enumerate(dec_ext[a_k[:, 1] == -1]):\n",
    "        v = benefits[a_k[:, 1] == -1][ii]\n",
    "        list_ext_dead[ind] = np.append(list_ext_dead[ind], v)\n",
    "\n",
    "    for ii in range(len(list_ext_dead)):\n",
    "        arr = list_ext_dead[ii]\n",
    "        if len(arr) != 0:\n",
    "            ind = np.abs(arr) <=100000\n",
    "            list_ext_dead[ii] = arr[ind]\n",
    "            stat_dead[ii] = np.array([arr[ind].max(), arr[ind].min(), arr[ind].mean(), arr[ind].std(), np.median(arr[ind])])\n",
    "\n",
    "    stat_golden = np.zeros((2**N_dec , 5), float) # max, min, mean, std, median\n",
    "    list_ext_golden = [np.empty(0, dtype=float)] * 2**N_dec\n",
    "    for ii, ind in enumerate(dec_ext[a_k[:, 1] == 1]):\n",
    "        v = benefits[a_k[:, 1] == 1][ii]\n",
    "        list_ext_golden[ind] = np.append(list_ext_golden[ind], v)\n",
    "\n",
    "    for ii in range(len(list_ext_golden)):\n",
    "        arr = list_ext_golden[ii]\n",
    "        if len(arr) != 0:\n",
    "            ind = np.abs(arr) <=100000\n",
    "            list_ext_golden[ii] = arr[ind]\n",
    "            stat_golden[ii] = np.array([arr[ind].max(), arr[ind].min(), arr[ind].mean(), arr[ind].std(), np.median(arr[ind])])\n",
    "    \n",
    "    results = dict(\n",
    "        ema1=ema1, ema2=ema2, cross_points=cross_points, a_k=a_k,\n",
    "        dec_ext=dec_ext, distance_ext=distance_ext, benefits=benefits,\n",
    "        stat_dead=stat_dead, list_ext_dead=list_ext_dead,\n",
    "        stat_golden=stat_golden, list_ext_golden=list_ext_golden\n",
    "    )\n",
    "    return results"
   ]
  },
  {
   "cell_type": "markdown",
   "metadata": {},
   "source": [
    "## データの読み込み"
   ]
  },
  {
   "cell_type": "code",
   "execution_count": 2,
   "metadata": {
    "ExecuteTime": {
     "end_time": "2018-12-23T11:11:28.907398Z",
     "start_time": "2018-12-23T11:11:28.224822Z"
    }
   },
   "outputs": [
    {
     "data": {
      "text/html": [
       "<div>\n",
       "<style scoped>\n",
       "    .dataframe tbody tr th:only-of-type {\n",
       "        vertical-align: middle;\n",
       "    }\n",
       "\n",
       "    .dataframe tbody tr th {\n",
       "        vertical-align: top;\n",
       "    }\n",
       "\n",
       "    .dataframe thead th {\n",
       "        text-align: right;\n",
       "    }\n",
       "</style>\n",
       "<table border=\"1\" class=\"dataframe\">\n",
       "  <thead>\n",
       "    <tr style=\"text-align: right;\">\n",
       "      <th></th>\n",
       "      <th>time</th>\n",
       "      <th>id_start</th>\n",
       "      <th>open</th>\n",
       "      <th>high</th>\n",
       "      <th>low</th>\n",
       "      <th>close</th>\n",
       "      <th>volume</th>\n",
       "    </tr>\n",
       "  </thead>\n",
       "  <tbody>\n",
       "    <tr>\n",
       "      <th>0</th>\n",
       "      <td>1.546236e+09</td>\n",
       "      <td>694426164</td>\n",
       "      <td>419209</td>\n",
       "      <td>421060</td>\n",
       "      <td>419022</td>\n",
       "      <td>419732</td>\n",
       "      <td>350</td>\n",
       "    </tr>\n",
       "    <tr>\n",
       "      <th>1</th>\n",
       "      <td>1.546236e+09</td>\n",
       "      <td>694427312</td>\n",
       "      <td>419898</td>\n",
       "      <td>422592</td>\n",
       "      <td>418124</td>\n",
       "      <td>419352</td>\n",
       "      <td>1000</td>\n",
       "    </tr>\n",
       "    <tr>\n",
       "      <th>2</th>\n",
       "      <td>1.546236e+09</td>\n",
       "      <td>694430055</td>\n",
       "      <td>419352</td>\n",
       "      <td>419727</td>\n",
       "      <td>416443</td>\n",
       "      <td>416697</td>\n",
       "      <td>779</td>\n",
       "    </tr>\n",
       "    <tr>\n",
       "      <th>3</th>\n",
       "      <td>1.546236e+09</td>\n",
       "      <td>694433381</td>\n",
       "      <td>416443</td>\n",
       "      <td>417700</td>\n",
       "      <td>409500</td>\n",
       "      <td>413668</td>\n",
       "      <td>2184</td>\n",
       "    </tr>\n",
       "    <tr>\n",
       "      <th>4</th>\n",
       "      <td>1.546236e+09</td>\n",
       "      <td>694437582</td>\n",
       "      <td>410638</td>\n",
       "      <td>417000</td>\n",
       "      <td>410612</td>\n",
       "      <td>414100</td>\n",
       "      <td>1281</td>\n",
       "    </tr>\n",
       "  </tbody>\n",
       "</table>\n",
       "</div>"
      ],
      "text/plain": [
       "           time   id_start    open    high     low   close  volume\n",
       "0  1.546236e+09  694426164  419209  421060  419022  419732     350\n",
       "1  1.546236e+09  694427312  419898  422592  418124  419352    1000\n",
       "2  1.546236e+09  694430055  419352  419727  416443  416697     779\n",
       "3  1.546236e+09  694433381  416443  417700  409500  413668    2184\n",
       "4  1.546236e+09  694437582  410638  417000  410612  414100    1281"
      ]
     },
     "execution_count": 2,
     "metadata": {},
     "output_type": "execute_result"
    }
   ],
   "source": [
    "file_list = [\n",
    "    \"../data/ohlcv/OHLCV_201901010000_to_201901070000.csv\",\n",
    "    \"../data/ohlcv/OHLCV_201901070001_to_201901080000.csv\",\n",
    "    \"../data/ohlcv/OHLCV_201901080001_to_201901090000.csv\",\n",
    "]\n",
    "\n",
    "df = None\n",
    "for fpath in file_list:\n",
    "    if df is None:\n",
    "        df = pd.read_csv(fpath, index_col=0)\n",
    "    else:\n",
    "        df_ = pd.read_csv(fpath, index_col=0)\n",
    "        df = pd.concat((df, df_))\n",
    "df.head()"
   ]
  },
  {
   "cell_type": "code",
   "execution_count": 3,
   "metadata": {
    "ExecuteTime": {
     "end_time": "2018-12-23T11:11:23.398253Z",
     "start_time": "2018-12-23T11:11:23.355255Z"
    }
   },
   "outputs": [
    {
     "data": {
      "text/html": [
       "<div>\n",
       "<style scoped>\n",
       "    .dataframe tbody tr th:only-of-type {\n",
       "        vertical-align: middle;\n",
       "    }\n",
       "\n",
       "    .dataframe tbody tr th {\n",
       "        vertical-align: top;\n",
       "    }\n",
       "\n",
       "    .dataframe thead th {\n",
       "        text-align: right;\n",
       "    }\n",
       "</style>\n",
       "<table border=\"1\" class=\"dataframe\">\n",
       "  <thead>\n",
       "    <tr style=\"text-align: right;\">\n",
       "      <th></th>\n",
       "      <th>time</th>\n",
       "      <th>close</th>\n",
       "      <th>high</th>\n",
       "      <th>low</th>\n",
       "      <th>open</th>\n",
       "      <th>volumefrom</th>\n",
       "      <th>volumeto</th>\n",
       "    </tr>\n",
       "  </thead>\n",
       "  <tbody>\n",
       "    <tr>\n",
       "      <th>2875</th>\n",
       "      <td>2019-01-05T11:56:00.000000</td>\n",
       "      <td>416525</td>\n",
       "      <td>416654</td>\n",
       "      <td>416500</td>\n",
       "      <td>416642</td>\n",
       "      <td>62.71</td>\n",
       "      <td>26121115.78</td>\n",
       "    </tr>\n",
       "    <tr>\n",
       "      <th>2876</th>\n",
       "      <td>2019-01-05T11:57:00.000000</td>\n",
       "      <td>416636</td>\n",
       "      <td>416739</td>\n",
       "      <td>416504</td>\n",
       "      <td>416525</td>\n",
       "      <td>120.99</td>\n",
       "      <td>50410334.22</td>\n",
       "    </tr>\n",
       "    <tr>\n",
       "      <th>2877</th>\n",
       "      <td>2019-01-05T11:58:00.000000</td>\n",
       "      <td>416716</td>\n",
       "      <td>416847</td>\n",
       "      <td>416636</td>\n",
       "      <td>416636</td>\n",
       "      <td>126.07</td>\n",
       "      <td>52540113.96</td>\n",
       "    </tr>\n",
       "    <tr>\n",
       "      <th>2878</th>\n",
       "      <td>2019-01-05T11:59:00.000000</td>\n",
       "      <td>416701</td>\n",
       "      <td>416750</td>\n",
       "      <td>416555</td>\n",
       "      <td>416716</td>\n",
       "      <td>74.11</td>\n",
       "      <td>30879185.11</td>\n",
       "    </tr>\n",
       "    <tr>\n",
       "      <th>2879</th>\n",
       "      <td>2019-01-05T12:00:00.000000</td>\n",
       "      <td>416874</td>\n",
       "      <td>416940</td>\n",
       "      <td>416686</td>\n",
       "      <td>416701</td>\n",
       "      <td>134.74</td>\n",
       "      <td>56163371.04</td>\n",
       "    </tr>\n",
       "  </tbody>\n",
       "</table>\n",
       "</div>"
      ],
      "text/plain": [
       "                            time   close    high     low    open  volumefrom  \\\n",
       "2875  2019-01-05T11:56:00.000000  416525  416654  416500  416642       62.71   \n",
       "2876  2019-01-05T11:57:00.000000  416636  416739  416504  416525      120.99   \n",
       "2877  2019-01-05T11:58:00.000000  416716  416847  416636  416636      126.07   \n",
       "2878  2019-01-05T11:59:00.000000  416701  416750  416555  416716       74.11   \n",
       "2879  2019-01-05T12:00:00.000000  416874  416940  416686  416701      134.74   \n",
       "\n",
       "         volumeto  \n",
       "2875  26121115.78  \n",
       "2876  50410334.22  \n",
       "2877  52540113.96  \n",
       "2878  30879185.11  \n",
       "2879  56163371.04  "
      ]
     },
     "execution_count": 3,
     "metadata": {},
     "output_type": "execute_result"
    }
   ],
   "source": [
    "df.tail()"
   ]
  },
  {
   "cell_type": "code",
   "execution_count": 4,
   "metadata": {},
   "outputs": [
    {
     "data": {
      "text/plain": [
       "17059"
      ]
     },
     "execution_count": 4,
     "metadata": {},
     "output_type": "execute_result"
    }
   ],
   "source": [
    "len(df)"
   ]
  },
  {
   "cell_type": "markdown",
   "metadata": {},
   "source": [
    "## 計算"
   ]
  },
  {
   "cell_type": "code",
   "execution_count": 21,
   "metadata": {},
   "outputs": [
    {
     "name": "stdout",
     "output_type": "stream",
     "text": [
      "0.7989482879638672\n"
     ]
    }
   ],
   "source": [
    "import time\n",
    "\n",
    "N_dec = 5\n",
    "N1 = 20\n",
    "N2 = 21\n",
    "\n",
    "st = time.time()\n",
    "results = main(df, N1, N2, N_dec)\n",
    "print(time.time() - st)"
   ]
  },
  {
   "cell_type": "code",
   "execution_count": 22,
   "metadata": {},
   "outputs": [],
   "source": [
    "ema1 = results[\"ema1\"]\n",
    "ema2 = results[\"ema2\"]\n",
    "ema_diff = ema1 - ema2\n",
    "cross_points = results[\"cross_points\"]\n",
    "benefits = results[\"benefits\"]\n",
    "a_k = results[\"a_k\"]\n",
    "distance = results[\"distance_ext\"]\n",
    "dec_ext = results[\"dec_ext\"]"
   ]
  },
  {
   "cell_type": "code",
   "execution_count": 23,
   "metadata": {},
   "outputs": [
    {
     "data": {
      "text/plain": [
       "127621"
      ]
     },
     "execution_count": 23,
     "metadata": {},
     "output_type": "execute_result"
    }
   ],
   "source": [
    "-benefits[a_k[:, 1] == -1].sum() + benefits[a_k[:, 1] == 1].sum()"
   ]
  },
  {
   "cell_type": "markdown",
   "metadata": {},
   "source": [
    "## 平均のプロット"
   ]
  },
  {
   "cell_type": "code",
   "execution_count": 7,
   "metadata": {},
   "outputs": [
    {
     "data": {
      "image/png": "[encoded data removed]",
      "text/plain": [
       "<Figure size 720x360 with 2 Axes>"
      ]
     },
     "metadata": {
      "needs_background": "light"
     },
     "output_type": "display_data"
    }
   ],
   "source": [
    "stat_dead = results[\"stat_dead\"]\n",
    "stat_golden = results[\"stat_golden\"]\n",
    "\n",
    "plt.figure(figsize=(10,5))\n",
    "plt.subplot(121)\n",
    "plt.errorbar(np.arange(2**N_dec), stat_dead[:, 2], yerr=stat_dead[:, 3])\n",
    "plt.xlabel(\"dec\")\n",
    "plt.ylabel(\"mean of delta\")\n",
    "plt.title(\"After dead cross\")\n",
    "plt.xlim(-1, 2**N_dec)\n",
    "plt.ylim(-2500, 2500)\n",
    "plt.grid(True)\n",
    "\n",
    "plt.subplot(122)\n",
    "plt.errorbar(np.arange(2**N_dec), stat_golden[:, 2], yerr=stat_golden[:, 3])\n",
    "plt.xlabel(\"dec\")\n",
    "plt.ylabel(\"mean of delta\")\n",
    "plt.title(\"After golden cross\")\n",
    "plt.xlim(-1, 2**N_dec)\n",
    "plt.ylim(-2500, 2500)\n",
    "plt.grid(True)\n",
    "\n",
    "plt.tight_layout()"
   ]
  },
  {
   "cell_type": "code",
   "execution_count": 30,
   "metadata": {},
   "outputs": [
    {
     "data": {
      "text/plain": [
       "(array([ 0,  1,  3,  5,  6,  8,  9, 10, 12, 14, 16, 17, 18, 20, 21, 24, 28,\n",
       "        30]),\n",
       " array([ 3,  4,  5,  6,  7,  8, 10, 11, 14, 15, 19, 20, 21, 22, 23, 25, 26,\n",
       "        27, 29, 30, 31]))"
      ]
     },
     "execution_count": 30,
     "metadata": {},
     "output_type": "execute_result"
    }
   ],
   "source": [
    "threshold = 0\n",
    "dead_plus = np.arange(2**N_dec)[stat_dead[:, 2] < -threshold]\n",
    "golden_plus = np.arange(2**N_dec)[stat_golden[:, 2] > threshold]\n",
    "dead_plus, golden_plus"
   ]
  },
  {
   "cell_type": "markdown",
   "metadata": {},
   "source": [
    "## 箱ひげ図のプロット"
   ]
  },
  {
   "cell_type": "code",
   "execution_count": 6,
   "metadata": {},
   "outputs": [
    {
     "data": {
      "image/png": "[encoded data removed]",
      "text/plain": [
       "<Figure size 720x360 with 2 Axes>"
      ]
     },
     "metadata": {
      "needs_background": "light"
     },
     "output_type": "display_data"
    }
   ],
   "source": [
    "list_ext_dead = results[\"list_ext_dead\"]\n",
    "list_ext_golden = results[\"list_ext_golden\"]\n",
    "\n",
    "plt.figure(figsize=(10,5))\n",
    "plt.subplot(121)\n",
    "plt.boxplot(tuple(list_ext_dead))\n",
    "plt.xlabel(\"dec\")\n",
    "plt.ylabel(\"delta\")\n",
    "plt.title(\"After dead cross\")\n",
    "plt.xticks(np.arange(1, 2**N_dec+1, 2), np.arange(0, 2**N_dec, 2))\n",
    "# plt.xlim(-1, 2**N_dec)\n",
    "plt.ylim(-10000, 5000)\n",
    "plt.grid(True)\n",
    "\n",
    "plt.subplot(122)\n",
    "plt.boxplot(tuple(list_ext_golden))\n",
    "plt.xlabel(\"dec\")\n",
    "plt.ylabel(\"delta\")\n",
    "plt.title(\"After golden cross\")\n",
    "plt.xticks(np.arange(1, 2**N_dec+1, 2), np.arange(0, 2**N_dec, 2))\n",
    "# plt.xlim(-1, 2**N_dec)\n",
    "plt.ylim(-5000, 10000)\n",
    "plt.grid(True)\n",
    "\n",
    "plt.tight_layout()"
   ]
  },
  {
   "cell_type": "markdown",
   "metadata": {},
   "source": [
    "## 特定のパターンでのみ注文"
   ]
  },
  {
   "cell_type": "code",
   "execution_count": 36,
   "metadata": {
    "scrolled": true
   },
   "outputs": [
    {
     "name": "stdout",
     "output_type": "stream",
     "text": [
      "0 133592\n",
      "10 133592\n",
      "20 133592\n",
      "30 133326\n",
      "40 133326\n",
      "50 133196\n",
      "60 131918\n",
      "70 131918\n",
      "80 131918\n",
      "90 131918\n",
      "100 129939\n",
      "110 129939\n",
      "120 129939\n",
      "130 129454\n",
      "140 127567\n",
      "150 127567\n",
      "160 127567\n",
      "170 126423\n",
      "180 123806\n",
      "190 123806\n",
      "200 123806\n",
      "210 122790\n",
      "220 122790\n",
      "230 117352\n",
      "240 117352\n",
      "250 114604\n",
      "260 113831\n",
      "270 112770\n",
      "280 112770\n",
      "290 112770\n",
      "300 109837\n",
      "310 105906\n",
      "320 100483\n",
      "330 100483\n",
      "340 100483\n",
      "350 98437\n",
      "360 96657\n",
      "370 96291\n",
      "380 96291\n",
      "390 93990\n",
      "400 93990\n",
      "410 86766\n",
      "420 86766\n",
      "430 84658\n",
      "440 84658\n",
      "450 84658\n",
      "460 84658\n",
      "470 84658\n",
      "480 81798\n",
      "490 81798\n",
      "41.684778928756714\n"
     ]
    }
   ],
   "source": [
    "st = time.time()\n",
    "for threshold in range(0, 500, 10):\n",
    "    dead_plus = np.arange(2**N_dec)[stat_dead[:, 2] < -threshold]\n",
    "    golden_plus = np.arange(2**N_dec)[stat_golden[:, 2] > threshold]\n",
    "    results = main(df, N1, N2, N_dec, golden_plus, dead_plus)\n",
    "    benefits = results[\"benefits\"]\n",
    "    a_k = results[\"a_k\"]\n",
    "    print(threshold, -benefits[a_k[:, 1] == -1].sum() + benefits[a_k[:, 1] == 1].sum())\n",
    "print(time.time() - st)"
   ]
  },
  {
   "cell_type": "markdown",
   "metadata": {},
   "source": [
    "平均的にゼロより大きなものだけをピックアップすれば少しでも上げられる様子。"
   ]
  },
  {
   "cell_type": "markdown",
   "metadata": {},
   "source": [
    "## まとめ\n",
    "* 平均値がゼロより大きい場合のに注文を出すとよりプラスになる。"
   ]
  },
  {
   "cell_type": "code",
   "execution_count": null,
   "metadata": {},
   "outputs": [],
   "source": []
  }
 ],
 "metadata": {
  "kernelspec": {
   "display_name": "Python 3",
   "language": "python",
   "name": "python3"
  },
  "language_info": {
   "codemirror_mode": {
    "name": "ipython",
    "version": 3
   },
   "file_extension": ".py",
   "mimetype": "text/x-python",
   "name": "python",
   "nbconvert_exporter": "python",
   "pygments_lexer": "ipython3",
   "version": "3.7.1"
  },
  "toc": {
   "base_numbering": 1,
   "nav_menu": {},
   "number_sections": true,
   "sideBar": true,
   "skip_h1_title": false,
   "title_cell": "Table of Contents",
   "title_sidebar": "Contents",
   "toc_cell": false,
   "toc_position": {
    "height": "calc(100% - 180px)",
    "left": "10px",
    "top": "150px",
    "width": "259px"
   },
   "toc_section_display": true,
   "toc_window_display": true
  }
 },
 "nbformat": 4,
 "nbformat_minor": 2
}
