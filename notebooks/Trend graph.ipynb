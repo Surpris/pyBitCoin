{
 "cells": [
  {
   "cell_type": "markdown",
   "metadata": {},
   "source": [
    "# 目的\n",
    "トレンドグラフを確認する。できればどのタイミングでドロップするのか分かればうれしい。"
   ]
  },
  {
   "cell_type": "code",
   "execution_count": 1,
   "metadata": {
    "ExecuteTime": {
     "end_time": "2018-06-10T04:39:17.506070Z",
     "start_time": "2018-06-10T04:39:16.327795Z"
    }
   },
   "outputs": [],
   "source": [
    "import sys\n",
    "import pyBitCoin.pybitcoin as pybct\n",
    "import pickle\n",
    "import time\n",
    "import pandas as pd\n",
    "from pathlib import Path\n",
    "from datetime import datetime\n",
    "\n",
    "import matplotlib.pyplot as plt\n",
    "# from matplotlib.finance import candlestick_ohlc\n",
    "import mpl_finance\n",
    "%matplotlib inline"
   ]
  },
  {
   "cell_type": "markdown",
   "metadata": {},
   "source": [
    "# 時間足"
   ]
  },
  {
   "cell_type": "markdown",
   "metadata": {},
   "source": [
    "## データパス"
   ]
  },
  {
   "cell_type": "code",
   "execution_count": 2,
   "metadata": {
    "ExecuteTime": {
     "end_time": "2018-06-10T04:39:21.746795Z",
     "start_time": "2018-06-10T04:39:21.725798Z"
    }
   },
   "outputs": [
    {
     "data": {
      "text/plain": [
       "[WindowsPath('../data/hour/cccagg_BTC_JPY_2016010101_2018060100.csv')]"
      ]
     },
     "execution_count": 2,
     "metadata": {},
     "output_type": "execute_result"
    }
   ],
   "source": [
    "fldrpath = \"../data/hour/\"\n",
    "fobjlist = Path(fldrpath).glob(\"*cccagg*BTC*.csv\")\n",
    "filelist = [fpath for fpath in fobjlist]\n",
    "filelist"
   ]
  },
  {
   "cell_type": "code",
   "execution_count": 3,
   "metadata": {
    "ExecuteTime": {
     "end_time": "2018-06-10T04:39:24.573952Z",
     "start_time": "2018-06-10T04:39:24.288907Z"
    }
   },
   "outputs": [
    {
     "data": {
      "text/html": [
       "<div>\n",
       "<style scoped>\n",
       "    .dataframe tbody tr th:only-of-type {\n",
       "        vertical-align: middle;\n",
       "    }\n",
       "\n",
       "    .dataframe tbody tr th {\n",
       "        vertical-align: top;\n",
       "    }\n",
       "\n",
       "    .dataframe thead th {\n",
       "        text-align: right;\n",
       "    }\n",
       "</style>\n",
       "<table border=\"1\" class=\"dataframe\">\n",
       "  <thead>\n",
       "    <tr style=\"text-align: right;\">\n",
       "      <th></th>\n",
       "      <th>Unnamed: 0</th>\n",
       "      <th>time</th>\n",
       "      <th>close</th>\n",
       "      <th>high</th>\n",
       "      <th>low</th>\n",
       "      <th>open</th>\n",
       "      <th>volumefrom</th>\n",
       "      <th>volumeto</th>\n",
       "    </tr>\n",
       "  </thead>\n",
       "  <tbody>\n",
       "    <tr>\n",
       "      <th>0</th>\n",
       "      <td>0</td>\n",
       "      <td>1.450022e+09</td>\n",
       "      <td>53202.80</td>\n",
       "      <td>53350.64</td>\n",
       "      <td>52582.51</td>\n",
       "      <td>53277.34</td>\n",
       "      <td>382.56</td>\n",
       "      <td>20256708.65</td>\n",
       "    </tr>\n",
       "    <tr>\n",
       "      <th>1</th>\n",
       "      <td>1</td>\n",
       "      <td>1.450026e+09</td>\n",
       "      <td>53285.57</td>\n",
       "      <td>53378.29</td>\n",
       "      <td>53189.82</td>\n",
       "      <td>53202.80</td>\n",
       "      <td>47.20</td>\n",
       "      <td>2516806.36</td>\n",
       "    </tr>\n",
       "    <tr>\n",
       "      <th>2</th>\n",
       "      <td>2</td>\n",
       "      <td>1.450030e+09</td>\n",
       "      <td>53248.27</td>\n",
       "      <td>53284.25</td>\n",
       "      <td>53083.16</td>\n",
       "      <td>53285.57</td>\n",
       "      <td>35.02</td>\n",
       "      <td>1863775.60</td>\n",
       "    </tr>\n",
       "    <tr>\n",
       "      <th>3</th>\n",
       "      <td>3</td>\n",
       "      <td>1.450033e+09</td>\n",
       "      <td>53269.75</td>\n",
       "      <td>53290.36</td>\n",
       "      <td>53208.92</td>\n",
       "      <td>53248.27</td>\n",
       "      <td>61.53</td>\n",
       "      <td>3276303.41</td>\n",
       "    </tr>\n",
       "    <tr>\n",
       "      <th>4</th>\n",
       "      <td>4</td>\n",
       "      <td>1.450037e+09</td>\n",
       "      <td>53481.75</td>\n",
       "      <td>53558.30</td>\n",
       "      <td>53206.37</td>\n",
       "      <td>53269.75</td>\n",
       "      <td>84.47</td>\n",
       "      <td>4514708.95</td>\n",
       "    </tr>\n",
       "    <tr>\n",
       "      <th>5</th>\n",
       "      <td>5</td>\n",
       "      <td>1.450040e+09</td>\n",
       "      <td>52510.44</td>\n",
       "      <td>53459.54</td>\n",
       "      <td>52488.71</td>\n",
       "      <td>53481.75</td>\n",
       "      <td>162.88</td>\n",
       "      <td>8636677.47</td>\n",
       "    </tr>\n",
       "    <tr>\n",
       "      <th>6</th>\n",
       "      <td>6</td>\n",
       "      <td>1.450044e+09</td>\n",
       "      <td>52634.94</td>\n",
       "      <td>52938.08</td>\n",
       "      <td>52238.40</td>\n",
       "      <td>52510.44</td>\n",
       "      <td>157.76</td>\n",
       "      <td>8283598.32</td>\n",
       "    </tr>\n",
       "    <tr>\n",
       "      <th>7</th>\n",
       "      <td>7</td>\n",
       "      <td>1.450048e+09</td>\n",
       "      <td>53028.98</td>\n",
       "      <td>53053.37</td>\n",
       "      <td>52507.28</td>\n",
       "      <td>52634.94</td>\n",
       "      <td>195.95</td>\n",
       "      <td>10311093.60</td>\n",
       "    </tr>\n",
       "    <tr>\n",
       "      <th>8</th>\n",
       "      <td>8</td>\n",
       "      <td>1.450051e+09</td>\n",
       "      <td>52182.08</td>\n",
       "      <td>53116.55</td>\n",
       "      <td>51725.77</td>\n",
       "      <td>53028.98</td>\n",
       "      <td>489.44</td>\n",
       "      <td>25521304.69</td>\n",
       "    </tr>\n",
       "    <tr>\n",
       "      <th>9</th>\n",
       "      <td>9</td>\n",
       "      <td>1.450055e+09</td>\n",
       "      <td>52448.66</td>\n",
       "      <td>52528.79</td>\n",
       "      <td>52087.86</td>\n",
       "      <td>52182.08</td>\n",
       "      <td>224.32</td>\n",
       "      <td>11743540.42</td>\n",
       "    </tr>\n",
       "  </tbody>\n",
       "</table>\n",
       "</div>"
      ],
      "text/plain": [
       "   Unnamed: 0          time     close      high       low      open  \\\n",
       "0           0  1.450022e+09  53202.80  53350.64  52582.51  53277.34   \n",
       "1           1  1.450026e+09  53285.57  53378.29  53189.82  53202.80   \n",
       "2           2  1.450030e+09  53248.27  53284.25  53083.16  53285.57   \n",
       "3           3  1.450033e+09  53269.75  53290.36  53208.92  53248.27   \n",
       "4           4  1.450037e+09  53481.75  53558.30  53206.37  53269.75   \n",
       "5           5  1.450040e+09  52510.44  53459.54  52488.71  53481.75   \n",
       "6           6  1.450044e+09  52634.94  52938.08  52238.40  52510.44   \n",
       "7           7  1.450048e+09  53028.98  53053.37  52507.28  52634.94   \n",
       "8           8  1.450051e+09  52182.08  53116.55  51725.77  53028.98   \n",
       "9           9  1.450055e+09  52448.66  52528.79  52087.86  52182.08   \n",
       "\n",
       "   volumefrom     volumeto  \n",
       "0      382.56  20256708.65  \n",
       "1       47.20   2516806.36  \n",
       "2       35.02   1863775.60  \n",
       "3       61.53   3276303.41  \n",
       "4       84.47   4514708.95  \n",
       "5      162.88   8636677.47  \n",
       "6      157.76   8283598.32  \n",
       "7      195.95  10311093.60  \n",
       "8      489.44  25521304.69  \n",
       "9      224.32  11743540.42  "
      ]
     },
     "execution_count": 3,
     "metadata": {},
     "output_type": "execute_result"
    }
   ],
   "source": [
    "df = pd.read_csv(filelist[0], delimiter=\",\")\n",
    "df.head(10)"
   ]
  },
  {
   "cell_type": "code",
   "execution_count": 4,
   "metadata": {
    "ExecuteTime": {
     "end_time": "2018-06-10T04:39:26.691034Z",
     "start_time": "2018-06-10T04:39:26.644037Z"
    }
   },
   "outputs": [],
   "source": [
    "times = [datetime.fromtimestamp(tstamp) for tstamp in df[\"time\"].values]"
   ]
  }
 ],
 "metadata": {
  "kernelspec": {
   "display_name": "Python 3",
   "language": "python",
   "name": "python3"
  },
  "language_info": {
   "codemirror_mode": {
    "name": "ipython",
    "version": 3
   },
   "file_extension": ".py",
   "mimetype": "text/x-python",
   "name": "python",
   "nbconvert_exporter": "python",
   "pygments_lexer": "ipython3",
   "version": "3.6.5"
  },
  "toc": {
   "base_numbering": 1,
   "nav_menu": {},
   "number_sections": true,
   "sideBar": true,
   "skip_h1_title": false,
   "title_cell": "Table of Contents",
   "title_sidebar": "Contents",
   "toc_cell": false,
   "toc_position": {
    "height": "calc(100% - 180px)",
    "left": "10px",
    "top": "150px",
    "width": "259px"
   },
   "toc_section_display": true,
   "toc_window_display": true
  }
 },
 "nbformat": 4,
 "nbformat_minor": 2
}
